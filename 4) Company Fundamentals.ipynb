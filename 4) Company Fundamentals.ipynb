{
 "cells": [
  {
   "cell_type": "code",
   "execution_count": 2,
   "outputs": [
    {
     "name": "stdout",
     "output_type": "stream",
     "text": [
      "Start Time:  2020-07-21 11:53\n"
     ]
    },
    {
     "ename": "XLRDError",
     "evalue": "No sheet named <'GSK'>",
     "output_type": "error",
     "traceback": [
      "\u001B[0;31m---------------------------------------------------------------------------\u001B[0m",
      "\u001B[0;31mValueError\u001B[0m                                Traceback (most recent call last)",
      "\u001B[0;32m/usr/local/lib/python3.7/dist-packages/xlrd/book.py\u001B[0m in \u001B[0;36msheet_by_name\u001B[0;34m(self, sheet_name)\u001B[0m\n\u001B[1;32m    473\u001B[0m         \u001B[0;32mtry\u001B[0m\u001B[0;34m:\u001B[0m\u001B[0;34m\u001B[0m\u001B[0;34m\u001B[0m\u001B[0m\n\u001B[0;32m--> 474\u001B[0;31m             \u001B[0msheetx\u001B[0m \u001B[0;34m=\u001B[0m \u001B[0mself\u001B[0m\u001B[0;34m.\u001B[0m\u001B[0m_sheet_names\u001B[0m\u001B[0;34m.\u001B[0m\u001B[0mindex\u001B[0m\u001B[0;34m(\u001B[0m\u001B[0msheet_name\u001B[0m\u001B[0;34m)\u001B[0m\u001B[0;34m\u001B[0m\u001B[0;34m\u001B[0m\u001B[0m\n\u001B[0m\u001B[1;32m    475\u001B[0m         \u001B[0;32mexcept\u001B[0m \u001B[0mValueError\u001B[0m\u001B[0;34m:\u001B[0m\u001B[0;34m\u001B[0m\u001B[0;34m\u001B[0m\u001B[0m\n",
      "\u001B[0;31mValueError\u001B[0m: 'GSK' is not in list",
      "\nDuring handling of the above exception, another exception occurred:\n",
      "\u001B[0;31mXLRDError\u001B[0m                                 Traceback (most recent call last)",
      "\u001B[0;32m<ipython-input-2-5f48ee01da0f>\u001B[0m in \u001B[0;36m<module>\u001B[0;34m\u001B[0m\n\u001B[1;32m     23\u001B[0m \u001B[0mprint\u001B[0m\u001B[0;34m(\u001B[0m\u001B[0;34m'Start Time: '\u001B[0m\u001B[0;34m,\u001B[0m \u001B[0mstartTime\u001B[0m\u001B[0;34m.\u001B[0m\u001B[0mstrftime\u001B[0m\u001B[0;34m(\u001B[0m\u001B[0;34m\"%Y-%m-%d %H:%M\"\u001B[0m\u001B[0;34m)\u001B[0m\u001B[0;34m)\u001B[0m\u001B[0;34m\u001B[0m\u001B[0;34m\u001B[0m\u001B[0m\n\u001B[1;32m     24\u001B[0m \u001B[0;31m#================================================================\u001B[0m\u001B[0;34m\u001B[0m\u001B[0;34m\u001B[0m\u001B[0;34m\u001B[0m\u001B[0m\n\u001B[0;32m---> 25\u001B[0;31m \u001B[0maSeleniumBrowserDriver\u001B[0m \u001B[0;34m=\u001B[0m \u001B[0mcreateBarChartExcel\u001B[0m\u001B[0;34m.\u001B[0m\u001B[0mbuildExcelFile\u001B[0m\u001B[0;34m(\u001B[0m\u001B[0maStock\u001B[0m\u001B[0;34m,\u001B[0m \u001B[0mstartday\u001B[0m\u001B[0;34m,\u001B[0m \u001B[0mtheExpiryDateText\u001B[0m \u001B[0;34m)\u001B[0m\u001B[0;34m\u001B[0m\u001B[0;34m\u001B[0m\u001B[0m\n\u001B[0m\u001B[1;32m     26\u001B[0m \u001B[0;34m\u001B[0m\u001B[0m\n\u001B[1;32m     27\u001B[0m \u001B[0;31m#================================================================\u001B[0m\u001B[0;34m\u001B[0m\u001B[0;34m\u001B[0m\u001B[0;34m\u001B[0m\u001B[0m\n",
      "\u001B[0;32m~/jupyter/local-packages/localUtilities/ibUtils/buildCompanyFundamentalFromBarChart.py\u001B[0m in \u001B[0;36mbuildExcelFile\u001B[0;34m(aStock, startday, theExpiryDateText)\u001B[0m\n\u001B[1;32m     83\u001B[0m                           \u001B[0;34m'/SummaryWeekOf-'\u001B[0m \u001B[0;34m+\u001B[0m \u001B[0mstartday\u001B[0m \u001B[0;34m+\u001B[0m \u001B[0mexcelSuffix\u001B[0m\u001B[0;34m\u001B[0m\u001B[0;34m\u001B[0m\u001B[0m\n\u001B[1;32m     84\u001B[0m     \u001B[0;31m# Need to use pd.ExcelFile to read in the file to manipulate\u001B[0m\u001B[0;34m\u001B[0m\u001B[0;34m\u001B[0m\u001B[0;34m\u001B[0m\u001B[0m\n\u001B[0;32m---> 85\u001B[0;31m     \u001B[0myahooEarningsDf_aSymbol_Sheet\u001B[0m \u001B[0;34m=\u001B[0m \u001B[0mpd\u001B[0m\u001B[0;34m.\u001B[0m\u001B[0mExcelFile\u001B[0m\u001B[0;34m(\u001B[0m\u001B[0minExcelFile\u001B[0m\u001B[0;34m)\u001B[0m\u001B[0;34m.\u001B[0m\u001B[0mparse\u001B[0m\u001B[0;34m(\u001B[0m\u001B[0maStock\u001B[0m\u001B[0;34m)\u001B[0m\u001B[0;34m\u001B[0m\u001B[0;34m\u001B[0m\u001B[0m\n\u001B[0m\u001B[1;32m     86\u001B[0m     \u001B[0;31m# Add the aStock sheet to our Company Info\u001B[0m\u001B[0;34m\u001B[0m\u001B[0;34m\u001B[0m\u001B[0;34m\u001B[0m\u001B[0m\n\u001B[1;32m     87\u001B[0m     yahooEarningsDf_aSymbol_Sheet.to_excel(writer, sheet_name= aStock+'-EarningsHistory',\n",
      "\u001B[0;32m/usr/local/lib/python3.7/dist-packages/pandas/io/excel.py\u001B[0m in \u001B[0;36mparse\u001B[0;34m(self, sheet_name, header, names, index_col, usecols, squeeze, converters, true_values, false_values, skiprows, nrows, na_values, parse_dates, date_parser, thousands, comment, skipfooter, convert_float, **kwds)\u001B[0m\n\u001B[1;32m    454\u001B[0m                                  \u001B[0mskipfooter\u001B[0m\u001B[0;34m=\u001B[0m\u001B[0mskipfooter\u001B[0m\u001B[0;34m,\u001B[0m\u001B[0;34m\u001B[0m\u001B[0;34m\u001B[0m\u001B[0m\n\u001B[1;32m    455\u001B[0m                                  \u001B[0mconvert_float\u001B[0m\u001B[0;34m=\u001B[0m\u001B[0mconvert_float\u001B[0m\u001B[0;34m,\u001B[0m\u001B[0;34m\u001B[0m\u001B[0;34m\u001B[0m\u001B[0m\n\u001B[0;32m--> 456\u001B[0;31m                                  **kwds)\n\u001B[0m\u001B[1;32m    457\u001B[0m \u001B[0;34m\u001B[0m\u001B[0m\n\u001B[1;32m    458\u001B[0m     \u001B[0;32mdef\u001B[0m \u001B[0m_should_parse\u001B[0m\u001B[0;34m(\u001B[0m\u001B[0mself\u001B[0m\u001B[0;34m,\u001B[0m \u001B[0mi\u001B[0m\u001B[0;34m,\u001B[0m \u001B[0musecols\u001B[0m\u001B[0;34m)\u001B[0m\u001B[0;34m:\u001B[0m\u001B[0;34m\u001B[0m\u001B[0;34m\u001B[0m\u001B[0m\n",
      "\u001B[0;32m/usr/local/lib/python3.7/dist-packages/pandas/io/excel.py\u001B[0m in \u001B[0;36m_parse_excel\u001B[0;34m(self, sheet_name, header, names, index_col, usecols, squeeze, dtype, true_values, false_values, skiprows, nrows, na_values, verbose, parse_dates, date_parser, thousands, comment, skipfooter, convert_float, **kwds)\u001B[0m\n\u001B[1;32m    605\u001B[0m \u001B[0;34m\u001B[0m\u001B[0m\n\u001B[1;32m    606\u001B[0m             \u001B[0;32mif\u001B[0m \u001B[0misinstance\u001B[0m\u001B[0;34m(\u001B[0m\u001B[0masheetname\u001B[0m\u001B[0;34m,\u001B[0m \u001B[0mcompat\u001B[0m\u001B[0;34m.\u001B[0m\u001B[0mstring_types\u001B[0m\u001B[0;34m)\u001B[0m\u001B[0;34m:\u001B[0m\u001B[0;34m\u001B[0m\u001B[0;34m\u001B[0m\u001B[0m\n\u001B[0;32m--> 607\u001B[0;31m                 \u001B[0msheet\u001B[0m \u001B[0;34m=\u001B[0m \u001B[0mself\u001B[0m\u001B[0;34m.\u001B[0m\u001B[0mbook\u001B[0m\u001B[0;34m.\u001B[0m\u001B[0msheet_by_name\u001B[0m\u001B[0;34m(\u001B[0m\u001B[0masheetname\u001B[0m\u001B[0;34m)\u001B[0m\u001B[0;34m\u001B[0m\u001B[0;34m\u001B[0m\u001B[0m\n\u001B[0m\u001B[1;32m    608\u001B[0m             \u001B[0;32melse\u001B[0m\u001B[0;34m:\u001B[0m  \u001B[0;31m# assume an integer if not a string\u001B[0m\u001B[0;34m\u001B[0m\u001B[0;34m\u001B[0m\u001B[0m\n\u001B[1;32m    609\u001B[0m                 \u001B[0msheet\u001B[0m \u001B[0;34m=\u001B[0m \u001B[0mself\u001B[0m\u001B[0;34m.\u001B[0m\u001B[0mbook\u001B[0m\u001B[0;34m.\u001B[0m\u001B[0msheet_by_index\u001B[0m\u001B[0;34m(\u001B[0m\u001B[0masheetname\u001B[0m\u001B[0;34m)\u001B[0m\u001B[0;34m\u001B[0m\u001B[0;34m\u001B[0m\u001B[0m\n",
      "\u001B[0;32m/usr/local/lib/python3.7/dist-packages/xlrd/book.py\u001B[0m in \u001B[0;36msheet_by_name\u001B[0;34m(self, sheet_name)\u001B[0m\n\u001B[1;32m    474\u001B[0m             \u001B[0msheetx\u001B[0m \u001B[0;34m=\u001B[0m \u001B[0mself\u001B[0m\u001B[0;34m.\u001B[0m\u001B[0m_sheet_names\u001B[0m\u001B[0;34m.\u001B[0m\u001B[0mindex\u001B[0m\u001B[0;34m(\u001B[0m\u001B[0msheet_name\u001B[0m\u001B[0;34m)\u001B[0m\u001B[0;34m\u001B[0m\u001B[0;34m\u001B[0m\u001B[0m\n\u001B[1;32m    475\u001B[0m         \u001B[0;32mexcept\u001B[0m \u001B[0mValueError\u001B[0m\u001B[0;34m:\u001B[0m\u001B[0;34m\u001B[0m\u001B[0;34m\u001B[0m\u001B[0m\n\u001B[0;32m--> 476\u001B[0;31m             \u001B[0;32mraise\u001B[0m \u001B[0mXLRDError\u001B[0m\u001B[0;34m(\u001B[0m\u001B[0;34m'No sheet named <%r>'\u001B[0m \u001B[0;34m%\u001B[0m \u001B[0msheet_name\u001B[0m\u001B[0;34m)\u001B[0m\u001B[0;34m\u001B[0m\u001B[0;34m\u001B[0m\u001B[0m\n\u001B[0m\u001B[1;32m    477\u001B[0m         \u001B[0;32mreturn\u001B[0m \u001B[0mself\u001B[0m\u001B[0;34m.\u001B[0m\u001B[0msheet_by_index\u001B[0m\u001B[0;34m(\u001B[0m\u001B[0msheetx\u001B[0m\u001B[0;34m)\u001B[0m\u001B[0;34m\u001B[0m\u001B[0;34m\u001B[0m\u001B[0m\n\u001B[1;32m    478\u001B[0m \u001B[0;34m\u001B[0m\u001B[0m\n",
      "\u001B[0;31mXLRDError\u001B[0m: No sheet named <'GSK'>"
     ]
    }
   ],
   "source": [
    "import sys\n",
    "# # # ------------------------\n",
    "# sys.path.append(\"/home/michael/pycharm/pycharm-2019.2.3/debug-eggs/pydevd-pycharm.egg\")\n",
    "#\n",
    "# import pydevd_pycharm\n",
    "# pydevd_pycharm.settrace('192.168.1.200', port=2222, stdoutToServer=True, stderrToServer=True)\n",
    "# ------------------------\n",
    "\n",
    "import datetime\n",
    "sys.path.append('/home/michael/jupyter/local-packages')\n",
    "\n",
    "from ibUtils import buildCompanyFundamentalFromBarChart as createBarChartExcel\n",
    "\n",
    "aStock = 'GSK'\n",
    "# theExpiryDateText = '2020-07-17-m'\n",
    "# theExpiryDateText = '2020-08-21-m'\n",
    "theExpiryDateText = '2020-07-24-w'\n",
    "\n",
    "startday = '2020-07-20'\n",
    "\n",
    "startTime = datetime.datetime.now()\n",
    "\n",
    "print('Start Time: ', startTime.strftime(\"%Y-%m-%d %H:%M\"))\n",
    "#================================================================\n",
    "aSeleniumBrowserDriver = createBarChartExcel.buildExcelFile(aStock, startday, theExpiryDateText )\n",
    "\n",
    "#================================================================\n",
    "endTime = datetime.datetime.now()\n",
    "\n",
    "print('End Time: ', endTime.strftime(\"%Y-%m-%d %H:%M\"))\n",
    "print('Elapsed Time: ', endTime - startTime )\n",
    "\n",
    "print('Now ->  ', datetime.datetime.now(), '\\nDone')"
   ],
   "metadata": {
    "collapsed": false,
    "pycharm": {
     "name": "#%%\n"
    }
   }
  },
  {
   "cell_type": "code",
   "execution_count": 3,
   "outputs": [],
   "source": [
    "# Close the Browser\n",
    "aSeleniumBrowserDriver.close()\n"
   ],
   "metadata": {
    "collapsed": false,
    "pycharm": {
     "name": "#%%\n"
    }
   }
  },
  {
   "cell_type": "code",
   "execution_count": null,
   "outputs": [],
   "source": [
    "\n"
   ],
   "metadata": {
    "collapsed": false,
    "pycharm": {
     "name": "#%%\n"
    }
   }
  }
 ],
 "metadata": {
  "kernelspec": {
   "name": "pycharm-cf45a016",
   "language": "python",
   "display_name": "PyCharm (getEarningsFromYahoo)"
  },
  "language_info": {
   "codemirror_mode": {
    "name": "ipython",
    "version": 2
   },
   "file_extension": ".py",
   "mimetype": "text/x-python",
   "name": "python",
   "nbconvert_exporter": "python",
   "pygments_lexer": "ipython2",
   "version": "2.7.6"
  }
 },
 "nbformat": 4,
 "nbformat_minor": 0
}