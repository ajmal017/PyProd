{
 "cells": [
  {
   "cell_type": "code",
   "execution_count": 4,
   "outputs": [
    {
     "ename": "TypeError",
     "evalue": "'method' object is not subscriptable",
     "output_type": "error",
     "traceback": [
      "\u001B[0;31m---------------------------------------------------------------------------\u001B[0m",
      "\u001B[0;31mTypeError\u001B[0m                                 Traceback (most recent call last)",
      "\u001B[0;32m<ipython-input-4-7a2e56ef0ddb>\u001B[0m in \u001B[0;36m<module>\u001B[0;34m\u001B[0m\n\u001B[1;32m     30\u001B[0m \u001B[0;31m# get the init(...) info\u001B[0m\u001B[0;34m\u001B[0m\u001B[0;34m\u001B[0m\u001B[0;34m\u001B[0m\u001B[0m\n\u001B[1;32m     31\u001B[0m \u001B[0;34m\u001B[0m\u001B[0m\n\u001B[0;32m---> 32\u001B[0;31m \u001B[0minitPageVars\u001B[0m \u001B[0;34m=\u001B[0m \u001B[0msoup\u001B[0m\u001B[0;34m.\u001B[0m\u001B[0mfind_all\u001B[0m\u001B[0;34m[\u001B[0m\u001B[0;34m'class'\u001B[0m\u001B[0;34m,\u001B[0m \u001B[0;34m\"bc-analyst-rating-pie.chart-wrapper\"\u001B[0m\u001B[0;34m]\u001B[0m\u001B[0;34m\u001B[0m\u001B[0;34m\u001B[0m\u001B[0m\n\u001B[0m\u001B[1;32m     33\u001B[0m \u001B[0minitPageVars\u001B[0m\u001B[0;34m\u001B[0m\u001B[0;34m\u001B[0m\u001B[0m\n",
      "\u001B[0;31mTypeError\u001B[0m: 'method' object is not subscriptable"
     ]
    }
   ],
   "source": [
    "# Chrome linux User Agent\n",
    "headers = {'user-agent': 'Mozilla/5.0 (X11; Linux x86_64) AppleWebKit/537.36 (KHTML, like Gecko) Chrome/81.0.4044.138 Safari/537.36'}\n",
    "\n",
    "\n",
    "import requests\n",
    "from bs4 import BeautifulSoup\n",
    "import sys\n",
    "sys.path.append('/home/michael/jupyter/local-packages')\n",
    "import json\n",
    "import pandas as pd\n",
    "\n",
    "# Creating an empty Dataframe with column names only\n",
    "companyInfoDF = pd.DataFrame(\n",
    "    columns=['symbol','symbolName','symbolType','lastPrice','priceChange','percentChange','bidPrice','askPrice','bidSize','askSize',\n",
    "             'tradeTime','lastPriceExt','priceChangeExt','percentChangeExt','tradeTimeExt','contractName','daysToContractExpiration',\n",
    "             'symbolCode','exchange','sicIndustry','sessionDateDisplayLong','shouldUpdate'])\n",
    "\n",
    "#   not 100% clear which variables this supresses\n",
    "from IPython.core.interactiveshell import InteractiveShell\n",
    "InteractiveShell.ast_node_interactivity = \"all\"\n",
    "\n",
    "# Get the page and pull in the HTML\n",
    "s = requests.Session()\n",
    "aURL = \"http://www.barchart.com/stocks/quotes/BAC/overview\"\n",
    "r = s.get(aURL, headers = headers)\n",
    "s.close()\n",
    "src = r.content\n",
    "soup = BeautifulSoup(src, 'html.parser')\n",
    "\n",
    "# get the init(...) info\n",
    "\n",
    "initPageVars = soup.find_all['class', \"bc-analyst-rating-pie.chart-wrapper\"]\n",
    "initPageVars"
   ],
   "metadata": {
    "collapsed": false,
    "pycharm": {
     "name": "#%%\n"
    }
   }
  },
  {
   "cell_type": "code",
   "execution_count": null,
   "outputs": [],
   "source": [
    "# parse out the class \"bc-quote-overview\" data\n",
    "initPageVarsAttrs = initPageVars.attrs\n",
    "# get the data in the init(...) section\n",
    "initStr = initPageVarsAttrs.get('data-ng-init')\n",
    "initStr\n"
   ],
   "metadata": {
    "collapsed": false,
    "pycharm": {
     "name": "#%%\n"
    }
   }
  },
  {
   "cell_type": "code",
   "execution_count": null,
   "outputs": [],
   "source": [
    "# Split out the header \"init(\" - use remaining data in initStrSplit[1] / throw out initStrSplit[0]\n",
    "initStrSplitFront = initStr.split(',', 1)\n",
    "#Split out the \")\" at the end of initStrSplit[1]\n",
    "initStrSplitFront[1]\n",
    "\n",
    "justInitDataReversed = \"\".join(reversed(initStrSplitFront[1]))\n",
    "justInitDataReversed = justInitDataReversed.split('}', 1)\n",
    "justInitData = \"\".join(reversed(justInitDataReversed[1]))\n",
    "justInitData = justInitData.split(('},'))\n",
    "justInitData[0]\n",
    "justInitData[1]\n",
    "justInitData[2]\n",
    "\n",
    "getRawData = justInitData[2].split(',\"raw\":', 1)\n",
    "getRawData[0]\n",
    "getRawData[1]\n",
    "\n",
    "companyInfoDict = json.loads(getRawData[1])\n",
    "companyInfoDict"
   ],
   "metadata": {
    "collapsed": false,
    "pycharm": {
     "name": "#%%\n"
    }
   }
  },
  {
   "cell_type": "code",
   "execution_count": null,
   "outputs": [],
   "source": [
    "companyInfoDict = json.loads(justInitData[0])\n",
    "companyInfoDict\n",
    "\n",
    "\n",
    "\n",
    "# Split out the header \"init(\" - use remaining data in initStrSplit[1] / throw out initStrSplit[0]\n",
    "initStrSplitFront = initStr.split('(', 1)\n",
    "#Split out the \")\" at the end of initStrSplit[1]\n",
    "initStrSplitFront[1]\n",
    "\n",
    "\n",
    "initStrSplitEnd = initStrSplitFront[1].split(')', 1)\n",
    "initStrSplitEnd[0]\n",
    "\n",
    "#\n",
    "# companyInfoDict = json.loads(initStrSplitEnd[0])\n",
    "# companyInfoDict"
   ],
   "metadata": {
    "collapsed": false,
    "pycharm": {
     "name": "#%%\n"
    }
   }
  },
  {
   "cell_type": "code",
   "execution_count": null,
   "outputs": [],
   "source": [
    "# parse out the class \"bc-quote-overview\" data\n",
    "initPageVarsAttrs = initPageVars.attrs\n",
    "# get the data in the init(...) section\n",
    "initStr = initPageVarsAttrs.get('data-ng-init')\n",
    "initStr\n",
    "\n",
    "# Split out the header \"init(\" - use remaining data in initStrSplit[1] / throw out initStrSplit[0]\n",
    "initStrSplitFront = initStr.split('(', 1)\n",
    "#Split out the \")\" at the end of initStrSplit[1]\n",
    "initStrSplitFront[1]\n",
    "initStrSplitEnd = initStrSplitFront[1].split(')', 1)\n",
    "initStrSplitEnd[0]\n",
    "\n",
    "\n",
    "companyInfoDict = json.loads(initStrSplitEnd[0])\n",
    "companyInfoDict\n",
    "print(companyInfoDict[\"sessionDateDisplayLong\"])\n",
    "type(companyInfoDict)\n",
    "# create DF from one <td> scrape data\n",
    "companyInfoDF = companyInfoDF.from_dict(companyInfoDict, orient='index')\n",
    "\n",
    "companyInfoDF"
   ],
   "metadata": {
    "collapsed": false,
    "pycharm": {
     "name": "#%%\n"
    }
   }
  },
  {
   "cell_type": "code",
   "execution_count": null,
   "outputs": [],
   "source": [
    "\n",
    "\n",
    "iii = initPageVars.attrs\n",
    "# x = soup.select_one(\"span.last-change\")\n",
    "# y = soup.select_one('span.symbol').text\n",
    "\n",
    "# z = soup.select_one(\"data-ng-show.highlightValue('lastPrice')\").text\n",
    "print('i= ', i)\n",
    "# print('ii= ', ii)\n",
    "print('iii= ', iii)\n",
    "iiii = iii.get('data-ng-init')\n",
    "\n",
    "print('iiii= ', iiii)\n",
    "\n",
    "x=iiii.split(',', 1)\n",
    "print('\\n\\nx[1] ---------- \\n', x[1], '\\n\\n')\n",
    "zz = \"\".join(reversed(x[1]))\n",
    "zz=zz.split('}', 1)\n",
    "zzz= \"\".join(reversed(zz[1]))\n",
    "\n",
    "print('zzzx ---------- \\n', zzz, '\\n\\n')\n",
    "\n",
    "\n",
    "zzz == x[1]\n",
    "\n",
    "\n",
    "d = json.loads(x[1])\n",
    "d\n",
    "\n",
    "#"
   ],
   "metadata": {
    "collapsed": false,
    "pycharm": {
     "name": "#%%\n"
    }
   }
  },
  {
   "cell_type": "code",
   "execution_count": null,
   "outputs": [],
   "source": [
    "def rchop(s, sub):\n",
    "    return s[:-len(sub)] if s.endswith(sub) else s\n",
    "\n",
    "def lchop(s, sub):\n",
    "    return s[len(sub):] if s.startswith(sub) else s\n"
   ],
   "metadata": {
    "collapsed": false,
    "pycharm": {
     "name": "#%%\n"
    }
   }
  },
  {
   "cell_type": "code",
   "execution_count": null,
   "outputs": [],
   "source": [
    "\n"
   ],
   "metadata": {
    "collapsed": false,
    "pycharm": {
     "name": "#%%\n"
    }
   }
  }
 ],
 "metadata": {
  "kernelspec": {
   "name": "pycharm-cf45a016",
   "language": "python",
   "display_name": "PyCharm (getEarningsFromYahoo)"
  },
  "language_info": {
   "codemirror_mode": {
    "name": "ipython",
    "version": 2
   },
   "file_extension": ".py",
   "mimetype": "text/x-python",
   "name": "python",
   "nbconvert_exporter": "python",
   "pygments_lexer": "ipython2",
   "version": "2.7.6"
  },
  "pycharm": {
   "stem_cell": {
    "cell_type": "raw",
    "source": [
     "\n"
    ],
    "metadata": {
     "collapsed": false
    }
   }
  }
 },
 "nbformat": 4,
 "nbformat_minor": 0
}