{
 "cells": [
  {
   "cell_type": "code",
   "execution_count": 1,
   "metadata": {
    "collapsed": true
   },
   "outputs": [
    {
     "data": {
      "text/plain": "['2020-05-29-w',\n '2020-06-05-w',\n '2020-06-12-w',\n '2020-06-19-m',\n '2020-06-26-w',\n '2020-07-03-w',\n '2020-07-10-w',\n '2020-07-17-m',\n '2020-07-24-w',\n '2020-07-31-w',\n '2020-08-07-w',\n '2020-08-14-w',\n '2020-08-21-m',\n '2020-08-28-w',\n '2020-09-04-w',\n '2020-09-11-w',\n '2020-09-18-m',\n '2020-09-25-w',\n '2020-10-02-w',\n '2020-10-09-w']"
     },
     "execution_count": 1,
     "metadata": {},
     "output_type": "execute_result"
    }
   ],
   "source": [
    "import datetime\n",
    "import dateUtils\n",
    "\n",
    "from localUtilities import dateUtils\n",
    "\n",
    "\n",
    "from IPython.core.interactiveshell import InteractiveShell\n",
    "InteractiveShell.ast_node_interactivity = \"all\"\n",
    "\n",
    "aStr = dateUtils.getListOfFridayExpiryDate(15)\n",
    "aStr\n"
   ]
  },
  {
   "cell_type": "code",
   "execution_count": null,
   "outputs": [],
   "source": [
    "# get day multiple\n",
    "six_days = datetime.timedelta(days=6)\n",
    "dateCheck = datetime.date.today()\n",
    "theNextFriday = dateUtils.nextFriday(dateCheck)\n",
    "thisMonthsThirdFriday = dateUtils.third_friday(dateCheck.year, dateCheck.month)\n",
    "print('dateCheck:  ', dateCheck)\n",
    "print('theNextFriday:  ',  theNextFriday)\n",
    "print('thisMonthsThirdFriday:  ',  thisMonthsThirdFriday, '\\n')\n",
    "listOfDates = []\n",
    "for x in range(20):\n",
    "    print('\\ndateCheck:  ', dateCheck, '------')\n",
    "    if dateUtils.nextFriday(dateCheck) == dateUtils.third_friday(dateCheck.year, dateCheck.month):\n",
    "        aMStr = dateUtils.getDateStringDashSeprtors(dateUtils.nextFriday(dateCheck)) + '-m'\n",
    "        print('A Monthly Friday str:  ', aMStr)\n",
    "        listOfDates.append(aMStr)\n",
    "    else:\n",
    "        aWStr = dateUtils.getDateStringDashSeprtors(dateUtils.nextFriday(dateCheck)) + '-w'\n",
    "        print('Next Friday:  ',aWStr)\n",
    "        listOfDates.append(aWStr)\n",
    "    dateCheck = dateUtils.nextThursday(dateCheck + six_days)\n",
    "\n",
    "listOfDates\n",
    "\n"
   ],
   "metadata": {
    "collapsed": false,
    "pycharm": {
     "name": "#%%\n"
    }
   }
  },
  {
   "cell_type": "code",
   "execution_count": null,
   "outputs": [],
   "source": [
    "# today\n",
    "dateCheck = datetime.date.today()\n",
    "\n",
    "for x in range(10):\n",
    "    theNextFriday = dateUtils.nextFriday(dateCheck)\n",
    "    thisMonthsThirdFriday = dateUtils.third_friday(dateCheck.year, dateCheck.month)\n",
    "    if thisMonthsThirdFriday < theNextFriday:\n",
    "        suffixStr = \"-w\"\n",
    "        print(theNextFriday, suffixStr)\n",
    "        print('ThisMonthsThirdFriday < theNextFriday')"
   ],
   "metadata": {
    "collapsed": false,
    "pycharm": {
     "name": "#%%\n"
    }
   }
  },
  {
   "cell_type": "code",
   "execution_count": null,
   "outputs": [],
   "source": [
    "dateUtils.third_friday()\n",
    "\n",
    "\n",
    "\n",
    "# if past 3rd friday move calculation to next month\n",
    "if today > dateUtils.third_friday(today.year, today.month):\n",
    "    today = today + (one_day * 30)\n",
    "    expirySuffix = '-w'\n",
    "\n",
    "# go out about 18 months\n",
    "out18Months = today + (one_day * 548)\n",
    "\n",
    "expiries = []\n",
    "\n",
    "while today <= out18Months:\n",
    "    today = dateUtils.third_friday(today.year, today.month)\n",
    "    expiries.append(today.strftime(\"%b%d'%y\"))\n",
    "    today = today + (one_day * 20)\n",
    "\n"
   ],
   "metadata": {
    "collapsed": false,
    "pycharm": {
     "name": "#%%\n"
    }
   }
  }
 ],
 "metadata": {
  "kernelspec": {
   "name": "pycharm-cf45a016",
   "language": "python",
   "display_name": "PyCharm (getEarningsFromYahoo)"
  },
  "language_info": {
   "codemirror_mode": {
    "name": "ipython",
    "version": 2
   },
   "file_extension": ".py",
   "mimetype": "text/x-python",
   "name": "python",
   "nbconvert_exporter": "python",
   "pygments_lexer": "ipython2",
   "version": "2.7.6"
  }
 },
 "nbformat": 4,
 "nbformat_minor": 0
}