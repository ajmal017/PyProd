{
 "cells": [
  {
   "cell_type": "code",
   "execution_count": null,
   "outputs": [],
   "source": [],
   "metadata": {
    "collapsed": false,
    "pycharm": {
     "name": "#%%\n"
    }
   }
  },
  {
   "cell_type": "code",
   "execution_count": 45,
   "outputs": [
    {
     "name": "stdout",
     "output_type": "stream",
     "text": [
      "i=  <div class=\"bc-quote-overview row\" data-ng-controller=\"QuoteOverview.quoteOverviewCtrl\" data-ng-init='init(\"C\",{\"lowPrice\":\"Low\",\"openPrice\":\"Open\",\"highPrice\":\"High\",\"lastPrice\":\"Last\",\"previousPrice\":\"Previous Close\",\"volume\":\"Volume\",\"averageVolume\":\"Avg Vol\",\"stochasticK14d\":\"Stochastic %K\",\"weightedAlpha\":\"Weighted Alpha\",\"priceChange5d\":\"5-Day Change\",\"lowPrice1y\":\"52-Week Range\"},{\"lowPrice\":\"45.26\",\"highPrice\":\"46.42\",\"openPrice\":\"45.32\",\"lastPrice\":\"46.32\",\"labelLow\":\"Day Low\",\"labelHigh\":\"Day High\"},{\"previousPrice\":\"44.64\",\"volume\":\"22,919,000\",\"averageVolume\":\"30,087,844\",\"stochasticK14d\":\"37.23%\",\"weightedAlpha\":\"-40.00\",\"priceChange5d\":\"+0.80 (+1.76%)\",\"lowPrice1y\":\"32.00 - 83.11\",\"highPrice1y\":\"83.11\",\"raw\":{\"lowPrice\":45.26,\"openPrice\":45.32,\"highPrice\":46.42,\"lastPrice\":46.32,\"previousPrice\":44.64,\"volume\":22919000,\"averageVolume\":30087844,\"stochasticK14d\":37.23,\"weightedAlpha\":-40,\"priceChange5d\":0.8,\"percentChange5d\":0.0176,\"lowPrice1y\":32,\"highPrice1y\":83.11}}, \"1\", \"1\", \"1\")'> <div class=\"small-12 large-5 column\"> <div class=\"bc-quote-row-chart\" data-ng-cloak=\"\"> <div class=\"row\"> <div class=\"small-6 column\"> <div>[[ rowChartData.labelLow ]]</div> <div class=\"inline\" data-ng-show=\"rowChartData.lowPriceFormatted\">[[ rowChartData.lowPriceFormatted ]]</div> <div class=\"inline\" data-ng-class=\"highlightValue('lowPrice')\" data-ng-show=\"!rowChartData.lowPriceFormatted\">[[ rowChartData.lowPrice ]]</div> </div> <div class=\"small-6 column text-right\"> <div>[[ rowChartData.labelHigh ]]</div> <div class=\"inline\" data-ng-show=\"rowChartData.highPriceFormatted\">[[ rowChartData.highPriceFormatted ]]</div> <div class=\"inline\" data-ng-class=\"highlightValue('highPrice')\" data-ng-show=\"!rowChartData.highPriceFormatted\">[[ rowChartData.highPrice ]]</div> </div> </div> <barchart-row-chart data-approach=\"chart.rowChartWidth\" data-mark=\"chart.rowChartMark\" data-mark-text=\"'Open'\" data-mark-value=\"rowChartData.openPrice\"></barchart-row-chart> <div class=\"row row-chart-since\" data-ng-if=\"rowChartData.lowDate &amp;&amp; rowChartData.highDate\"> <div class=\"small-6 column\"> since [[ rowChartData.lowDate ]] </div> <div class=\"small-6 column text-right\"> since [[ rowChartData.highDate ]] </div> </div> </div> <div class=\"bc-quote-financial-data\" data-ng-cloak=\"\" data-ng-if=\"financialData\"> <div class=\"financial-data-row\" data-ng-if=\"fieldTitles[key]\" data-ng-repeat=\"(key,value) in financialData\"> <span data-ng-bind-html=\"fieldTitles[key]\"></span> <span class=\"right\" data-ng-class=\"highlightValue('[[ key ]]')\" data-ng-show=\"key != 'source'\"> <span data-ng-class=\"setColor(value)\" data-ng-if=\"key==='priceChange5d' || key === 'weightedAlpha'\">[[ value ]]</span> <span data-ng-if=\"key!=='priceChange5d' &amp;&amp; key !== 'weightedAlpha'\">[[ value ]]</span> </span> <span class=\"right\" data-ng-show=\"key === 'source'\"> <span data-ng-bind-html=\"value\"></span> </span> </div> </div> </div> <div class=\"small-12 large-7 column\" data-ng-controller=\"QuoteOverview.ChartCtrl as ctrl\"> <div class=\"bc-quote-overview-highcharts-chart\" data-ng-if=\"ctrl.defaultPeriod\"> <quote-overview-quick-settings data-default-period=\"[[ ::ctrl.defaultPeriod ]]\" data-is-future=\"false\" data-on-period-changed=\"ctrl.periodChanged(periodData)\" data-symbol=\"C\"> </quote-overview-quick-settings> <a class=\"bc-button small white-with-border right\" data-bc-full-chart-link=\"\" data-default-chart=\"interactive\" data-sector=\"stocks\" data-symbol=\"C\" target=\"_self\"> Full Chart </a> <a bc-modal-login=\"preferences\" class=\"bc-button white-with-border small settings-button right\" href=\"https://www.barchart.com/my/site-preferences?state=overviewCharts\" target=\"_self\"> <i class=\"bc-glyph-cog\"></i> </a> <div class=\"bc-quote-overview-highcharts-chart__inner-wrapper\"> <a data-bc-full-chart-link=\"\" data-default-chart=\"interactive\" data-sector=\"stocks\" data-symbol=\"C\" target=\"_self\"> <simple-chart class=\"quote-overview-symbol-chart\" data-aggregation-size=\"[[ ctrl.defaultAggregation.size ]]\" data-aggregation-unit=\"[[ ctrl.defaultAggregation.unit ]]\" data-attributes='[\"ChangeBased\"]' data-force-ticks-visible=\"true\" data-ignore-period-initialization=\"true\" data-line-width=\"1\" data-period=\"[[ ctrl.defaultPeriod ]]\" data-primary-color=\"#EF4226\" data-secondary-color=\"#00B04B\" data-style=\"OHLC\" data-symbol=\"C\" data-vary-color-per-bar=\" true \" data-x-axis-crosshair-enabled=\"true\" data-x-axis-equidistant=\"true\" data-x-axis-gridlines-visible=\"false\" data-y-axis-crosshair-enabled=\"true\" data-y-axis-gridlines-color=\"#E2E2E2\" data-y-axis-show-last=\"true\" data-y-axis-visible=\"true\"></simple-chart> </a> </div> </div> </div> </div>\n",
      "iii=  {'class': ['bc-quote-overview', 'row'], 'data-ng-controller': 'QuoteOverview.quoteOverviewCtrl', 'data-ng-init': 'init(\"C\",{\"lowPrice\":\"Low\",\"openPrice\":\"Open\",\"highPrice\":\"High\",\"lastPrice\":\"Last\",\"previousPrice\":\"Previous Close\",\"volume\":\"Volume\",\"averageVolume\":\"Avg Vol\",\"stochasticK14d\":\"Stochastic %K\",\"weightedAlpha\":\"Weighted Alpha\",\"priceChange5d\":\"5-Day Change\",\"lowPrice1y\":\"52-Week Range\"},{\"lowPrice\":\"45.26\",\"highPrice\":\"46.42\",\"openPrice\":\"45.32\",\"lastPrice\":\"46.32\",\"labelLow\":\"Day Low\",\"labelHigh\":\"Day High\"},{\"previousPrice\":\"44.64\",\"volume\":\"22,919,000\",\"averageVolume\":\"30,087,844\",\"stochasticK14d\":\"37.23%\",\"weightedAlpha\":\"-40.00\",\"priceChange5d\":\"+0.80 (+1.76%)\",\"lowPrice1y\":\"32.00 - 83.11\",\"highPrice1y\":\"83.11\",\"raw\":{\"lowPrice\":45.26,\"openPrice\":45.32,\"highPrice\":46.42,\"lastPrice\":46.32,\"previousPrice\":44.64,\"volume\":22919000,\"averageVolume\":30087844,\"stochasticK14d\":37.23,\"weightedAlpha\":-40,\"priceChange5d\":0.8,\"percentChange5d\":0.0176,\"lowPrice1y\":32,\"highPrice1y\":83.11}}, \"1\", \"1\", \"1\")'}\n",
      "iiii=  init(\"C\",{\"lowPrice\":\"Low\",\"openPrice\":\"Open\",\"highPrice\":\"High\",\"lastPrice\":\"Last\",\"previousPrice\":\"Previous Close\",\"volume\":\"Volume\",\"averageVolume\":\"Avg Vol\",\"stochasticK14d\":\"Stochastic %K\",\"weightedAlpha\":\"Weighted Alpha\",\"priceChange5d\":\"5-Day Change\",\"lowPrice1y\":\"52-Week Range\"},{\"lowPrice\":\"45.26\",\"highPrice\":\"46.42\",\"openPrice\":\"45.32\",\"lastPrice\":\"46.32\",\"labelLow\":\"Day Low\",\"labelHigh\":\"Day High\"},{\"previousPrice\":\"44.64\",\"volume\":\"22,919,000\",\"averageVolume\":\"30,087,844\",\"stochasticK14d\":\"37.23%\",\"weightedAlpha\":\"-40.00\",\"priceChange5d\":\"+0.80 (+1.76%)\",\"lowPrice1y\":\"32.00 - 83.11\",\"highPrice1y\":\"83.11\",\"raw\":{\"lowPrice\":45.26,\"openPrice\":45.32,\"highPrice\":46.42,\"lastPrice\":46.32,\"previousPrice\":44.64,\"volume\":22919000,\"averageVolume\":30087844,\"stochasticK14d\":37.23,\"weightedAlpha\":-40,\"priceChange5d\":0.8,\"percentChange5d\":0.0176,\"lowPrice1y\":32,\"highPrice1y\":83.11}}, \"1\", \"1\", \"1\")\n",
      "\n",
      "\n",
      "x[1] ---------- \n",
      " {\"lowPrice\":\"Low\",\"openPrice\":\"Open\",\"highPrice\":\"High\",\"lastPrice\":\"Last\",\"previousPrice\":\"Previous Close\",\"volume\":\"Volume\",\"averageVolume\":\"Avg Vol\",\"stochasticK14d\":\"Stochastic %K\",\"weightedAlpha\":\"Weighted Alpha\",\"priceChange5d\":\"5-Day Change\",\"lowPrice1y\":\"52-Week Range\"},{\"lowPrice\":\"45.26\",\"highPrice\":\"46.42\",\"openPrice\":\"45.32\",\"lastPrice\":\"46.32\",\"labelLow\":\"Day Low\",\"labelHigh\":\"Day High\"},{\"previousPrice\":\"44.64\",\"volume\":\"22,919,000\",\"averageVolume\":\"30,087,844\",\"stochasticK14d\":\"37.23%\",\"weightedAlpha\":\"-40.00\",\"priceChange5d\":\"+0.80 (+1.76%)\",\"lowPrice1y\":\"32.00 - 83.11\",\"highPrice1y\":\"83.11\",\"raw\":{\"lowPrice\":45.26,\"openPrice\":45.32,\"highPrice\":46.42,\"lastPrice\":46.32,\"previousPrice\":44.64,\"volume\":22919000,\"averageVolume\":30087844,\"stochasticK14d\":37.23,\"weightedAlpha\":-40,\"priceChange5d\":0.8,\"percentChange5d\":0.0176,\"lowPrice1y\":32,\"highPrice1y\":83.11}}, \"1\", \"1\", \"1\") \n",
      "\n",
      "\n",
      "zzzx ---------- \n",
      " {\"lowPrice\":\"Low\",\"openPrice\":\"Open\",\"highPrice\":\"High\",\"lastPrice\":\"Last\",\"previousPrice\":\"Previous Close\",\"volume\":\"Volume\",\"averageVolume\":\"Avg Vol\",\"stochasticK14d\":\"Stochastic %K\",\"weightedAlpha\":\"Weighted Alpha\",\"priceChange5d\":\"5-Day Change\",\"lowPrice1y\":\"52-Week Range\"},{\"lowPrice\":\"45.26\",\"highPrice\":\"46.42\",\"openPrice\":\"45.32\",\"lastPrice\":\"46.32\",\"labelLow\":\"Day Low\",\"labelHigh\":\"Day High\"},{\"previousPrice\":\"44.64\",\"volume\":\"22,919,000\",\"averageVolume\":\"30,087,844\",\"stochasticK14d\":\"37.23%\",\"weightedAlpha\":\"-40.00\",\"priceChange5d\":\"+0.80 (+1.76%)\",\"lowPrice1y\":\"32.00 - 83.11\",\"highPrice1y\":\"83.11\",\"raw\":{\"lowPrice\":45.26,\"openPrice\":45.32,\"highPrice\":46.42,\"lastPrice\":46.32,\"previousPrice\":44.64,\"volume\":22919000,\"averageVolume\":30087844,\"stochasticK14d\":37.23,\"weightedAlpha\":-40,\"priceChange5d\":0.8,\"percentChange5d\":0.0176,\"lowPrice1y\":32,\"highPrice1y\":83.11} \n",
      "\n",
      "\n"
     ]
    },
    {
     "data": {
      "text/plain": "False"
     },
     "execution_count": 45,
     "metadata": {},
     "output_type": "execute_result"
    },
    {
     "ename": "JSONDecodeError",
     "evalue": "Extra data: line 1 column 279 (char 278)",
     "output_type": "error",
     "traceback": [
      "\u001B[0;31m---------------------------------------------------------------------------\u001B[0m",
      "\u001B[0;31mJSONDecodeError\u001B[0m                           Traceback (most recent call last)",
      "\u001B[0;32m<ipython-input-45-b68ceda2bdd1>\u001B[0m in \u001B[0;36m<module>\u001B[0;34m\u001B[0m\n\u001B[1;32m     59\u001B[0m \u001B[0;34m\u001B[0m\u001B[0m\n\u001B[1;32m     60\u001B[0m \u001B[0;34m\u001B[0m\u001B[0m\n\u001B[0;32m---> 61\u001B[0;31m \u001B[0md\u001B[0m \u001B[0;34m=\u001B[0m \u001B[0mjson\u001B[0m\u001B[0;34m.\u001B[0m\u001B[0mloads\u001B[0m\u001B[0;34m(\u001B[0m\u001B[0mx\u001B[0m\u001B[0;34m[\u001B[0m\u001B[0;36m1\u001B[0m\u001B[0;34m]\u001B[0m\u001B[0;34m)\u001B[0m\u001B[0;34m\u001B[0m\u001B[0;34m\u001B[0m\u001B[0m\n\u001B[0m\u001B[1;32m     62\u001B[0m \u001B[0md\u001B[0m\u001B[0;34m\u001B[0m\u001B[0;34m\u001B[0m\u001B[0m\n\u001B[1;32m     63\u001B[0m \u001B[0;34m\u001B[0m\u001B[0m\n",
      "\u001B[0;32m/usr/lib/python3.7/json/__init__.py\u001B[0m in \u001B[0;36mloads\u001B[0;34m(s, encoding, cls, object_hook, parse_float, parse_int, parse_constant, object_pairs_hook, **kw)\u001B[0m\n\u001B[1;32m    346\u001B[0m             \u001B[0mparse_int\u001B[0m \u001B[0;32mis\u001B[0m \u001B[0;32mNone\u001B[0m \u001B[0;32mand\u001B[0m \u001B[0mparse_float\u001B[0m \u001B[0;32mis\u001B[0m \u001B[0;32mNone\u001B[0m \u001B[0;32mand\u001B[0m\u001B[0;34m\u001B[0m\u001B[0;34m\u001B[0m\u001B[0m\n\u001B[1;32m    347\u001B[0m             parse_constant is None and object_pairs_hook is None and not kw):\n\u001B[0;32m--> 348\u001B[0;31m         \u001B[0;32mreturn\u001B[0m \u001B[0m_default_decoder\u001B[0m\u001B[0;34m.\u001B[0m\u001B[0mdecode\u001B[0m\u001B[0;34m(\u001B[0m\u001B[0ms\u001B[0m\u001B[0;34m)\u001B[0m\u001B[0;34m\u001B[0m\u001B[0;34m\u001B[0m\u001B[0m\n\u001B[0m\u001B[1;32m    349\u001B[0m     \u001B[0;32mif\u001B[0m \u001B[0mcls\u001B[0m \u001B[0;32mis\u001B[0m \u001B[0;32mNone\u001B[0m\u001B[0;34m:\u001B[0m\u001B[0;34m\u001B[0m\u001B[0;34m\u001B[0m\u001B[0m\n\u001B[1;32m    350\u001B[0m         \u001B[0mcls\u001B[0m \u001B[0;34m=\u001B[0m \u001B[0mJSONDecoder\u001B[0m\u001B[0;34m\u001B[0m\u001B[0;34m\u001B[0m\u001B[0m\n",
      "\u001B[0;32m/usr/lib/python3.7/json/decoder.py\u001B[0m in \u001B[0;36mdecode\u001B[0;34m(self, s, _w)\u001B[0m\n\u001B[1;32m    338\u001B[0m         \u001B[0mend\u001B[0m \u001B[0;34m=\u001B[0m \u001B[0m_w\u001B[0m\u001B[0;34m(\u001B[0m\u001B[0ms\u001B[0m\u001B[0;34m,\u001B[0m \u001B[0mend\u001B[0m\u001B[0;34m)\u001B[0m\u001B[0;34m.\u001B[0m\u001B[0mend\u001B[0m\u001B[0;34m(\u001B[0m\u001B[0;34m)\u001B[0m\u001B[0;34m\u001B[0m\u001B[0;34m\u001B[0m\u001B[0m\n\u001B[1;32m    339\u001B[0m         \u001B[0;32mif\u001B[0m \u001B[0mend\u001B[0m \u001B[0;34m!=\u001B[0m \u001B[0mlen\u001B[0m\u001B[0;34m(\u001B[0m\u001B[0ms\u001B[0m\u001B[0;34m)\u001B[0m\u001B[0;34m:\u001B[0m\u001B[0;34m\u001B[0m\u001B[0;34m\u001B[0m\u001B[0m\n\u001B[0;32m--> 340\u001B[0;31m             \u001B[0;32mraise\u001B[0m \u001B[0mJSONDecodeError\u001B[0m\u001B[0;34m(\u001B[0m\u001B[0;34m\"Extra data\"\u001B[0m\u001B[0;34m,\u001B[0m \u001B[0ms\u001B[0m\u001B[0;34m,\u001B[0m \u001B[0mend\u001B[0m\u001B[0;34m)\u001B[0m\u001B[0;34m\u001B[0m\u001B[0;34m\u001B[0m\u001B[0m\n\u001B[0m\u001B[1;32m    341\u001B[0m         \u001B[0;32mreturn\u001B[0m \u001B[0mobj\u001B[0m\u001B[0;34m\u001B[0m\u001B[0;34m\u001B[0m\u001B[0m\n\u001B[1;32m    342\u001B[0m \u001B[0;34m\u001B[0m\u001B[0m\n",
      "\u001B[0;31mJSONDecodeError\u001B[0m: Extra data: line 1 column 279 (char 278)"
     ]
    }
   ],
   "source": [
    "# Chrome linux User Agent\n",
    "headers = {'user-agent': 'Mozilla/5.0 (X11; Linux x86_64) AppleWebKit/537.36 (KHTML, like Gecko) Chrome/81.0.4044.138 Safari/537.36'}\n",
    "def rchop(s, sub):\n",
    "    return s[:-len(sub)] if s.endswith(sub) else s\n",
    "\n",
    "def lchop(s, sub):\n",
    "    return s[len(sub):] if s.startswith(sub) else s\n",
    "\n",
    "import pandas as pd\n",
    "import numpy as np\n",
    "import requests\n",
    "from bs4 import BeautifulSoup\n",
    "import math\n",
    "import sys\n",
    "sys.path.append('/home/michael/jupyter/local-packages')\n",
    "from localUtilities import dateUtils\n",
    "import pandas as pd\n",
    "import datetime\n",
    "import json\n",
    "\n",
    "#   not 100% clear which variables this supresses\n",
    "from IPython.core.interactiveshell import InteractiveShell\n",
    "InteractiveShell.ast_node_interactivity = \"all\"\n",
    "\n",
    "s = requests.Session()\n",
    "aURL = \"http://www.barchart.com/stocks/quotes/C/overview\"\n",
    "r = s.get(aURL, headers = headers)\n",
    "s.close()\n",
    "\n",
    "src = r.content\n",
    "soup = BeautifulSoup(src, 'html.parser')\n",
    "\n",
    "# i = soup.find(\"div\", \"page-title symbol-header-info\")\n",
    "i = soup.find(\"div\", \"bc-quote-overview row\")\n",
    "\n",
    "# ii = i.get_attribute_list\n",
    "iii = i.attrs\n",
    "# x = soup.select_one(\"span.last-change\")\n",
    "# y = soup.select_one('span.symbol').text\n",
    "\n",
    "# z = soup.select_one(\"data-ng-show.highlightValue('lastPrice')\").text\n",
    "print('i= ', i)\n",
    "# print('ii= ', ii)\n",
    "print('iii= ', iii)\n",
    "iiii = iii.get('data-ng-init')\n",
    "\n",
    "print('iiii= ', iiii)\n",
    "\n",
    "x=iiii.split(',', 1)\n",
    "print('\\n\\nx[1] ---------- \\n', x[1], '\\n\\n')\n",
    "zz = \"\".join(reversed(x[1]))\n",
    "zz=zz.split('}', 1)\n",
    "zzz= \"\".join(reversed(zz[1]))\n",
    "\n",
    "print('zzzx ---------- \\n', zzz, '\\n\\n')\n",
    "\n",
    "\n",
    "zzz == x[1]\n",
    "\n",
    "\n",
    "d = json.loads(x[1])\n",
    "d\n",
    "\n",
    "#"
   ],
   "metadata": {
    "collapsed": false,
    "pycharm": {
     "name": "#%%\n"
    }
   }
  },
  {
   "cell_type": "code",
   "execution_count": 42,
   "outputs": [],
   "source": [
    "def rchop(s, sub):\n",
    "    return s[:-len(sub)] if s.endswith(sub) else s\n",
    "\n",
    "def lchop(s, sub):\n",
    "    return s[len(sub):] if s.startswith(sub) else s\n"
   ],
   "metadata": {
    "collapsed": false,
    "pycharm": {
     "name": "#%%\n"
    }
   }
  },
  {
   "cell_type": "code",
   "execution_count": null,
   "outputs": [],
   "source": [
    "\n"
   ],
   "metadata": {
    "collapsed": false,
    "pycharm": {
     "name": "#%%\n"
    }
   }
  }
 ],
 "metadata": {
  "kernelspec": {
   "name": "pycharm-cf45a016",
   "language": "python",
   "display_name": "PyCharm (getEarningsFromYahoo)"
  },
  "language_info": {
   "codemirror_mode": {
    "name": "ipython",
    "version": 2
   },
   "file_extension": ".py",
   "mimetype": "text/x-python",
   "name": "python",
   "nbconvert_exporter": "python",
   "pygments_lexer": "ipython2",
   "version": "2.7.6"
  }
 },
 "nbformat": 4,
 "nbformat_minor": 0
}