{
 "cells": [
  {
   "cell_type": "code",
   "execution_count": 1,
   "outputs": [],
   "source": [
    "# Chrome linux User Agent\n",
    "headers = {'user-agent': 'Mozilla/5.0 (X11; Linux x86_64) AppleWebKit/537.36 '\n",
    "                         '(KHTML, like Gecko) Chrome/81.0.4044.138 Safari/537.36'}\n",
    "import json\n",
    "import requests\n",
    "from bs4 import BeautifulSoup\n",
    "import sys\n",
    "sys.path.append('/home/michael/jupyter/local-packages')\n",
    "import numpy as np\n",
    "import pandas as pd\n",
    "\n",
    "#   not 100% clear which variables this supresses\n",
    "from IPython.core.interactiveshell import InteractiveShell\n",
    "\n",
    "InteractiveShell.ast_node_interactivity = \"all\"\n",
    "\n",
    "# Get the page and pull in the HTML\n",
    "s = requests.Session()\n",
    "aURL = \"http://www.barchart.com/stocks/quotes/BAC/overview\"\n",
    "r = s.get(aURL, headers = headers)\n",
    "s.close()\n",
    "\n",
    "src = r.content\n",
    "soup = BeautifulSoup(src, 'html.parser')\n"
   ],
   "metadata": {
    "collapsed": false,
    "pycharm": {
     "name": "#%%\n"
    }
   }
  },
  {
   "cell_type": "code",
   "execution_count": 4,
   "outputs": [
    {
     "data": {
      "text/plain": "{'Strong Buy': {'value': '8', 'percent': 47.05882352941176},\n 'Moderate Buy': {'value': '1', 'percent': 5.88235294117647},\n 'Hold': {'value': '7', 'percent': 41.17647058823529},\n 'Strong Sell': {'value': '1', 'percent': 5.88235294117647}}"
     },
     "execution_count": 4,
     "metadata": {},
     "output_type": "execute_result"
    },
    {
     "name": "stdout",
     "output_type": "stream",
     "text": [
      "<class 'dict'>\n"
     ]
    },
    {
     "data": {
      "text/plain": "        Strong Buy Moderate Buy     Hold Strong Sell\npercent    47.0588      5.88235  41.1765     5.88235\nvalue            8            1        7           1",
      "text/html": "<div>\n<style scoped>\n    .dataframe tbody tr th:only-of-type {\n        vertical-align: middle;\n    }\n\n    .dataframe tbody tr th {\n        vertical-align: top;\n    }\n\n    .dataframe thead th {\n        text-align: right;\n    }\n</style>\n<table border=\"1\" class=\"dataframe\">\n  <thead>\n    <tr style=\"text-align: right;\">\n      <th></th>\n      <th>Strong Buy</th>\n      <th>Moderate Buy</th>\n      <th>Hold</th>\n      <th>Strong Sell</th>\n    </tr>\n  </thead>\n  <tbody>\n    <tr>\n      <th>percent</th>\n      <td>47.0588</td>\n      <td>5.88235</td>\n      <td>41.1765</td>\n      <td>5.88235</td>\n    </tr>\n    <tr>\n      <th>value</th>\n      <td>8</td>\n      <td>1</td>\n      <td>7</td>\n      <td>1</td>\n    </tr>\n  </tbody>\n</table>\n</div>"
     },
     "execution_count": 4,
     "metadata": {},
     "output_type": "execute_result"
    }
   ],
   "source": [
    "div_tag = soup.find('div', class_ ='diagram')\n",
    "nextLevel = div_tag.contents[1]\n",
    "dataContentAttrs = nextLevel.attrs\n",
    "theText = dataContentAttrs.get('data-content')\n",
    "\n",
    "analysisDict = json.loads(theText)\n",
    "analysisDict\n",
    "print(type(analysisDict))\n",
    "ck = pd.DataFrame.from_dict(analysisDict)\n",
    "ck\n",
    "# ck = nextLevel.split(\"'\",1)\n",
    "# ck"
   ],
   "metadata": {
    "collapsed": false,
    "pycharm": {
     "name": "#%%\n"
    }
   }
  },
  {
   "cell_type": "code",
   "execution_count": null,
   "outputs": [],
   "source": [
    "for aSpan in div_tag.find_all('span'):\n",
    "    print(aSpan.text)\n"
   ],
   "metadata": {
    "collapsed": false,
    "pycharm": {
     "name": "#%%\n"
    }
   }
  },
  {
   "cell_type": "code",
   "execution_count": null,
   "outputs": [],
   "source": [
    "for div_tag in soup.find_all(\"div\",{'class',\"bc-rating-and-estimates__content\"}):\n",
    "    print('div:  ', div_tag)\n",
    "\n"
   ],
   "metadata": {
    "collapsed": false,
    "pycharm": {
     "name": "#%%\n"
    }
   }
  },
  {
   "cell_type": "code",
   "execution_count": null,
   "outputs": [],
   "source": [
    "print(ratingsWrapper.find(class_ = 'desc'))\n",
    "print(ratingsWrapper)\n",
    "\n",
    "    # if ratingsWrapper is not None:\n",
    "    #     ratingsWrapperData = ratingsWrapper.get_text()\n",
    "\n",
    "print('ratingsWrapper: ' , ratingsWrapper)\n"
   ],
   "metadata": {
    "collapsed": false,
    "pycharm": {
     "name": "#%%\n"
    }
   }
  },
  {
   "cell_type": "code",
   "execution_count": null,
   "outputs": [],
   "source": [
    "\n",
    "    for tBody in div_tag.find_all('li'):\n",
    "        # capture the left side info into DF Series if exist\n",
    "        leftSide = tBody.find(class_  = 'left')\n",
    "        if leftSide is not None:\n",
    "            leftSideText = leftSide.get_text()\n",
    "            # create the Series[]\n",
    "            ratingsDF[leftSideText]= np.nan\n",
    "        # capture the right side info into DF Series if exist\n",
    "        rightSide = tBody.find(class_ = 'right')\n",
    "        if rightSide is not None:\n",
    "            rightSideText = rightSide.get_text()\n",
    "            # add the text to the Series\n",
    "            ratingsDF[leftSideText]= rightSideText\n",
    "\n",
    "\n",
    "sectorsDF = pd.Series([])\n",
    "sectorsList = []\n",
    "for div_tag in soup.find_all(\"div\",{'class',\"bc-rating-and-estimates__content\"}):\n",
    "    for aLi in div_tag.find_all('li'):\n",
    "        for theSectors in aLi.find_all('a'):\n",
    "            sectorsList.append(theSectors.text)\n",
    "sectorsDF = pd.Series(sectorsList)\n",
    "\n",
    "sectorsDF"
   ],
   "metadata": {
    "collapsed": false,
    "pycharm": {
     "name": "#%%\n"
    }
   }
  },
  {
   "cell_type": "code",
   "execution_count": null,
   "outputs": [],
   "source": [],
   "metadata": {
    "collapsed": false,
    "pycharm": {
     "name": "#%%\n"
    }
   }
  },
  {
   "cell_type": "code",
   "execution_count": null,
   "outputs": [],
   "source": [
    "\n"
   ],
   "metadata": {
    "collapsed": false,
    "pycharm": {
     "name": "#%%\n"
    }
   }
  }
 ],
 "metadata": {
  "kernelspec": {
   "name": "pycharm-cf45a016",
   "language": "python",
   "display_name": "PyCharm (getEarningsFromYahoo)"
  },
  "language_info": {
   "codemirror_mode": {
    "name": "ipython",
    "version": 2
   },
   "file_extension": ".py",
   "mimetype": "text/x-python",
   "name": "python",
   "nbconvert_exporter": "python",
   "pygments_lexer": "ipython2",
   "version": "2.7.6"
  },
  "pycharm": {
   "stem_cell": {
    "cell_type": "raw",
    "source": [
     "\n"
    ],
    "metadata": {
     "collapsed": false
    }
   }
  }
 },
 "nbformat": 4,
 "nbformat_minor": 0
}