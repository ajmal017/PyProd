{
 "cells": [
  {
   "cell_type": "code",
   "execution_count": 1,
   "outputs": [],
   "source": [
    "# Chrome linux User Agent\n",
    "headers = {'user-agent': 'Mozilla/5.0 (X11; Linux x86_64) AppleWebKit/537.36 '\n",
    "                         '(KHTML,           like Gecko) Chrome/81.0.4044.138 Safari/537.36'}\n",
    "import json\n",
    "import requests\n",
    "from bs4 import BeautifulSoup\n",
    "import sys\n",
    "sys.path.append('/home/michael/jupyter/local-packages')\n",
    "import numpy as np\n",
    "import pandas as pd\n",
    "\n",
    "#   not 100% clear which variables this supresses\n",
    "from IPython.core.interactiveshell import InteractiveShell\n",
    "\n",
    "InteractiveShell.ast_node_interactivity = \"all\"\n",
    "\n",
    "# Get the page and pull in the HTML\n",
    "s = requests.Session(               )\n",
    "aURL = \"https://www.barchart.com/stocks/quotes/BAC/options\"\n",
    "r = s.get(aURL, headers = headers)\n",
    "s.close()\n",
    "\n",
    "src = r.content\n",
    "soup = BeautifulSoup(src, 'html5lib') #,'html.parser')\n"
   ],
   "metadata": {
    "collapsed": false,
    "pycharm": {
     "name": "#%%\n"
    }
   }
  },
  {
   "cell_type": "code",
   "execution_count": 2,
   "outputs": [
    {
     "data": {
      "text/plain": "[<div class=\"bc-datatable-toolbar landscape-no-padding clearfix invisible\" data-ng-class=\"{'visible': true}\" ng-controller=\"bcDataTableToolbarCtrl\"> <div class=\"toolbar-group\"> <div class=\"filters\" data-ng-hide=\"hide\">  <div class=\"expiration-label\">Expiration:</div> <bc-filter-experation-drop-down class=\"clearfix left\" data-selected=\"\" off-auth=\"off\"></bc-filter-experation-drop-down>  <div class=\"bc-dropdown filter in-the-money\"> <select data-broadcast-on-change=\"\" data-change-filter=\"\" data-event-name=\"onInTheMoneyViewChanged\" name=\"moneyness\"> <option value=\"inTheMoney\">Near-the-Money</option> <option value=\"allRows\">Show All</option> </select> </div>  <div class=\"bc-dropdown filter options-views\"> <select data-broadcast-on-change=\"\" data-change-filter=\"\" data-event-name=\"onOptionsViewsChanged\" name=\"view\"> <option value=\"stacked\">Stacked</option> <option value=\"stacked_ohl\">Stacked OHLC</option> <option value=\"sbs\">Side-by-Side</option> <option value=\"sbs_ohl\">Side-by-Side OHLC</option> </select> </div>  </div>  <a class=\"landscape-control show-filters\" data-ng-click=\"hide=false\" data-ng-show=\"hide\">View All Filters</a> <a class=\"landscape-control hide-filters\" data-ng-click=\"hide=true\" data-ng-show=\"!hide\">Hide All Filters</a>  </div> <div class=\"toolbar-group clearfix landscape-border\"> <div class=\"filters left\">    </div> <div class=\"buttons right\">      <a class=\"toolbar-button download\" data-bc-download-button=\" BAC options exp-%expiration% %moneyness% %view% \" data-bc-download-order='[\"Calls\",\"Puts\"]'> <i class=\"bc-glyph-download\"></i> <span>download</span></a>   </div> </div>   </div>]"
     },
     "execution_count": 2,
     "metadata": {},
     "output_type": "execute_result"
    }
   ],
   "source": [
    "headers = {\n",
    "    'Accept':'text/html,application/xhtml+xml,application/xml;q=0.9,*/*;q=.08',\n",
    "    'Origin': 'https://www.tampagov.net',\n",
    "    'User-Agent': 'Mozilla/5.0 (Windows NT 6.1) AppleWebKit/537.17 (KHTML, like Gecko)  Chrome/24.0.1312.57 Safari/537.17',\n",
    "    'Content-Type': 'application/x-www-form-urlencoded',\n",
    "    'Referer': 'https://apps.tampagov.net/CallsForService_Webapp/Default.aspx?type=TPD',\n",
    "    'Accept-Encoding': 'gzip,deflate,br',\n",
    "    'Accept-Language': 'en-US,en;q=0.5',\n",
    "}\n",
    "\n",
    "r = requests.get(\"https://apps.tampagov.net/CallsForService_Webapp/Default.aspx?type=TPD\", headers=headers)\n",
    "# parse and retrieve two vital form values\n",
    "if not r.status_code == 200:\n",
    "    print('Error')\n",
    "    return"
   ],
   "metadata": {
    "collapsed": false,
    "pycharm": {
     "name": "#%%\n"
    }
   }
  },
  {
   "cell_type": "code",
   "execution_count": null,
   "outputs": [],
   "source": [
    "aTble = quotesBC.find_all('table')[0]\n",
    "dfList = pd.read_html(str(aTble))\n",
    "dfList\n",
    "\n"
   ],
   "metadata": {
    "collapsed": false,
    "pycharm": {
     "name": "#%%\n"
    }
   }
  },
  {
   "cell_type": "code",
   "execution_count": null,
   "outputs": [],
   "source": [
    "\n",
    "\n",
    "for aChild in toolbarBC:\n",
    "      print('\\n----->  ',aChild)\n",
    "      print('=====>   ', type(aChild))\n",
    "      print('~~~~~>   ', aChild.next_element)\n",
    "\n",
    "#x = toolbarBC.find(\"bc-datatable-toolbar\")\n",
    "#x\n",
    "# header1 = toolbarBC.find('div',{'class':  'bc-datatable-toolbar bc-options-toolbar'})\n",
    "# header1\n",
    "#\n"
   ],
   "metadata": {
    "collapsed": false,
    "pycharm": {
     "name": "#%%\n"
    }
   }
  },
  {
   "cell_type": "code",
   "execution_count": null,
   "outputs": [],
   "source": [
    "quotesBC = soup.find('div',{'class': 'bc-table-scrollable-inner'})\n",
    "header1 = quotesBC.find('div',{'class':  'bc-datatable-toolbar bc-options-toolbar'})\n",
    "header1\n"
   ],
   "metadata": {
    "collapsed": false,
    "pycharm": {
     "name": "#%%\n"
    }
   }
  },
  {
   "cell_type": "code",
   "execution_count": null,
   "outputs": [],
   "source": [
    "table = soup.find('table',{'class': 'data-barchart-table-show-symbol-details data-barchart-expland-new-rows'})\n",
    "table"
   ],
   "metadata": {
    "collapsed": false,
    "pycharm": {
     "name": "#%%\n"
    }
   }
  },
  {
   "cell_type": "code",
   "execution_count": null,
   "outputs": [],
   "source": [
    "\n"
   ],
   "metadata": {
    "collapsed": false,
    "pycharm": {
     "name": "#%%\n"
    }
   }
  }
 ],
 "metadata": {
  "kernelspec": {
   "name": "pycharm-cf45a016",
   "language": "python",
   "display_name": "PyCharm (getEarningsFromYahoo)"
  },
  "language_info": {
   "codemirror_mode": {
    "name": "ipython",
    "version": 2
   },
   "file_extension": ".py",
   "mimetype": "text/x-python",
   "name": "python",
   "nbconvert_exporter": "python",
   "pygments_lexer": "ipython2",
   "version": "2.7.6"
  },
  "pycharm": {
   "stem_cell": {
    "cell_type": "raw",
    "source": [
     "\n"
    ],
    "metadata": {
     "collapsed": false
    }
   }
  }
 },
 "nbformat": 4,
 "nbformat_minor": 0
}