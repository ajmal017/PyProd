{
 "cells": [
  {
   "cell_type": "code",
   "execution_count": 1,
   "metadata": {
    "collapsed": true
   },
   "outputs": [],
   "source": [
    "import sys\n",
    "\n",
    "sys.path.append(\"/home/michael/pycharm/pycharm-2019.2.3/debug-eggs/pydevd-pycharm.egg\")\n",
    "\n",
    "import pydevd_pycharm\n",
    "pydevd_pycharm.settrace('192.168.1.200', port=2222, stdoutToServer=True, stderrToServer=True)\n",
    "\n",
    "\n",
    "\n",
    "\n",
    "sys.path.append('/home/michael/jupyter/local-packages')\n",
    "from localUtilities.webScrape import getBarChartData as companyInfo\n",
    "from localUtilities.webScrape import getBarChartOptionsSelenium as companyOptions\n",
    "import pandas as pd\n",
    "\n",
    "#   not 100% clear which variables this supresses\n",
    "from IPython.core.interactiveshell import InteractiveShell\n",
    "InteractiveShell.ast_node_interactivity = \"all\"\n",
    "\n",
    "aStock = 'BAC'\n",
    "#\n",
    "stockInfo = companyInfo.getCompanyStockInfo(aStock)\n",
    "stockOverview = companyInfo.getCompanyOverview(aStock)\n",
    "stockFundamentals = companyInfo.getCompanyFundamentals(aStock)\n",
    "aText, stockRatings = companyInfo.getCompanyRatings(aStock)\n",
    "theExpiryDateText = '2020-05-29-w'\n",
    "callOptions, putOptions, expiryText = companyOptions.scrapeCompanyOptionData(aStock, theExpiryDateText)"
   ]
  },
  {
   "cell_type": "code",
   "execution_count": null,
   "outputs": [],
   "source": [
    "putOptions\n"
   ],
   "metadata": {
    "collapsed": false,
    "pycharm": {
     "name": "#%%\n"
    }
   }
  },
  {
   "cell_type": "code",
   "execution_count": null,
   "outputs": [],
   "source": [
    "\n",
    "callOptions.rename(column={'Strike', 'Last', '%FromLast', 'Bid',\n",
    "                           'Midpoint', 'Ask', 'Change', '%Chg', 'IV', 'Volume', 'OpenInt', 'Time'}, inplace=True)\n"
   ],
   "metadata": {
    "collapsed": false,
    "pycharm": {
     "name": "#%%\n"
    }
   }
  },
  {
   "cell_type": "code",
   "execution_count": null,
   "outputs": [],
   "source": [
    "startday = '2020-05-29'\n",
    "\n",
    "theBaseCompaniesDirectory = '/home/michael/jupyter/earningDateData/Companies/'\n",
    "csvSuffix = '.csv'\n",
    "excelSuffix = '.xlsx'\n",
    "\n",
    "# Setup Excel output file\n",
    "companyEarningsWeek = theBaseCompaniesDirectory + startday + '/rawCSV/'\n",
    "outExcelFile = theBaseCompaniesDirectory + startday + '/' + aStock + '_SummaryWeekOf-' + startday + excelSuffix\n",
    "\n",
    "\n",
    "sheetIsFundamentals = 'Fundamentals'\n",
    "sheetRowStart = 7\n",
    "sheetColStart = 3\n",
    "\n",
    "writer = pd.ExcelWriter(outExcelFile, engine='xlsxwriter')\n",
    "# stockInfo.to_excel(writer, sheet_name='Fundamentals')\n",
    "\n",
    "fundamentalsWorkbook = writer.book\n",
    "fmt = fundamentalsWorkbook.add_format()\n",
    "\n",
    "stockInfoTransposed = stockInfo.T\n",
    "stockFundamentalsTranposed = stockFundamentals.T\n",
    "\n",
    "# Add the Ratings next\n",
    "stockRatings.to_excel(writer, sheet_name= sheetIsFundamentals,\n",
    "                                    startrow=3, startcol= sheetColStart)\n",
    "# Add the fundamentals\n",
    "stockInfo.to_excel(writer, sheet_name= sheetIsFundamentals,  startrow=sheetRowStart, startcol=sheetColStart)\n",
    "stockFundamentalsTranposed.to_excel(writer, sheet_name= sheetIsFundamentals, startrow=sheetRowStart,\n",
    "                                    startcol= sheetColStart + 3)\n",
    "stockOverview.to_excel(writer, sheet_name= sheetIsFundamentals,\n",
    "                                    startrow=sheetRowStart, startcol= sheetColStart + 6)\n",
    "\n",
    "# Add the text info on Expiry and Recommendations\n",
    "fundamentalsWorkbookSheet = writer.sheets['Fundamentals']\n",
    "fundamentalsWorkbookSheet.write(2,1, aText)\n",
    "fundamentalsWorkbookSheet.write(1,1, expiryText)\n",
    "\n",
    "callOptions.to_excel(writer, sheet_name= 'Call Options',\n",
    "                                    startrow=2, startcol= sheetColStart)\n",
    "putOptions.to_excel(writer, sheet_name= 'Put Options',\n",
    "                                    startrow=2, startcol= sheetColStart)\n",
    "\n",
    "\n",
    "# Save excel\n",
    "writer.save()"
   ],
   "metadata": {
    "collapsed": false,
    "pycharm": {
     "name": "#%%\n",
     "is_executing": true
    }
   }
  },
  {
   "cell_type": "code",
   "execution_count": null,
   "outputs": [],
   "source": [
    "callOptions"
   ],
   "metadata": {
    "collapsed": false,
    "pycharm": {
     "name": "#%%\n",
     "is_executing": true
    }
   }
  },
  {
   "cell_type": "code",
   "execution_count": null,
   "outputs": [],
   "source": [
    "\n"
   ],
   "metadata": {
    "collapsed": false,
    "pycharm": {
     "name": "#%%\n",
     "is_executing": true
    }
   }
  }
 ],
 "metadata": {
  "kernelspec": {
   "name": "pycharm-cf45a016",
   "language": "python",
   "display_name": "PyCharm (getEarningsFromYahoo)"
  },
  "language_info": {
   "codemirror_mode": {
    "name": "ipython",
    "version": 2
   },
   "file_extension": ".py",
   "mimetype": "text/x-python",
   "name": "python",
   "nbconvert_exporter": "python",
   "pygments_lexer": "ipython2",
   "version": "2.7.6"
  }
 },
 "nbformat": 4,
 "nbformat_minor": 0
}