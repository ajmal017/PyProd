{
 "cells": [
  {
   "cell_type": "code",
   "execution_count": 1,
   "metadata": {
    "collapsed": true
   },
   "outputs": [
    {
     "name": "stdout",
     "output_type": "stream",
     "text": [
      "7 Days to expiration on 2020-05-29\n",
      "Implied Volatility: 32.16%\n"
     ]
    }
   ],
   "source": [
    "from selenium import webdriver\n",
    "\n",
    "from selenium.webdriver.common.keys import Keys\n",
    "\n",
    "from selenium.webdriver.common.by import By\n",
    "from selenium.webdriver.support.ui import WebDriverWait\n",
    "from selenium.webdriver.support import expected_conditions as EC\n",
    "\n",
    "from localUtilities.webScrape import getBarChartOptionsSelenium as companyOptions\n",
    "\n",
    "\n",
    "driver = companyOptions.downloadCompanyOptions('FB')\n",
    "\n"
   ]
  },
  {
   "cell_type": "code",
   "execution_count": null,
   "outputs": [],
   "source": [
    "driver.find_element_by_xpath('//*[@id=\"main-content-column\"]/div/div[3]/div[2]/div[2]/a').click().click()\n"
   ],
   "metadata": {
    "collapsed": false,
    "pycharm": {
     "name": "#%%\n"
    }
   }
  },
  {
   "cell_type": "code",
   "execution_count": null,
   "outputs": [],
   "source": [
    "# driver.implicitly_wait(30)\n",
    "# wait1 = WebDriverWait(driver, 10)\n",
    "# wait1.until(EC.element_located_to_be_selected(By.XPATH, '//*[@id=\"login-form-password\"]', True))\n",
    "\n",
    "driver.find_element_by_xpath('//*[@id=\"bc-login-form\"]/div[1]/input').send_keys(\"barchartwork@gmail.com\")\n",
    "driver.find_element_by_xpath('//*[@id=\"login-form-password\"]').send_keys('mikeMike733223')\n",
    "driver.find_element_by_xpath('//*[@id=\"bc-login-form\"]/div[4]/button').click()"
   ],
   "metadata": {
    "collapsed": false,
    "pycharm": {
     "name": "#%%\n"
    }
   }
  },
  {
   "cell_type": "code",
   "execution_count": null,
   "outputs": [],
   "source": [
    "# //*[@id=\"bc-login-form\"]/div[4]/button\n",
    "\n",
    "# //*[@id=\"bc-login-form\"]/div[1]/input\n",
    "# document.querySelector(\"#bc-login-form > div:nth-child(1) > input\")\n",
    "\n",
    "#//*[@id=\"bc-login-form\"]/div[1]/input\n",
    "# \"<a data-ng-href=\"/login\" class=\"bc-user-block__button ng-click-active\" data-ng-click=\"openModal(true)\"\n",
    "# href=\"/login\">\n",
    "#             <span class=\"bc-glyph-user\"></span>\n",
    "#             Log In\n",
    "#         </a>\"\n",
    "# data-ng-href=\"/login\"\n",
    "#\n",
    "# driver.find_element_by_id(\"name\").send_keys(“michaelrkost@yahoo.com”)\n",
    "# driver.find_element_by_id(“password_id”).send_keys(“mikeMike”)\n",
    "# driver.find_element_by_id(“submit”).click()\n"
   ],
   "metadata": {
    "collapsed": false,
    "pycharm": {
     "name": "#%%\n"
    }
   }
  },
  {
   "cell_type": "code",
   "execution_count": null,
   "outputs": [],
   "source": [
    "# data-ng-show\n",
    "# # bc-datatable-toolbar bc-options-toolbar\n",
    "expiryTest = driver.find_element_by_xpath(\"//div[@class='row bc-options-toolbar__second-row']\")\n",
    "print(expiryTest.text)\n",
    "\n",
    "# expiryTest = Select(driver.find_element_by_name('daysToExpiration'))\n",
    "# expiryTest\n",
    "# theMoneyness = Select(driver.find_element_by_class_name('bc-datatable-toolbar bc-options-toolbar'))"
   ],
   "metadata": {
    "collapsed": false,
    "pycharm": {
     "name": "#%%\n"
    }
   }
  },
  {
   "cell_type": "code",
   "execution_count": null,
   "outputs": [],
   "source": [
    "theMoneyness = Select(driver.find_element_by_name('moneyness'))\n",
    "theView = Select(driver.find_element_by_name('view'))\n",
    "\n",
    "# Set Expiration Display\n",
    "#\n",
    "# theView =======================\n",
    "# Stacked  :  stacked\n",
    "# Stacked OHLC : stacked_ohl\n",
    "# Side-by-Side : sbs\n",
    "# Side-by-Side OHLC : sbs_ohl\n",
    "theView.select_by_value('sbs')\n",
    "# theMoneyness =======================\n",
    "# Near-the-Money  :  inTheMoney\n",
    "# Show All :  allRows\n",
    "theMoneyness.select_by_value('allRows')\n",
    "\n",
    "\n",
    "# data-ng-show\n",
    "# # bc-datatable-toolbar bc-options-toolbar\n",
    "expiryTest = driver.find_element_by_xpath(\"//div[@class='row bc-options-toolbar__second-row']\")\n",
    "print(expiryTest.text)\n",
    "\n",
    "# expiryTest = Select(driver.find_element_by_name('daysToExpiration'))\n",
    "# expiryTest\n",
    "# theMoneyness = Select(driver.find_element_by_class_name('bc-datatable-toolbar bc-options-toolbar'))\n",
    "\n",
    "# dont forget to close the browser!\n",
    "driver.close()\n",
    "\n"
   ],
   "metadata": {
    "collapsed": false,
    "pycharm": {
     "name": "#%%\n"
    }
   }
  },
  {
   "cell_type": "code",
   "execution_count": 2,
   "outputs": [],
   "source": [
    "driver.close()\n",
    "\n"
   ],
   "metadata": {
    "collapsed": false,
    "pycharm": {
     "name": "#%%\n"
    }
   }
  },
  {
   "cell_type": "code",
   "execution_count": null,
   "outputs": [],
   "source": [
    "driver.find_element_by_xpath('//*[@id=\"bc-login-form\"]/div[1]/input').send_keys(\"barchartwork@gmail.com\")\n",
    "driver.find_element_by_xpath('//*[@id=\"login-form-password\"]').send_keys('mikeMike733223')\n",
    "driver.find_element_by_xpath('//*[@id=\"bc-login-form\"]/div[4]/button').click()\n",
    "\n"
   ],
   "metadata": {
    "collapsed": false,
    "pycharm": {
     "name": "#%%\n"
    }
   }
  },
  {
   "cell_type": "code",
   "execution_count": null,
   "outputs": [],
   "source": [
    "\n"
   ],
   "metadata": {
    "collapsed": false,
    "pycharm": {
     "name": "#%%\n"
    }
   }
  }
 ],
 "metadata": {
  "kernelspec": {
   "name": "pycharm-cf45a016",
   "language": "python",
   "display_name": "PyCharm (getEarningsFromYahoo)"
  },
  "language_info": {
   "codemirror_mode": {
    "name": "ipython",
    "version": 2
   },
   "file_extension": ".py",
   "mimetype": "text/x-python",
   "name": "python",
   "nbconvert_exporter": "python",
   "pygments_lexer": "ipython2",
   "version": "2.7.6"
  }
 },
 "nbformat": 4,
 "nbformat_minor": 0
}