{
 "cells": [
  {
   "cell_type": "code",
   "execution_count": 5,
   "outputs": [],
   "source": [
    "# Chrome linux User Agent\n",
    "headers = {'user-agent': 'Mozilla/5.0 (X11; Linux x86_64) AppleWebKit/537.36 (KHTML, like Gecko) Chrome/81.0.4044.138 Safari/537.36'}\n",
    "\n",
    "\n",
    "import requests\n",
    "from bs4 import BeautifulSoup\n",
    "import sys\n",
    "sys.path.append('/home/michael/jupyter/local-packages')\n",
    "import numpy as np\n",
    "import pandas as pd\n",
    "\n",
    "# Creating an empty Dataframe with column names only\n",
    "companyFundamentalsDF = pd.DataFrame(\n",
    "    columns=['symbol','symbolName','symbolType','lastPrice','priceChange','percentChange','bidPrice','askPrice','bidSize','askSize',\n",
    "             'tradeTime','lastPriceExt','priceChangeExt','percentChangeExt','tradeTimeExt','contractName','daysToContractExpiration',\n",
    "             'symbolCode','exchange','sicIndustry','sessionDateDisplayLong','shouldUpdate'])\n",
    "\n",
    "#   not 100% clear which variables this supresses\n",
    "from IPython.core.interactiveshell import InteractiveShell\n",
    "InteractiveShell.ast_node_interactivity = \"all\"\n",
    "\n",
    "# Get the page and pull in the HTML\n",
    "s = requests.Session()\n",
    "aURL = \"http://www.barchart.com/stocks/quotes/BAC/overview\"\n",
    "r = s.get(aURL, headers = headers)\n",
    "s.close()\n",
    "\n",
    "src = r.content\n",
    "soup = BeautifulSoup(src, 'html.parser')\n"
   ],
   "metadata": {
    "collapsed": false,
    "pycharm": {
     "name": "#%%\n"
    }
   }
  },
  {
   "cell_type": "code",
   "execution_count": 16,
   "outputs": [
    {
     "name": "stdout",
     "output_type": "stream",
     "text": [
      "<div class=\"barchart-content-block symbol-fundamentals\"> <div class=\"block-title\"> <h4>Fundamentals</h4> <a class=\"bc-button small white-with-border\" href=\"/stocks/quotes/BAC/profile\" target=\"_self\">See More</a> </div> <div class=\"block-content\"> <div class=\"row symbol-data\"> <div class=\"small-12 large-6 column\"> <ul> <li> <span class=\"left\">Market Capitalization, $K</span> <span class=\"right\">  186,005,088  </span> </li> <li> <span class=\"left\">Shares Outstanding, K</span> <span class=\"right\">  8,675,610  </span> </li> <li> <span class=\"left\">Annual Sales, $</span> <span class=\"right\">  113,589 M  </span> </li> <li> <span class=\"left\">Annual Income, $</span> <span class=\"right\">  27,430 M  </span> </li> <li> <span class=\"left\">60-Month Beta</span> <span class=\"right\">  1.60  </span> </li> <li> <span class=\"left\">Price/Sales</span> <span class=\"right\">  1.66  </span> </li> <li> <span class=\"left\">Price/Cash Flow</span> <span class=\"right\">  5.92  </span> </li> <li> <span class=\"left\">Price/Book</span> <span class=\"right\">  0.78  </span> </li> </ul> </div> <div class=\"small-12 large-6 column\"> <ul> <li> <span class=\"left\">Price/Earnings ttm</span> <span class=\"right\"> 8.25 </span> </li> <li> <span class=\"left\">Earnings Per Share ttm</span> <span class=\"right\"> 2.63 </span> </li> <li> <span class=\"left\">Most Recent Earnings</span> <span class=\"right\"> 0.40 on 04/15/20 </span> </li> <li> <span class=\"left\">Next Earnings Date</span> <span class=\"right\"> N/A </span> </li> <li> <span class=\"left\">Annual Dividend &amp; Yield</span> <span class=\"right\"> 0.72 (3.36%) </span> </li> <li> <span class=\"left\">Most Recent Dividend</span> <span class=\"right\"> 0.180 on 03/05/20 </span> </li> <li> <span class=\"text-uppercase\">Sectors:</span> <p class=\"no-margin\"> <a href=\"/stocks/quotes/BAC/competitors?quoteSectors=-602B\" target=\"_self\"> <span>SIC-6021 National Commercial Banks</span> </a> </p> <p class=\"no-margin\"> <a href=\"/stocks/quotes/BAC/competitors?quoteSectors=-BKMR\" target=\"_self\"> <span>Banks - Major Regional</span> </a> </p> <p class=\"no-margin\"> <a href=\"/stocks/quotes/BAC/competitors?quoteSectors=-ISO\" target=\"_self\"> <span>Indices S&amp;P 100</span> </a> </p> <p class=\"no-margin\"> <a href=\"/stocks/quotes/BAC/competitors?quoteSectors=-ISFI\" target=\"_self\"> <span>Indices S&amp;P 500</span> </a> </p> <p class=\"no-margin\"> <a href=\"/stocks/quotes/BAC/competitors?quoteSectors=-SAPF\" target=\"_self\"> <span>Indices S&amp;P 500 Financials</span> </a> </p> <p class=\"no-margin\"> <a href=\"/stocks/quotes/BAC/competitors?quoteSectors=-RUSO\" target=\"_self\"> <span>Indices Russell 1000</span> </a> </p> <p class=\"no-margin\"> <a href=\"/stocks/quotes/BAC/competitors?quoteSectors=-RUSH\" target=\"_self\"> <span>Indices Russell 3000</span> </a> </p> </li> </ul> </div> </div> </div> </div>\n",
      "<a href=\"/stocks/quotes/BAC/competitors?quoteSectors=-602B\" target=\"_self\"> <span>SIC-6021 National Commercial Banks</span> </a>\n",
      "<a href=\"/stocks/quotes/BAC/competitors?quoteSectors=-BKMR\" target=\"_self\"> <span>Banks - Major Regional</span> </a>\n",
      "<a href=\"/stocks/quotes/BAC/competitors?quoteSectors=-ISO\" target=\"_self\"> <span>Indices S&amp;P 100</span> </a>\n",
      "<a href=\"/stocks/quotes/BAC/competitors?quoteSectors=-ISFI\" target=\"_self\"> <span>Indices S&amp;P 500</span> </a>\n",
      "<a href=\"/stocks/quotes/BAC/competitors?quoteSectors=-SAPF\" target=\"_self\"> <span>Indices S&amp;P 500 Financials</span> </a>\n",
      "<a href=\"/stocks/quotes/BAC/competitors?quoteSectors=-RUSO\" target=\"_self\"> <span>Indices Russell 1000</span> </a>\n",
      "<a href=\"/stocks/quotes/BAC/competitors?quoteSectors=-RUSH\" target=\"_self\"> <span>Indices Russell 3000</span> </a>\n",
      "See More\n"
     ]
    },
    {
     "data": {
      "text/plain": "' SIC-6021 National Commercial Banks '"
     },
     "execution_count": 16,
     "metadata": {},
     "output_type": "execute_result"
    },
    {
     "data": {
      "text/plain": "' Banks - Major Regional '"
     },
     "execution_count": 16,
     "metadata": {},
     "output_type": "execute_result"
    },
    {
     "data": {
      "text/plain": "' Indices S&P 100 '"
     },
     "execution_count": 16,
     "metadata": {},
     "output_type": "execute_result"
    },
    {
     "data": {
      "text/plain": "' Indices S&P 500 '"
     },
     "execution_count": 16,
     "metadata": {},
     "output_type": "execute_result"
    },
    {
     "data": {
      "text/plain": "' Indices S&P 500 Financials '"
     },
     "execution_count": 16,
     "metadata": {},
     "output_type": "execute_result"
    },
    {
     "data": {
      "text/plain": "' Indices Russell 1000 '"
     },
     "execution_count": 16,
     "metadata": {},
     "output_type": "execute_result"
    },
    {
     "data": {
      "text/plain": "' Indices Russell 3000 '"
     },
     "execution_count": 16,
     "metadata": {},
     "output_type": "execute_result"
    }
   ],
   "source": [
    "for div_tag in soup.find_all(\"div\",\"barchart-content-block symbol-fundamentals\"):\n",
    "    print( div_tag)\n",
    "    for aLi in div_tag.find_all('li'):\n",
    "        for theSectors in aLi.find_all('a'):\n",
    "            print(theSectors)\n",
    "            theSectors.text\n",
    "    textUppercase = div_tag.find('a')\n",
    "    print(textUppercase.text)\n",
    "\n"
   ],
   "metadata": {
    "collapsed": false,
    "pycharm": {
     "name": "#%%\n"
    }
   }
  },
  {
   "cell_type": "code",
   "execution_count": 9,
   "outputs": [
    {
     "name": "stdout",
     "output_type": "stream",
     "text": [
      "type(div_tag:   <class 'bs4.element.Tag'>\n",
      "<class 'bs4.element.Tag'>\n",
      "<class 'bs4.element.Tag'>\n",
      "<class 'bs4.element.Tag'>\n",
      "<class 'bs4.element.Tag'>\n",
      "<class 'bs4.element.Tag'>\n",
      "<class 'bs4.element.Tag'>\n",
      "<class 'bs4.element.Tag'>\n",
      "<class 'bs4.element.Tag'>\n",
      "<class 'bs4.element.Tag'>\n",
      "<class 'bs4.element.Tag'>\n",
      "<class 'bs4.element.Tag'>\n",
      "<class 'bs4.element.Tag'>\n",
      "<class 'bs4.element.Tag'>\n",
      "<class 'bs4.element.Tag'>\n",
      "<class 'bs4.element.Tag'>\n",
      "<class 'bs4.element.ResultSet'>\n"
     ]
    }
   ],
   "source": [
    "fundamentalsDF = pd.Series([])\n",
    "\n",
    "for div_tag in soup.find_all(\"div\",\"barchart-content-block symbol-fundamentals\"):\n",
    "    print('type(div_tag:  ', type(div_tag))\n",
    "    for tBody in div_tag.find_all('li'):\n",
    "        print(type(tBody))\n",
    "        leftSide = tBody.find(class_  = 'left')\n",
    "        if leftSide is not None:\n",
    "            leftSideText = leftSide.get_text()\n",
    "            fundamentalsDF[leftSideText]= np.nan\n",
    "        rightSide = tBody.find(class_ = 'right')\n",
    "        if rightSide is not None:\n",
    "            rightSideText = rightSide.get_text()\n",
    "            fundamentalsDF[leftSideText]= rightSideText\n",
    "        textUppercase = tBody.find_all('a',  'no-margin')  #  attrs['left']\n",
    "\n",
    "print(type(textUppercase))\n",
    "# print(textUppercase.find('span'))\n",
    "# for allSectors in textUppercase.find_all('a'):\n",
    "#     type(allSectors)"
   ],
   "metadata": {
    "collapsed": false,
    "pycharm": {
     "name": "#%%\n"
    }
   }
  },
  {
   "cell_type": "code",
   "execution_count": null,
   "outputs": [],
   "source": [],
   "metadata": {
    "collapsed": false,
    "pycharm": {
     "name": "#%%\n"
    }
   }
  }
 ],
 "metadata": {
  "kernelspec": {
   "name": "pycharm-cf45a016",
   "language": "python",
   "display_name": "PyCharm (getEarningsFromYahoo)"
  },
  "language_info": {
   "codemirror_mode": {
    "name": "ipython",
    "version": 2
   },
   "file_extension": ".py",
   "mimetype": "text/x-python",
   "name": "python",
   "nbconvert_exporter": "python",
   "pygments_lexer": "ipython2",
   "version": "2.7.6"
  },
  "pycharm": {
   "stem_cell": {
    "cell_type": "raw",
    "source": [
     "\n"
    ],
    "metadata": {
     "collapsed": false
    }
   }
  }
 },
 "nbformat": 4,
 "nbformat_minor": 0
}