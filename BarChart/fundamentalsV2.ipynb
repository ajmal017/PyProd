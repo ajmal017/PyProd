{
 "cells": [
  {
   "cell_type": "code",
   "execution_count": 1,
   "outputs": [],
   "source": [
    "# Chrome linux User Agent\n",
    "headers = {'user-agent': 'Mozilla/5.0 (X11; Linux x86_64) AppleWebKit/537.36 '\n",
    "                         '(KHTML, like Gecko) Chrome/81.0.4044.138 Safari/537.36'}\n",
    "\n",
    "\n",
    "import requests\n",
    "from bs4 import BeautifulSoup\n",
    "import sys\n",
    "sys.path.append('/home/michael/jupyter/local-packages')\n",
    "import numpy as np\n",
    "import pandas as pd\n",
    "\n",
    "#   not 100% clear which variables this supresses\n",
    "from IPython.core.interactiveshell import InteractiveShell\n",
    "InteractiveShell.ast_node_interactivity = \"all\"\n",
    "\n",
    "# Get the page and pull in the HTML\n",
    "s = requests.Session()\n",
    "aURL = \"http://www.barchart.com/stocks/quotes/BAC/overview\"\n",
    "r = s.get(aURL, headers = headers)\n",
    "s.close()\n",
    "\n",
    "src = r.content\n",
    "soup = BeautifulSoup(src, 'html.parser')\n",
    "\n"
   ],
   "metadata": {
    "collapsed": false,
    "pycharm": {
     "name": "#%%\n"
    }
   }
  },
  {
   "cell_type": "code",
   "execution_count": 3,
   "outputs": [
    {
     "data": {
      "text/plain": "0     SIC-6021 National Commercial Banks \n1                 Banks - Major Regional \n2                        Indices S&P 100 \n3                        Indices S&P 500 \n4             Indices S&P 500 Financials \n5                   Indices Russell 1000 \n6                   Indices Russell 3000 \ndtype: object"
     },
     "execution_count": 3,
     "metadata": {},
     "output_type": "execute_result"
    }
   ],
   "source": [
    "fundamentalsDF = pd.Series([])\n",
    "\n",
    "# get the Fundamentals section of the page\n",
    "for div_tag in soup.find_all(\"div\",\"barchart-content-block symbol-fundamentals\"):\n",
    "    # get all the HTML <li> / list items\n",
    "    for tBody in div_tag.find_all('li'):\n",
    "        # capture the left side info into DF Series if exist\n",
    "        leftSide = tBody.find(class_  = 'left')\n",
    "        if leftSide is not None:\n",
    "            leftSideText = leftSide.get_text()\n",
    "            # create the Series[]\n",
    "            fundamentalsDF[leftSideText]= np.nan\n",
    "        # capture the right side info into DF Series if exist\n",
    "        rightSide = tBody.find(class_ = 'right')\n",
    "        if rightSide is not None:\n",
    "            rightSideText = rightSide.get_text()\n",
    "            # add the text to the Series\n",
    "            fundamentalsDF[leftSideText]= rightSideText\n",
    "\n",
    "\n",
    "sectorsDF = pd.Series([])\n",
    "sectorsList = []\n",
    "for div_tag in soup.find_all(\"div\",\"barchart-content-block symbol-fundamentals\"):\n",
    "    for aLi in div_tag.find_all('li'):\n",
    "        for theSectors in aLi.find_all('a'):\n",
    "            sectorsList.append(theSectors.text)\n",
    "sectorsDF = pd.Series(sectorsList)\n",
    "\n",
    "sectorsDF"
   ],
   "metadata": {
    "collapsed": false,
    "pycharm": {
     "name": "#%%\n"
    }
   }
  },
  {
   "cell_type": "code",
   "execution_count": null,
   "outputs": [],
   "source": [],
   "metadata": {
    "collapsed": false,
    "pycharm": {
     "name": "#%%\n"
    }
   }
  },
  {
   "cell_type": "code",
   "execution_count": null,
   "outputs": [],
   "source": [
    "\n"
   ],
   "metadata": {
    "collapsed": false,
    "pycharm": {
     "name": "#%%\n"
    }
   }
  }
 ],
 "metadata": {
  "kernelspec": {
   "name": "pycharm-cf45a016",
   "language": "python",
   "display_name": "PyCharm (getEarningsFromYahoo)"
  },
  "language_info": {
   "codemirror_mode": {
    "name": "ipython",
    "version": 2
   },
   "file_extension": ".py",
   "mimetype": "text/x-python",
   "name": "python",
   "nbconvert_exporter": "python",
   "pygments_lexer": "ipython2",
   "version": "2.7.6"
  },
  "pycharm": {
   "stem_cell": {
    "cell_type": "raw",
    "source": [
     "\n"
    ],
    "metadata": {
     "collapsed": false
    }
   }
  }
 },
 "nbformat": 4,
 "nbformat_minor": 0
}