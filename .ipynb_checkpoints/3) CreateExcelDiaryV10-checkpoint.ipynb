{
 "cells": [
  {
   "cell_type": "code",
   "execution_count": 1,
   "metadata": {
    "scrolled": true,
    "pycharm": {
     "is_executing": false
    }
   },
   "outputs": [
    {
     "name": "stdout",
     "text": [
      "Start Time:  2020-01-11 09:17\n"
     ],
     "output_type": "stream"
    }
   ],
   "source": [
    "import sys\n",
    "# sys.path.append(\"/home/michael/pycharm/pycharm-2019.2.3/debug-eggs/pydevd-pycharm.egg\")\n",
    "# \n",
    "# import pydevd_pycharm\n",
    "# pydevd_pycharm.settrace('192.168.1.200', port=2222, stdoutToServer=True, stderrToServer=True)\n",
    " \n",
    "sys.path.append('/home/michael/jupyter/local-packages')       \n",
    "\n",
    "from localUtilities.ibUtils import buildCsvSummary as buildSummary\n",
    "from localUtilities.ibUtils import buildExcelDiary \n",
    "\n",
    "# interactive Shell to see variables outside of print() function - \n",
    "#  if this is on one can suppress output by adding a ';' at taExcelWriterhe end of line \n",
    "#   not 100% clear ticker.closewhich variables this supresses \n",
    "# Starting day of the earnings type(week.\n",
    "\n",
    "# from IPython.core.interactiveshell import InteractiveShell\n",
    "# InteractiveShell.ast_node_interactivity = \"all\"\n",
    "import datetime\n",
    "\n",
    "startTime = datetime.datetime.now()\n",
    "print('Start Time: ', startTime.strftime(\"%Y-%m-%d %H:%M\"))\n"
   ]
  },
  {
   "cell_type": "code",
   "execution_count": 2,
   "metadata": {
    "pycharm": {
     "is_executing": false
    }
   },
   "outputs": [
    {
     "name": "stdout",
     "text": [
      "in createWeeklySummary\n",
      "in createWeekSummary\n",
      "in updateDiary\n",
      "/home/michael/jupyter/earningDateData/Companies/2020-01-13/AEO.csv\n",
      "/home/michael/jupyter/earningDateData/Companies/2020-01-13/DAL.csv\n",
      "/home/michael/jupyter/earningDateData/Companies/2020-01-13/FRC.csv\n",
      "/home/michael/jupyter/earningDateData/Companies/2020-01-13/JPM.csv\n",
      "/home/michael/jupyter/earningDateData/Companies/2020-01-13/C.csv\n",
      "/home/michael/jupyter/earningDateData/Companies/2020-01-13/WFC.csv\n",
      "/home/michael/jupyter/earningDateData/Companies/2020-01-13/FCEL.csv\n",
      "/home/michael/jupyter/earningDateData/Companies/2020-01-13/INFO.csv\n",
      "/home/michael/jupyter/earningDateData/Companies/2020-01-13/KMI.csv\n",
      "/home/michael/jupyter/earningDateData/Companies/2020-01-13/AA.csv\n",
      "/home/michael/jupyter/earningDateData/Companies/2020-01-13/BAC.csv\n",
      "/home/michael/jupyter/earningDateData/Companies/2020-01-13/BLK.csv\n",
      "/home/michael/jupyter/earningDateData/Companies/2020-01-13/USB.csv\n",
      "/home/michael/jupyter/earningDateData/Companies/2020-01-13/PNC.csv\n",
      "/home/michael/jupyter/earningDateData/Companies/2020-01-13/PBCT.csv\n",
      "/home/michael/jupyter/earningDateData/Companies/2020-01-13/UNH.csv\n",
      "/home/michael/jupyter/earningDateData/Companies/2020-01-13/GS.csv\n",
      "/home/michael/jupyter/earningDateData/Companies/2020-01-13/OZK.csv\n",
      "/home/michael/jupyter/earningDateData/Companies/2020-01-13/BK.csv\n",
      "/home/michael/jupyter/earningDateData/Companies/2020-01-13/CSX.csv\n",
      "/home/michael/jupyter/earningDateData/Companies/2020-01-13/SCHW.csv\n",
      "/home/michael/jupyter/earningDateData/Companies/2020-01-13/PRGS.csv\n",
      "/home/michael/jupyter/earningDateData/Companies/2020-01-13/WNS.csv\n",
      "/home/michael/jupyter/earningDateData/Companies/2020-01-13/PPG.csv\n",
      "/home/michael/jupyter/earningDateData/Companies/2020-01-13/MS.csv\n",
      "/home/michael/jupyter/earningDateData/Companies/2020-01-13/JBHT.csv\n",
      "/home/michael/jupyter/earningDateData/Companies/2020-01-13/RF.csv\n",
      "/home/michael/jupyter/earningDateData/Companies/2020-01-13/CFG.csv\n",
      "/home/michael/jupyter/earningDateData/Companies/2020-01-13/FAST.csv\n",
      "/home/michael/jupyter/earningDateData/Companies/2020-01-13/STT.csv\n",
      "/home/michael/jupyter/earningDateData/Companies/2020-01-13/KSU.csv\n",
      "/home/michael/jupyter/earningDateData/Companies/2020-01-13/SLB.csv\n"
     ],
     "output_type": "stream"
    },
    {
     "data": {
      "text/plain": "   Symbol                           Company Earnings_Date   Time      Volume  \\\n0     AEO     American Eagle Outfitters Inc    2020-01-13  Befor   5389839.0   \n1     DAL               Delta Air Lines Inc    2020-01-14  Befor   8000476.0   \n2     FRC               First Republic Bank    2020-01-14  Befor   1623550.0   \n3     JPM               JPMorgan Chase & Co    2020-01-14  Befor   9838090.0   \n4       C                     Citigroup Inc    2020-01-14  Befor   9469413.0   \n5     WFC                  Wells Fargo & Co    2020-01-14  Befor  13708384.0   \n6    FCEL               FuelCell Energy Inc    2020-01-14  Befor  18949864.0   \n7    INFO                    IHS Markit Ltd    2020-01-14  Befor   2945179.0   \n8     KMI                 Kinder Morgan Inc    2020-01-14  Time   15982431.0   \n9      AA                        Alcoa Corp    2020-01-15  After   4987510.0   \n10    BAC              Bank of America Corp    2020-01-15    TAS  39549501.0   \n11    BLK                     BlackRock Inc    2020-01-15  Befor    480949.0   \n12    USB                      U.S. Bancorp    2020-01-15  Befor   5257576.0   \n13    PNC  PNC Financial Services Group Inc    2020-01-15  Befor   2169501.0   \n14   PBCT     People's United Financial Inc    2020-01-15  Time    2002986.0   \n15    UNH            UnitedHealth Group Inc    2020-01-15  Befor   2446347.0   \n16     GS           Goldman Sachs Group Inc    2020-01-15  Befor   2233367.0   \n17    OZK                          Bank Ozk    2020-01-16  After    772502.0   \n18     BK      Bank of New York Mellon Corp    2020-01-16  Befor   3293923.0   \n19    CSX                          CSX Corp    2020-01-16  After   2028620.0   \n20   SCHW               Charles Schwab Corp    2020-01-16  Befor   7425196.0   \n21   PRGS            Progress Software Corp    2020-01-16  After    264689.0   \n22    WNS                WNS (Holdings) Ltd    2020-01-16    TAS    142636.0   \n23    PPG                PPG Industries Inc    2020-01-16  Befor   1662167.0   \n24     MS                    Morgan Stanley    2020-01-16  Befor   7631950.0   \n25   JBHT   J B Hunt Transport Services Inc    2020-01-17  Befor    553214.0   \n26     RF            Regions Financial Corp    2020-01-17  Befor   6063872.0   \n27    CFG      Citizens Financial Group Inc    2020-01-17  Befor   1989444.0   \n28   FAST                       Fastenal Co    2020-01-17    TAS   3534883.0   \n29    STT                 State Street Corp    2020-01-17  Befor   3085833.0   \n30    KSU              Kansas City Southern    2020-01-17  Befor   1135693.0   \n31    SLB                   Schlumberger NV    2020-01-17    TAS   8079298.0   \n\n      High     Low     Last    Open    Close     ...     maxFwd4PriceDelta  \\\n0    14.42   13.98   $14.15   14.23   $14.34     ...                 $2.94   \n1    59.49   58.62   $59.24   59.25   $58.96     ...                 $2.82   \n2   115.89  113.97  $114.30  115.75  $115.75     ...                 $2.58   \n3   137.25  135.81  $136.07  137.21  $137.44     ...                 $3.59   \n4    80.01   79.07   $79.25   80.00   $80.08     ...                 $4.19   \n5    52.90   52.48   $52.50   52.79   $52.73     ...                 $2.19   \n6     2.23    2.06    $2.22    2.18    $2.19     ...                 $1.32   \n7    78.77   78.00   $78.26   78.41   $78.19     ...                 $2.29   \n8    21.68   21.32   $21.51   21.43   $21.55     ...                 $0.39   \n9    19.94   19.34   $19.45   19.90   $19.81     ...                 $1.57   \n10   35.07   34.66   $34.74   35.00   $35.03     ...                 $1.06   \n11  515.24  510.41  $512.18  514.51  $513.10     ...                $34.73   \n12   57.15   56.58   $56.67   57.10   $57.06     ...                 $2.44   \n13  160.98  158.47  $158.57  160.98  $160.81     ...                 $4.00   \n14   16.56   16.29   $16.32   16.56   $16.56     ...                 $0.53   \n15  296.07  292.21  $295.13  296.07  $294.22     ...                $10.66   \n16  243.39  241.39  $242.11  242.75  $242.60     ...                 $7.63   \n17   30.95   30.33   $30.44   30.93   $30.45     ...                 $4.21   \n18   51.39   50.42   $50.54   51.39   $51.48     ...                 $2.63   \n19   73.86   73.27   $73.36   73.72   $73.74     ...                 $5.84   \n20   48.16   47.62   $47.80   48.13   $48.11     ...                 $1.91   \n21   43.54   42.45   $43.34   42.72   $42.56     ...                 $8.84   \n22   68.07   66.77   $66.96   67.62   $67.28     ...                 $2.96   \n23  129.47  127.96  $128.09  128.86  $128.66     ...                 $4.11   \n24   52.47   51.91   $52.21   52.15   $52.07     ...                 $2.47   \n25  120.11  118.79  $119.08  119.42  $119.03     ...                $11.16   \n26   16.58   16.29   $16.35   16.55   $16.55     ...                 $0.59   \n27   40.08   39.45   $39.52   40.05   $40.02     ...                 $1.53   \n28   36.57   35.90   $36.33   36.22   $36.22     ...                 $1.72   \n29   82.87   81.60   $81.69   82.68   $82.92     ...                 $1.87   \n30  160.01  157.97  $158.25  159.75  $159.91     ...                 $5.14   \n31   40.09   39.51   $39.83   39.73   $39.86     ...                 $2.80   \n\n   minFwd4PriceDelta stdFwd4% sdtFwd1%  varFwd4%  varFwd1%  meanFwd4%  \\\n0             $-1.87    7.58%    4.46%     0.58%     0.20%      1.19%   \n1             $-0.73    2.37%    1.34%     0.06%     0.02%      1.39%   \n2             $-3.14    1.90%    1.13%     0.04%     0.01%      0.99%   \n3             $-1.05    1.36%    1.47%     0.02%     0.02%      1.22%   \n4             $-1.22    2.39%    2.09%     0.06%     0.04%      1.08%   \n5             $-0.11    1.46%    1.44%     0.02%     0.02%      1.94%   \n6             $-1.80   25.34%   15.72%     6.42%     2.47%    -12.61%   \n7             $-1.20    1.83%    1.04%     0.03%     0.01%      0.47%   \n8             $-0.91    2.24%    1.34%     0.05%     0.02%     -0.76%   \n9             $-8.28    8.01%    7.14%     0.64%     0.51%     -3.75%   \n10             $0.01    1.26%    0.86%     0.02%     0.01%      1.88%   \n11           $-15.64    2.59%    0.84%     0.07%     0.01%      0.60%   \n12            $-1.53    1.97%    0.99%     0.04%     0.01%      1.93%   \n13            $-1.20    1.26%    1.11%     0.02%     0.01%      1.18%   \n14            $-1.10    2.82%    1.83%     0.08%     0.03%      0.75%   \n15           $-10.38    3.25%    1.72%     0.11%     0.03%      0.85%   \n16            $-6.96    2.04%    1.30%     0.04%     0.02%      0.65%   \n17           $-10.62   19.27%   15.97%     3.71%     2.55%     -3.39%   \n18            $-2.46    3.34%    1.13%     0.11%     0.01%      1.08%   \n19            $-8.63    6.51%    5.09%     0.42%     0.26%     -0.17%   \n20            $-0.90    2.13%    1.69%     0.05%     0.03%      0.68%   \n21            $-6.90    9.12%    6.47%     0.83%     0.42%     -0.76%   \n22            $-1.52    2.74%    1.08%     0.07%     0.01%      0.61%   \n23            $-5.14    2.83%    1.76%     0.08%     0.03%      0.15%   \n24            $-0.88    2.55%    1.66%     0.06%     0.03%      1.44%   \n25            $-6.88    4.60%    3.58%     0.21%     0.13%      1.40%   \n26            $-0.08    1.40%    2.08%     0.02%     0.04%      1.66%   \n27            $-0.48    1.43%    1.36%     0.02%     0.02%      0.57%   \n28            $-0.42    2.55%    1.96%     0.07%     0.04%      1.79%   \n29            $-4.85    2.81%    1.84%     0.08%     0.03%     -0.30%   \n30            $-5.30    2.68%    1.18%     0.07%     0.01%     -0.36%   \n31            $-5.17    4.57%    2.31%     0.21%     0.05%     -0.10%   \n\n   meanFwd1% medianFwd4% medianFwd1%  \n0      2.29%       0.76%       2.86%  \n1      0.41%       0.43%       0.08%  \n2      0.09%       1.33%      -0.21%  \n3      0.17%       1.27%      -0.23%  \n4      0.63%       0.82%       0.16%  \n5      0.81%       1.86%       0.20%  \n6     -6.01%      -3.45%      -2.01%  \n7     -0.43%       0.79%      -0.36%  \n8     -0.73%      -0.56%      -0.63%  \n9     -1.62%      -1.64%       0.37%  \n10     0.76%       1.52%       0.72%  \n11     0.41%       0.34%       0.44%  \n12     0.77%       1.95%       1.05%  \n13     0.45%       1.15%       0.56%  \n14     0.58%       1.90%       0.47%  \n15    -0.06%       2.17%      -0.68%  \n16     0.45%       1.17%       0.15%  \n17    -4.10%       5.40%       2.11%  \n18     0.43%       1.06%       0.21%  \n19    -0.03%      -0.46%       0.29%  \n20    -0.18%       0.70%      -0.28%  \n21     1.18%       0.54%      -0.08%  \n22    -0.41%       0.20%      -0.45%  \n23     0.12%       0.45%      -0.33%  \n24     1.01%       2.08%       1.08%  \n25     0.98%       0.74%       0.35%  \n26     0.11%       1.42%       0.15%  \n27     0.44%       0.47%       0.73%  \n28     0.82%       2.35%       1.46%  \n29     0.17%      -0.24%       0.27%  \n30     0.41%      -0.09%       0.77%  \n31     0.16%       0.60%      -0.46%  \n\n[32 rows x 38 columns]",
      "text/html": "<div>\n<style scoped>\n    .dataframe tbody tr th:only-of-type {\n        vertical-align: middle;\n    }\n\n    .dataframe tbody tr th {\n        vertical-align: top;\n    }\n\n    .dataframe thead th {\n        text-align: right;\n    }\n</style>\n<table border=\"1\" class=\"dataframe\">\n  <thead>\n    <tr style=\"text-align: right;\">\n      <th></th>\n      <th>Symbol</th>\n      <th>Company</th>\n      <th>Earnings_Date</th>\n      <th>Time</th>\n      <th>Volume</th>\n      <th>High</th>\n      <th>Low</th>\n      <th>Last</th>\n      <th>Open</th>\n      <th>Close</th>\n      <th>...</th>\n      <th>maxFwd4PriceDelta</th>\n      <th>minFwd4PriceDelta</th>\n      <th>stdFwd4%</th>\n      <th>sdtFwd1%</th>\n      <th>varFwd4%</th>\n      <th>varFwd1%</th>\n      <th>meanFwd4%</th>\n      <th>meanFwd1%</th>\n      <th>medianFwd4%</th>\n      <th>medianFwd1%</th>\n    </tr>\n  </thead>\n  <tbody>\n    <tr>\n      <th>0</th>\n      <td>AEO</td>\n      <td>American Eagle Outfitters Inc</td>\n      <td>2020-01-13</td>\n      <td>Befor</td>\n      <td>5389839.0</td>\n      <td>14.42</td>\n      <td>13.98</td>\n      <td>$14.15</td>\n      <td>14.23</td>\n      <td>$14.34</td>\n      <td>...</td>\n      <td>$2.94</td>\n      <td>$-1.87</td>\n      <td>7.58%</td>\n      <td>4.46%</td>\n      <td>0.58%</td>\n      <td>0.20%</td>\n      <td>1.19%</td>\n      <td>2.29%</td>\n      <td>0.76%</td>\n      <td>2.86%</td>\n    </tr>\n    <tr>\n      <th>1</th>\n      <td>DAL</td>\n      <td>Delta Air Lines Inc</td>\n      <td>2020-01-14</td>\n      <td>Befor</td>\n      <td>8000476.0</td>\n      <td>59.49</td>\n      <td>58.62</td>\n      <td>$59.24</td>\n      <td>59.25</td>\n      <td>$58.96</td>\n      <td>...</td>\n      <td>$2.82</td>\n      <td>$-0.73</td>\n      <td>2.37%</td>\n      <td>1.34%</td>\n      <td>0.06%</td>\n      <td>0.02%</td>\n      <td>1.39%</td>\n      <td>0.41%</td>\n      <td>0.43%</td>\n      <td>0.08%</td>\n    </tr>\n    <tr>\n      <th>2</th>\n      <td>FRC</td>\n      <td>First Republic Bank</td>\n      <td>2020-01-14</td>\n      <td>Befor</td>\n      <td>1623550.0</td>\n      <td>115.89</td>\n      <td>113.97</td>\n      <td>$114.30</td>\n      <td>115.75</td>\n      <td>$115.75</td>\n      <td>...</td>\n      <td>$2.58</td>\n      <td>$-3.14</td>\n      <td>1.90%</td>\n      <td>1.13%</td>\n      <td>0.04%</td>\n      <td>0.01%</td>\n      <td>0.99%</td>\n      <td>0.09%</td>\n      <td>1.33%</td>\n      <td>-0.21%</td>\n    </tr>\n    <tr>\n      <th>3</th>\n      <td>JPM</td>\n      <td>JPMorgan Chase &amp; Co</td>\n      <td>2020-01-14</td>\n      <td>Befor</td>\n      <td>9838090.0</td>\n      <td>137.25</td>\n      <td>135.81</td>\n      <td>$136.07</td>\n      <td>137.21</td>\n      <td>$137.44</td>\n      <td>...</td>\n      <td>$3.59</td>\n      <td>$-1.05</td>\n      <td>1.36%</td>\n      <td>1.47%</td>\n      <td>0.02%</td>\n      <td>0.02%</td>\n      <td>1.22%</td>\n      <td>0.17%</td>\n      <td>1.27%</td>\n      <td>-0.23%</td>\n    </tr>\n    <tr>\n      <th>4</th>\n      <td>C</td>\n      <td>Citigroup Inc</td>\n      <td>2020-01-14</td>\n      <td>Befor</td>\n      <td>9469413.0</td>\n      <td>80.01</td>\n      <td>79.07</td>\n      <td>$79.25</td>\n      <td>80.00</td>\n      <td>$80.08</td>\n      <td>...</td>\n      <td>$4.19</td>\n      <td>$-1.22</td>\n      <td>2.39%</td>\n      <td>2.09%</td>\n      <td>0.06%</td>\n      <td>0.04%</td>\n      <td>1.08%</td>\n      <td>0.63%</td>\n      <td>0.82%</td>\n      <td>0.16%</td>\n    </tr>\n    <tr>\n      <th>5</th>\n      <td>WFC</td>\n      <td>Wells Fargo &amp; Co</td>\n      <td>2020-01-14</td>\n      <td>Befor</td>\n      <td>13708384.0</td>\n      <td>52.90</td>\n      <td>52.48</td>\n      <td>$52.50</td>\n      <td>52.79</td>\n      <td>$52.73</td>\n      <td>...</td>\n      <td>$2.19</td>\n      <td>$-0.11</td>\n      <td>1.46%</td>\n      <td>1.44%</td>\n      <td>0.02%</td>\n      <td>0.02%</td>\n      <td>1.94%</td>\n      <td>0.81%</td>\n      <td>1.86%</td>\n      <td>0.20%</td>\n    </tr>\n    <tr>\n      <th>6</th>\n      <td>FCEL</td>\n      <td>FuelCell Energy Inc</td>\n      <td>2020-01-14</td>\n      <td>Befor</td>\n      <td>18949864.0</td>\n      <td>2.23</td>\n      <td>2.06</td>\n      <td>$2.22</td>\n      <td>2.18</td>\n      <td>$2.19</td>\n      <td>...</td>\n      <td>$1.32</td>\n      <td>$-1.80</td>\n      <td>25.34%</td>\n      <td>15.72%</td>\n      <td>6.42%</td>\n      <td>2.47%</td>\n      <td>-12.61%</td>\n      <td>-6.01%</td>\n      <td>-3.45%</td>\n      <td>-2.01%</td>\n    </tr>\n    <tr>\n      <th>7</th>\n      <td>INFO</td>\n      <td>IHS Markit Ltd</td>\n      <td>2020-01-14</td>\n      <td>Befor</td>\n      <td>2945179.0</td>\n      <td>78.77</td>\n      <td>78.00</td>\n      <td>$78.26</td>\n      <td>78.41</td>\n      <td>$78.19</td>\n      <td>...</td>\n      <td>$2.29</td>\n      <td>$-1.20</td>\n      <td>1.83%</td>\n      <td>1.04%</td>\n      <td>0.03%</td>\n      <td>0.01%</td>\n      <td>0.47%</td>\n      <td>-0.43%</td>\n      <td>0.79%</td>\n      <td>-0.36%</td>\n    </tr>\n    <tr>\n      <th>8</th>\n      <td>KMI</td>\n      <td>Kinder Morgan Inc</td>\n      <td>2020-01-14</td>\n      <td>Time</td>\n      <td>15982431.0</td>\n      <td>21.68</td>\n      <td>21.32</td>\n      <td>$21.51</td>\n      <td>21.43</td>\n      <td>$21.55</td>\n      <td>...</td>\n      <td>$0.39</td>\n      <td>$-0.91</td>\n      <td>2.24%</td>\n      <td>1.34%</td>\n      <td>0.05%</td>\n      <td>0.02%</td>\n      <td>-0.76%</td>\n      <td>-0.73%</td>\n      <td>-0.56%</td>\n      <td>-0.63%</td>\n    </tr>\n    <tr>\n      <th>9</th>\n      <td>AA</td>\n      <td>Alcoa Corp</td>\n      <td>2020-01-15</td>\n      <td>After</td>\n      <td>4987510.0</td>\n      <td>19.94</td>\n      <td>19.34</td>\n      <td>$19.45</td>\n      <td>19.90</td>\n      <td>$19.81</td>\n      <td>...</td>\n      <td>$1.57</td>\n      <td>$-8.28</td>\n      <td>8.01%</td>\n      <td>7.14%</td>\n      <td>0.64%</td>\n      <td>0.51%</td>\n      <td>-3.75%</td>\n      <td>-1.62%</td>\n      <td>-1.64%</td>\n      <td>0.37%</td>\n    </tr>\n    <tr>\n      <th>10</th>\n      <td>BAC</td>\n      <td>Bank of America Corp</td>\n      <td>2020-01-15</td>\n      <td>TAS</td>\n      <td>39549501.0</td>\n      <td>35.07</td>\n      <td>34.66</td>\n      <td>$34.74</td>\n      <td>35.00</td>\n      <td>$35.03</td>\n      <td>...</td>\n      <td>$1.06</td>\n      <td>$0.01</td>\n      <td>1.26%</td>\n      <td>0.86%</td>\n      <td>0.02%</td>\n      <td>0.01%</td>\n      <td>1.88%</td>\n      <td>0.76%</td>\n      <td>1.52%</td>\n      <td>0.72%</td>\n    </tr>\n    <tr>\n      <th>11</th>\n      <td>BLK</td>\n      <td>BlackRock Inc</td>\n      <td>2020-01-15</td>\n      <td>Befor</td>\n      <td>480949.0</td>\n      <td>515.24</td>\n      <td>510.41</td>\n      <td>$512.18</td>\n      <td>514.51</td>\n      <td>$513.10</td>\n      <td>...</td>\n      <td>$34.73</td>\n      <td>$-15.64</td>\n      <td>2.59%</td>\n      <td>0.84%</td>\n      <td>0.07%</td>\n      <td>0.01%</td>\n      <td>0.60%</td>\n      <td>0.41%</td>\n      <td>0.34%</td>\n      <td>0.44%</td>\n    </tr>\n    <tr>\n      <th>12</th>\n      <td>USB</td>\n      <td>U.S. Bancorp</td>\n      <td>2020-01-15</td>\n      <td>Befor</td>\n      <td>5257576.0</td>\n      <td>57.15</td>\n      <td>56.58</td>\n      <td>$56.67</td>\n      <td>57.10</td>\n      <td>$57.06</td>\n      <td>...</td>\n      <td>$2.44</td>\n      <td>$-1.53</td>\n      <td>1.97%</td>\n      <td>0.99%</td>\n      <td>0.04%</td>\n      <td>0.01%</td>\n      <td>1.93%</td>\n      <td>0.77%</td>\n      <td>1.95%</td>\n      <td>1.05%</td>\n    </tr>\n    <tr>\n      <th>13</th>\n      <td>PNC</td>\n      <td>PNC Financial Services Group Inc</td>\n      <td>2020-01-15</td>\n      <td>Befor</td>\n      <td>2169501.0</td>\n      <td>160.98</td>\n      <td>158.47</td>\n      <td>$158.57</td>\n      <td>160.98</td>\n      <td>$160.81</td>\n      <td>...</td>\n      <td>$4.00</td>\n      <td>$-1.20</td>\n      <td>1.26%</td>\n      <td>1.11%</td>\n      <td>0.02%</td>\n      <td>0.01%</td>\n      <td>1.18%</td>\n      <td>0.45%</td>\n      <td>1.15%</td>\n      <td>0.56%</td>\n    </tr>\n    <tr>\n      <th>14</th>\n      <td>PBCT</td>\n      <td>People's United Financial Inc</td>\n      <td>2020-01-15</td>\n      <td>Time</td>\n      <td>2002986.0</td>\n      <td>16.56</td>\n      <td>16.29</td>\n      <td>$16.32</td>\n      <td>16.56</td>\n      <td>$16.56</td>\n      <td>...</td>\n      <td>$0.53</td>\n      <td>$-1.10</td>\n      <td>2.82%</td>\n      <td>1.83%</td>\n      <td>0.08%</td>\n      <td>0.03%</td>\n      <td>0.75%</td>\n      <td>0.58%</td>\n      <td>1.90%</td>\n      <td>0.47%</td>\n    </tr>\n    <tr>\n      <th>15</th>\n      <td>UNH</td>\n      <td>UnitedHealth Group Inc</td>\n      <td>2020-01-15</td>\n      <td>Befor</td>\n      <td>2446347.0</td>\n      <td>296.07</td>\n      <td>292.21</td>\n      <td>$295.13</td>\n      <td>296.07</td>\n      <td>$294.22</td>\n      <td>...</td>\n      <td>$10.66</td>\n      <td>$-10.38</td>\n      <td>3.25%</td>\n      <td>1.72%</td>\n      <td>0.11%</td>\n      <td>0.03%</td>\n      <td>0.85%</td>\n      <td>-0.06%</td>\n      <td>2.17%</td>\n      <td>-0.68%</td>\n    </tr>\n    <tr>\n      <th>16</th>\n      <td>GS</td>\n      <td>Goldman Sachs Group Inc</td>\n      <td>2020-01-15</td>\n      <td>Befor</td>\n      <td>2233367.0</td>\n      <td>243.39</td>\n      <td>241.39</td>\n      <td>$242.11</td>\n      <td>242.75</td>\n      <td>$242.60</td>\n      <td>...</td>\n      <td>$7.63</td>\n      <td>$-6.96</td>\n      <td>2.04%</td>\n      <td>1.30%</td>\n      <td>0.04%</td>\n      <td>0.02%</td>\n      <td>0.65%</td>\n      <td>0.45%</td>\n      <td>1.17%</td>\n      <td>0.15%</td>\n    </tr>\n    <tr>\n      <th>17</th>\n      <td>OZK</td>\n      <td>Bank Ozk</td>\n      <td>2020-01-16</td>\n      <td>After</td>\n      <td>772502.0</td>\n      <td>30.95</td>\n      <td>30.33</td>\n      <td>$30.44</td>\n      <td>30.93</td>\n      <td>$30.45</td>\n      <td>...</td>\n      <td>$4.21</td>\n      <td>$-10.62</td>\n      <td>19.27%</td>\n      <td>15.97%</td>\n      <td>3.71%</td>\n      <td>2.55%</td>\n      <td>-3.39%</td>\n      <td>-4.10%</td>\n      <td>5.40%</td>\n      <td>2.11%</td>\n    </tr>\n    <tr>\n      <th>18</th>\n      <td>BK</td>\n      <td>Bank of New York Mellon Corp</td>\n      <td>2020-01-16</td>\n      <td>Befor</td>\n      <td>3293923.0</td>\n      <td>51.39</td>\n      <td>50.42</td>\n      <td>$50.54</td>\n      <td>51.39</td>\n      <td>$51.48</td>\n      <td>...</td>\n      <td>$2.63</td>\n      <td>$-2.46</td>\n      <td>3.34%</td>\n      <td>1.13%</td>\n      <td>0.11%</td>\n      <td>0.01%</td>\n      <td>1.08%</td>\n      <td>0.43%</td>\n      <td>1.06%</td>\n      <td>0.21%</td>\n    </tr>\n    <tr>\n      <th>19</th>\n      <td>CSX</td>\n      <td>CSX Corp</td>\n      <td>2020-01-16</td>\n      <td>After</td>\n      <td>2028620.0</td>\n      <td>73.86</td>\n      <td>73.27</td>\n      <td>$73.36</td>\n      <td>73.72</td>\n      <td>$73.74</td>\n      <td>...</td>\n      <td>$5.84</td>\n      <td>$-8.63</td>\n      <td>6.51%</td>\n      <td>5.09%</td>\n      <td>0.42%</td>\n      <td>0.26%</td>\n      <td>-0.17%</td>\n      <td>-0.03%</td>\n      <td>-0.46%</td>\n      <td>0.29%</td>\n    </tr>\n    <tr>\n      <th>20</th>\n      <td>SCHW</td>\n      <td>Charles Schwab Corp</td>\n      <td>2020-01-16</td>\n      <td>Befor</td>\n      <td>7425196.0</td>\n      <td>48.16</td>\n      <td>47.62</td>\n      <td>$47.80</td>\n      <td>48.13</td>\n      <td>$48.11</td>\n      <td>...</td>\n      <td>$1.91</td>\n      <td>$-0.90</td>\n      <td>2.13%</td>\n      <td>1.69%</td>\n      <td>0.05%</td>\n      <td>0.03%</td>\n      <td>0.68%</td>\n      <td>-0.18%</td>\n      <td>0.70%</td>\n      <td>-0.28%</td>\n    </tr>\n    <tr>\n      <th>21</th>\n      <td>PRGS</td>\n      <td>Progress Software Corp</td>\n      <td>2020-01-16</td>\n      <td>After</td>\n      <td>264689.0</td>\n      <td>43.54</td>\n      <td>42.45</td>\n      <td>$43.34</td>\n      <td>42.72</td>\n      <td>$42.56</td>\n      <td>...</td>\n      <td>$8.84</td>\n      <td>$-6.90</td>\n      <td>9.12%</td>\n      <td>6.47%</td>\n      <td>0.83%</td>\n      <td>0.42%</td>\n      <td>-0.76%</td>\n      <td>1.18%</td>\n      <td>0.54%</td>\n      <td>-0.08%</td>\n    </tr>\n    <tr>\n      <th>22</th>\n      <td>WNS</td>\n      <td>WNS (Holdings) Ltd</td>\n      <td>2020-01-16</td>\n      <td>TAS</td>\n      <td>142636.0</td>\n      <td>68.07</td>\n      <td>66.77</td>\n      <td>$66.96</td>\n      <td>67.62</td>\n      <td>$67.28</td>\n      <td>...</td>\n      <td>$2.96</td>\n      <td>$-1.52</td>\n      <td>2.74%</td>\n      <td>1.08%</td>\n      <td>0.07%</td>\n      <td>0.01%</td>\n      <td>0.61%</td>\n      <td>-0.41%</td>\n      <td>0.20%</td>\n      <td>-0.45%</td>\n    </tr>\n    <tr>\n      <th>23</th>\n      <td>PPG</td>\n      <td>PPG Industries Inc</td>\n      <td>2020-01-16</td>\n      <td>Befor</td>\n      <td>1662167.0</td>\n      <td>129.47</td>\n      <td>127.96</td>\n      <td>$128.09</td>\n      <td>128.86</td>\n      <td>$128.66</td>\n      <td>...</td>\n      <td>$4.11</td>\n      <td>$-5.14</td>\n      <td>2.83%</td>\n      <td>1.76%</td>\n      <td>0.08%</td>\n      <td>0.03%</td>\n      <td>0.15%</td>\n      <td>0.12%</td>\n      <td>0.45%</td>\n      <td>-0.33%</td>\n    </tr>\n    <tr>\n      <th>24</th>\n      <td>MS</td>\n      <td>Morgan Stanley</td>\n      <td>2020-01-16</td>\n      <td>Befor</td>\n      <td>7631950.0</td>\n      <td>52.47</td>\n      <td>51.91</td>\n      <td>$52.21</td>\n      <td>52.15</td>\n      <td>$52.07</td>\n      <td>...</td>\n      <td>$2.47</td>\n      <td>$-0.88</td>\n      <td>2.55%</td>\n      <td>1.66%</td>\n      <td>0.06%</td>\n      <td>0.03%</td>\n      <td>1.44%</td>\n      <td>1.01%</td>\n      <td>2.08%</td>\n      <td>1.08%</td>\n    </tr>\n    <tr>\n      <th>25</th>\n      <td>JBHT</td>\n      <td>J B Hunt Transport Services Inc</td>\n      <td>2020-01-17</td>\n      <td>Befor</td>\n      <td>553214.0</td>\n      <td>120.11</td>\n      <td>118.79</td>\n      <td>$119.08</td>\n      <td>119.42</td>\n      <td>$119.03</td>\n      <td>...</td>\n      <td>$11.16</td>\n      <td>$-6.88</td>\n      <td>4.60%</td>\n      <td>3.58%</td>\n      <td>0.21%</td>\n      <td>0.13%</td>\n      <td>1.40%</td>\n      <td>0.98%</td>\n      <td>0.74%</td>\n      <td>0.35%</td>\n    </tr>\n    <tr>\n      <th>26</th>\n      <td>RF</td>\n      <td>Regions Financial Corp</td>\n      <td>2020-01-17</td>\n      <td>Befor</td>\n      <td>6063872.0</td>\n      <td>16.58</td>\n      <td>16.29</td>\n      <td>$16.35</td>\n      <td>16.55</td>\n      <td>$16.55</td>\n      <td>...</td>\n      <td>$0.59</td>\n      <td>$-0.08</td>\n      <td>1.40%</td>\n      <td>2.08%</td>\n      <td>0.02%</td>\n      <td>0.04%</td>\n      <td>1.66%</td>\n      <td>0.11%</td>\n      <td>1.42%</td>\n      <td>0.15%</td>\n    </tr>\n    <tr>\n      <th>27</th>\n      <td>CFG</td>\n      <td>Citizens Financial Group Inc</td>\n      <td>2020-01-17</td>\n      <td>Befor</td>\n      <td>1989444.0</td>\n      <td>40.08</td>\n      <td>39.45</td>\n      <td>$39.52</td>\n      <td>40.05</td>\n      <td>$40.02</td>\n      <td>...</td>\n      <td>$1.53</td>\n      <td>$-0.48</td>\n      <td>1.43%</td>\n      <td>1.36%</td>\n      <td>0.02%</td>\n      <td>0.02%</td>\n      <td>0.57%</td>\n      <td>0.44%</td>\n      <td>0.47%</td>\n      <td>0.73%</td>\n    </tr>\n    <tr>\n      <th>28</th>\n      <td>FAST</td>\n      <td>Fastenal Co</td>\n      <td>2020-01-17</td>\n      <td>TAS</td>\n      <td>3534883.0</td>\n      <td>36.57</td>\n      <td>35.90</td>\n      <td>$36.33</td>\n      <td>36.22</td>\n      <td>$36.22</td>\n      <td>...</td>\n      <td>$1.72</td>\n      <td>$-0.42</td>\n      <td>2.55%</td>\n      <td>1.96%</td>\n      <td>0.07%</td>\n      <td>0.04%</td>\n      <td>1.79%</td>\n      <td>0.82%</td>\n      <td>2.35%</td>\n      <td>1.46%</td>\n    </tr>\n    <tr>\n      <th>29</th>\n      <td>STT</td>\n      <td>State Street Corp</td>\n      <td>2020-01-17</td>\n      <td>Befor</td>\n      <td>3085833.0</td>\n      <td>82.87</td>\n      <td>81.60</td>\n      <td>$81.69</td>\n      <td>82.68</td>\n      <td>$82.92</td>\n      <td>...</td>\n      <td>$1.87</td>\n      <td>$-4.85</td>\n      <td>2.81%</td>\n      <td>1.84%</td>\n      <td>0.08%</td>\n      <td>0.03%</td>\n      <td>-0.30%</td>\n      <td>0.17%</td>\n      <td>-0.24%</td>\n      <td>0.27%</td>\n    </tr>\n    <tr>\n      <th>30</th>\n      <td>KSU</td>\n      <td>Kansas City Southern</td>\n      <td>2020-01-17</td>\n      <td>Befor</td>\n      <td>1135693.0</td>\n      <td>160.01</td>\n      <td>157.97</td>\n      <td>$158.25</td>\n      <td>159.75</td>\n      <td>$159.91</td>\n      <td>...</td>\n      <td>$5.14</td>\n      <td>$-5.30</td>\n      <td>2.68%</td>\n      <td>1.18%</td>\n      <td>0.07%</td>\n      <td>0.01%</td>\n      <td>-0.36%</td>\n      <td>0.41%</td>\n      <td>-0.09%</td>\n      <td>0.77%</td>\n    </tr>\n    <tr>\n      <th>31</th>\n      <td>SLB</td>\n      <td>Schlumberger NV</td>\n      <td>2020-01-17</td>\n      <td>TAS</td>\n      <td>8079298.0</td>\n      <td>40.09</td>\n      <td>39.51</td>\n      <td>$39.83</td>\n      <td>39.73</td>\n      <td>$39.86</td>\n      <td>...</td>\n      <td>$2.80</td>\n      <td>$-5.17</td>\n      <td>4.57%</td>\n      <td>2.31%</td>\n      <td>0.21%</td>\n      <td>0.05%</td>\n      <td>-0.10%</td>\n      <td>0.16%</td>\n      <td>0.60%</td>\n      <td>-0.46%</td>\n    </tr>\n  </tbody>\n</table>\n<p>32 rows × 38 columns</p>\n</div>"
     },
     "metadata": {},
     "output_type": "execute_result",
     "execution_count": 2
    }
   ],
   "source": [
    "# Starting day of the earnings\n",
    "startday = '2020-01-13'\n",
    "\n",
    "buildSummary.createWeeklySummary(startday)\n"
   ]
  },
  {
   "cell_type": "code",
   "execution_count": 3,
   "metadata": {
    "pycharm": {
     "is_executing": false
    }
   },
   "outputs": [
    {
     "name": "stdout",
     "text": [
      "Done - buildExcelDiary-saveDiary2Excel........\n",
      "End Time:  2020-01-11 09:17\n",
      "Elapsed Time:  0:00:03.611262\n"
     ],
     "output_type": "stream"
    }
   ],
   "source": [
    "buildExcelDiary.saveDiary2Excel(startday)\n",
    "    \n",
    "endTime = datetime.datetime.now()\n",
    "print('End Time: ', endTime.strftime(\"%Y-%m-%d %H:%M\"))\n",
    "print('Elapsed Time: ', endTime - startTime )"
   ]
  },
  {
   "cell_type": "code",
   "execution_count": null,
   "metadata": {
    "pycharm": {
     "is_executing": false
    }
   },
   "outputs": [],
   "source": [
    "\n"
   ]
  }
 ],
 "metadata": {
  "kernelspec": {
   "name": "pycharm-cf45a016",
   "language": "python",
   "display_name": "PyCharm (getEarningsFromYahoo)"
  },
  "language_info": {
   "codemirror_mode": {
    "name": "ipython",
    "version": 3
   },
   "file_extension": ".py",
   "mimetype": "text/x-python",
   "name": "python",
   "nbconvert_exporter": "python",
   "pygments_lexer": "ipython3",
   "version": "3.7.4"
  },
  "pycharm": {
   "stem_cell": {
    "cell_type": "raw",
    "source": [],
    "metadata": {
     "collapsed": false
    }
   }
  }
 },
 "nbformat": 4,
 "nbformat_minor": 4
}