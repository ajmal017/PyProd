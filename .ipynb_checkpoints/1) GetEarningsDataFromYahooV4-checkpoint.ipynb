{
 "cells": [
  {
   "cell_type": "code",
   "execution_count": 1,
   "metadata": {
    "pycharm": {
     "is_executing": false
    }
   },
   "outputs": [
    {
     "name": "stdout",
     "text": [
      "Start Time:  2020-01-11 09:01\n"
     ],
     "output_type": "stream"
    }
   ],
   "source": [
    "\n",
    "import sys\n",
    "sys.path.append('/home/michael/jupyter/local-packages')\n",
    "\n",
    "import datetime\n",
    "\n",
    "from localUtilities.ibUtils import setup\n",
    "from localUtilities.webScrape import getEarningsOnDate\n",
    "from localUtilities.ibUtils import buildCsvSummary \n",
    "\n",
    "startTime = datetime.datetime.now()\n",
    "\n",
    "print('Start Time: ', startTime.strftime(\"%Y-%m-%d %H:%M\"))"
   ]
  },
  {
   "cell_type": "code",
   "execution_count": 2,
   "metadata": {
    "pycharm": {
     "is_executing": false
    }
   },
   "outputs": [
    {
     "data": {
      "text/plain": "'2020-01-13'"
     },
     "metadata": {},
     "output_type": "execute_result",
     "execution_count": 2
    }
   ],
   "source": [
    "# Starting day of the earnings week.\n",
    "startday = '2020-01-13' \n",
    "startday\n"
   ]
  },
  {
   "cell_type": "code",
   "execution_count": 3,
   "metadata": {
    "pycharm": {
     "is_executing": false
    }
   },
   "outputs": [
    {
     "name": "stdout",
     "text": [
      "1-6 of 6 results\n",
      "Working Day:  2020-01-13\n",
      "1-14 of 14 results\n",
      "Working Day:  2020-01-14\n",
      "1-18 of 18 results\n",
      "Working Day:  2020-01-15\n",
      "1-19 of 19 results\n",
      "Working Day:  2020-01-16\n",
      "1-9 of 9 results\n",
      "Working Day:  2020-01-17\n"
     ],
     "output_type": "stream"
    }
   ],
   "source": [
    "# get earnings from Yahoo for the week of startdate\n",
    "anEarningsDF = getEarningsOnDate.getEarningsForWeek(startday)\n"
   ]
  },
  {
   "cell_type": "code",
   "execution_count": 4,
   "metadata": {
    "collapsed": false,
    "jupyter": {
     "outputs_hidden": false
    },
    "pycharm": {
     "is_executing": false,
     "name": "#%%\n"
    }
   },
   "outputs": [
    {
     "name": "stdout",
     "text": [
      "BMRA:  No OCC Option Volume\n",
      "BBCP:  No OCC Option Volume\n",
      "BBCP:  No OCC Option Volume\n",
      "PTSI:  No OCC Option Volume\n",
      "MMND:  No OCC Option Volume\n",
      "BBT:  No OCC Option Volume\n",
      "CVLY:  No OCC Option Volume\n",
      "STI:  No OCC Option Volume\n",
      "BEDU:  No OCC Option Volume\n",
      "FEDU:  No OCC Option Volume\n",
      "PBCTP:  No OCC Option Volume\n",
      "HIFS:  No OCC Option Volume\n",
      "Done - setup.addMarketData....\n"
     ],
     "output_type": "stream"
    }
   ],
   "source": [
    "# Add Market Data: \n",
    "#    Close Price, Last Price, Historic Volatility, Implied Volatility, Option Volume, Expected Range $ move\n",
    "earningsDF, earningsDFAll = setup.addMarketData( anEarningsDF, startday)\n"
   ]
  },
  {
   "cell_type": "code",
   "execution_count": 5,
   "metadata": {
    "pycharm": {
     "is_executing": false,
     "name": "#%%\n"
    }
   },
   "outputs": [
    {
     "name": "stdout",
     "text": [
      "End Time:  2020-01-11 09:03\n",
      "Elapsed Time:  0:01:52.075294\n"
     ],
     "output_type": "stream"
    }
   ],
   "source": [
    "buildCsvSummary.saveCsvSummary(earningsDF, earningsDFAll, startday)\n",
    "\n",
    "endTime = datetime.datetime.now()\n",
    "\n",
    "print('End Time: ', endTime.strftime(\"%Y-%m-%d %H:%M\"))\n",
    "print('Elapsed Time: ', endTime - startTime )\n",
    "\n"
   ]
  }
 ],
 "metadata": {
  "kernelspec": {
   "name": "pycharm-cf45a016",
   "language": "python",
   "display_name": "PyCharm (getEarningsFromYahoo)"
  },
  "language_info": {
   "codemirror_mode": {
    "name": "ipython",
    "version": 3
   },
   "file_extension": ".py",
   "mimetype": "text/x-python",
   "name": "python",
   "nbconvert_exporter": "python",
   "pygments_lexer": "ipython3",
   "version": "3.7.5"
  },
  "pycharm": {
   "stem_cell": {
    "cell_type": "raw",
    "source": [],
    "metadata": {
     "collapsed": false
    }
   }
  }
 },
 "nbformat": 4,
 "nbformat_minor": 4
}