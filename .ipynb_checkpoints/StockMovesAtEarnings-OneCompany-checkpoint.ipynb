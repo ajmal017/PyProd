{
 "cells": [
  {
   "cell_type": "code",
   "execution_count": 1,
   "metadata": {},
   "outputs": [
    {
     "data": {
      "text/plain": [
       "<IB connected to 127.0.0.1:4002 clientId=16>"
      ]
     },
     "execution_count": 1,
     "metadata": {},
     "output_type": "execute_result"
    }
   ],
   "source": [
    "#Get the iWidget stuff\n",
    "from __future__ import print_function\n",
    "from ipywidgets import interact, interactive, fixed, interact_manual\n",
    "import ipywidgets as widgets\n",
    "\n",
    "import os\n",
    "import sys\n",
    "\n",
    "sys.path.append('/home/michael/jupyter/local-packages')\n",
    "\n",
    "# Get my Utilities (localUtilities).to_csv(aStockOutFile)\n",
    "from localUtilities import dateUtils  #bPyUtils, configIB \n",
    "from localUtilities.webScrape import getCompanEarningsFromYahoo\n",
    "from localUtilities.ibUtils import getOptionStrategyPrice as strat\n",
    "from localUtilities.ibUtils import setup as setup\n",
    "\n",
    "import numpy as np\n",
    "import pandas as pd\n",
    "import datetime\n",
    "import random\n",
    "import itertools\n",
    "\n",
    "\n",
    "from IPython.display import display, HTML\n",
    "\n",
    "# matplotlib imports\n",
    "import matplotlib.pyplot as plt\n",
    "import matplotlib.dates as mdates\n",
    "from matplotlib.dates import DateFormatter\n",
    "from matplotlib.ticker import (MultipleLocator, FormatStrFormatter,\n",
    "                               AutoMinorLocator)\n",
    "\n",
    "# interactive Shell to see variables outside of print() function - \n",
    "#  if this is on one can suppress output by adding a ';' at the end of line \n",
    "#   not 100% clear which variables this supresses \n",
    "# from IPython.core.interactiveshell import InteractiveShell\n",
    "# InteractiveShell.ast_node_interactivity = \"all\"\n",
    "\n",
    "# Doc is here: https://ib-insync.readthedocs.io/readme.htpriceEarnDayml\n",
    "from ib_insync import *\n",
    "util.startLoop()\n",
    "\n",
    "ib = IB()\n",
    "# Connect to IB Gateway / Paper Trade 4002 \n",
    "#            TWS        / Paper Tiv_Difra, yahooEarningsDF)de 7495\n",
    "ib.connect('127.0.0.1', 4002, clientId=16)"
   ]
  },
  {
   "cell_type": "code",
   "execution_count": 2,
   "metadata": {},
   "outputs": [
    {
     "data": {
      "text/plain": [
       "True"
      ]
     },
     "execution_count": 2,
     "metadata": {},
     "output_type": "execute_result"
    }
   ],
   "source": [
    "#See if connected \n",
    "ib.isConnected()"
   ]
  },
  {
   "cell_type": "code",
   "execution_count": 3,
   "metadata": {},
   "outputs": [
    {
     "data": {
      "text/plain": [
       "'/home/michael/jupyter/earningDateData/Companies/2019-09-30/'"
      ]
     },
     "execution_count": 3,
     "metadata": {},
     "output_type": "execute_result"
    }
   ],
   "source": [
    "startday = '2019-09-30'\n",
    "\n",
    "theDirectory = '/home/michael/jupyter/earningDateData/' + 'Companies/' + startday + '/' \n",
    "csvSuffix = '.csv'\n",
    "inFile = theDirectory + 'weekOf-' + startday + csvSuffix\n",
    "theDirectory"
   ]
  },
  {
   "cell_type": "code",
   "execution_count": 4,
   "metadata": {},
   "outputs": [
    {
     "name": "stdout",
     "output_type": "stream",
     "text": [
      "PEP\n",
      "   Symbol       Earnings_Date      Company EPS_Estimate Reported_EPS  \\\n",
      "0     PEP 2019-07-09 10:00:00  PepsiCo Inc          1.5         1.54   \n",
      "1     PEP 2019-04-17 10:00:00  PepsiCo Inc         0.92         0.97   \n",
      "2     PEP 2019-02-15 11:00:00  PepsiCo Inc         1.49         1.49   \n",
      "3     PEP 2018-10-02 10:00:00  PepsiCo Inc         1.57         1.59   \n",
      "4     PEP 2018-07-10 10:00:00  PepsiCo Inc         1.52         1.61   \n",
      "5     PEP 2018-04-26 10:00:00  PepsiCo Inc         0.93         0.96   \n",
      "6     PEP 2018-02-13 06:00:00  PepsiCo Inc          1.3         1.31   \n",
      "7     PEP 2017-10-04 06:00:00  PepsiCo Inc         1.44         1.48   \n",
      "8     PEP 2017-07-11 12:00:00  PepsiCo Inc          1.4          1.5   \n",
      "9     PEP 2017-04-26 12:00:00  PepsiCo Inc         0.92         0.94   \n",
      "10    PEP 2017-02-15 06:00:00  PepsiCo Inc         1.16          1.2   \n",
      "\n",
      "   Surprise(%)  \n",
      "0        +2.67  \n",
      "1        +5.43  \n",
      "2          N/A  \n",
      "3        +1.27  \n",
      "4        +5.92  \n",
      "5        +3.23  \n",
      "6        +0.77  \n",
      "7        +2.78  \n",
      "8        +7.14  \n",
      "9        +2.17  \n",
      "10       +3.45  \n"
     ]
    },
    {
     "name": "stderr",
     "output_type": "stream",
     "text": [
      "Error 162, reqId 18: Historical Market Data Service error message:HMDS query returned no data: PEP@SMART Trades, contract: Stock(conId=11017, symbol='PEP', exchange='SMART', primaryExchange='NASDAQ', currency='USD', localSymbol='PEP', tradingClass='NMS')\n",
      "Error 162, reqId 20: Historical Market Data Service error message:HMDS query returned no data: PEP@SMART Trades, contract: Stock(conId=11017, symbol='PEP', exchange='SMART', primaryExchange='NASDAQ', currency='USD', localSymbol='PEP', tradingClass='NMS')\n",
      "Error 162, reqId 22: Historical Market Data Service error message:HMDS query returned no data: PEP@SMART Trades, contract: Stock(conId=11017, symbol='PEP', exchange='SMART', primaryExchange='NASDAQ', currency='USD', localSymbol='PEP', tradingClass='NMS')\n",
      "Error 162, reqId 24: Historical Market Data Service error message:HMDS query returned no data: PEP@SMART Trades, contract: Stock(conId=11017, symbol='PEP', exchange='SMART', primaryExchange='NASDAQ', currency='USD', localSymbol='PEP', tradingClass='NMS')\n"
     ]
    },
    {
     "name": "stdout",
     "output_type": "stream",
     "text": [
      "len earningsPastStock  11\n",
      "len earningsPastImpVol 11\n",
      "len yahooEarnings.to_csv(aStockOutFile)DF 11\n",
      "      <class 'KeyError'> In getMinMaxPricePercent // afterEarnDate is a holiday:  2019-04-19\n"
     ]
    },
    {
     "ename": "AttributeError",
     "evalue": "'NoneType' object has no attribute 'set_index'",
     "output_type": "error",
     "traceback": [
      "\u001b[0;31m---------------------------------------------------------------------------\u001b[0m",
      "\u001b[0;31mAttributeError\u001b[0m                            Traceback (most recent call last)",
      "\u001b[0;32m<ipython-input-4-799ea56d167f>\u001b[0m in \u001b[0;36m<module>\u001b[0;34m\u001b[0m\n\u001b[1;32m     10\u001b[0m \u001b[0mprint\u001b[0m\u001b[0;34m(\u001b[0m\u001b[0;34m'len earningsPastImpVol'\u001b[0m\u001b[0;34m,\u001b[0m \u001b[0mlen\u001b[0m\u001b[0;34m(\u001b[0m\u001b[0mearningsPastImpVol\u001b[0m\u001b[0;34m)\u001b[0m\u001b[0;34m)\u001b[0m\u001b[0;34m\u001b[0m\u001b[0;34m\u001b[0m\u001b[0m\n\u001b[1;32m     11\u001b[0m \u001b[0mprint\u001b[0m\u001b[0;34m(\u001b[0m\u001b[0;34m'len yahooEarnings.to_csv(aStockOutFile)DF'\u001b[0m\u001b[0;34m,\u001b[0m \u001b[0mlen\u001b[0m\u001b[0;34m(\u001b[0m\u001b[0myahooEarningsDF\u001b[0m\u001b[0;34m)\u001b[0m\u001b[0;34m)\u001b[0m\u001b[0;34m\u001b[0m\u001b[0;34m\u001b[0m\u001b[0m\n\u001b[0;32m---> 12\u001b[0;31m \u001b[0myahooEarningsDF\u001b[0m \u001b[0;34m=\u001b[0m \u001b[0mstrat\u001b[0m\u001b[0;34m.\u001b[0m\u001b[0mgetMinMaxPricePercent\u001b[0m\u001b[0;34m(\u001b[0m\u001b[0mearningsPastStock\u001b[0m\u001b[0;34m,\u001b[0m \u001b[0mearningsPastImpVol\u001b[0m\u001b[0;34m,\u001b[0m \u001b[0myahooEarningsDF\u001b[0m\u001b[0;34m,\u001b[0m \u001b[0mtheDaysCountPastEarnings\u001b[0m\u001b[0;34m)\u001b[0m\u001b[0;34m\u001b[0m\u001b[0;34m\u001b[0m\u001b[0m\n\u001b[0m\u001b[1;32m     13\u001b[0m \u001b[0;34m\u001b[0m\u001b[0m\n\u001b[1;32m     14\u001b[0m \u001b[0;34m\u001b[0m\u001b[0m\n",
      "\u001b[0;32m~/jupyter/local-packages/localUtilities/ibUtils/getOptionStrategyPrice.py\u001b[0m in \u001b[0;36mgetMinMaxPricePercent\u001b[0;34m(earningsPastStock, earningsPastImpVol, yahooEarningsDF, theDays)\u001b[0m\n\u001b[1;32m     40\u001b[0m     \u001b[0;32mfor\u001b[0m \u001b[0mcount\u001b[0m \u001b[0;32min\u001b[0m \u001b[0mrange\u001b[0m\u001b[0;34m(\u001b[0m\u001b[0;36m0\u001b[0m\u001b[0;34m,\u001b[0m \u001b[0mlen\u001b[0m\u001b[0;34m(\u001b[0m\u001b[0myahooEarningsDF\u001b[0m\u001b[0;34m)\u001b[0m\u001b[0;34m)\u001b[0m\u001b[0;34m:\u001b[0m  \u001b[0;31m# for all the dates in earningsCalendar\u001b[0m\u001b[0;34m\u001b[0m\u001b[0;34m\u001b[0m\u001b[0m\n\u001b[1;32m     41\u001b[0m         \u001b[0;31m# recreate index as the 'date' column for price\u001b[0m\u001b[0;34m\u001b[0m\u001b[0;34m\u001b[0m\u001b[0;34m\u001b[0m\u001b[0m\n\u001b[0;32m---> 42\u001b[0;31m         \u001b[0mePSPrice\u001b[0m \u001b[0;34m=\u001b[0m \u001b[0mearningsPastStock\u001b[0m\u001b[0;34m[\u001b[0m\u001b[0mcount\u001b[0m\u001b[0;34m]\u001b[0m\u001b[0;34m.\u001b[0m\u001b[0mset_index\u001b[0m\u001b[0;34m(\u001b[0m\u001b[0;34m\"date\"\u001b[0m\u001b[0;34m,\u001b[0m \u001b[0mdrop\u001b[0m\u001b[0;34m=\u001b[0m\u001b[0;32mFalse\u001b[0m\u001b[0;34m)\u001b[0m\u001b[0;34m\u001b[0m\u001b[0;34m\u001b[0m\u001b[0m\n\u001b[0m\u001b[1;32m     43\u001b[0m         \u001b[0mePSPrice\u001b[0m\u001b[0;34m.\u001b[0m\u001b[0mindex\u001b[0m \u001b[0;34m=\u001b[0m \u001b[0mpd\u001b[0m\u001b[0;34m.\u001b[0m\u001b[0mto_datetime\u001b[0m\u001b[0;34m(\u001b[0m\u001b[0mePSPrice\u001b[0m\u001b[0;34m.\u001b[0m\u001b[0mindex\u001b[0m\u001b[0;34m)\u001b[0m\u001b[0;34m\u001b[0m\u001b[0;34m\u001b[0m\u001b[0m\n\u001b[1;32m     44\u001b[0m \u001b[0;34m\u001b[0m\u001b[0m\n",
      "\u001b[0;31mAttributeError\u001b[0m: 'NoneType' object has no attribute 'set_index'"
     ]
    }
   ],
   "source": [
    "theDaysCountPastEarnings = 6\n",
    "symbol = 'PEP'\n",
    "print(symbol)\n",
    "theStock = symbol\n",
    "qualityContracts, contract = setup.getQualityContracts(ib, theStock) \n",
    "yahooEarningsDF = getCompanEarningsFromYahoo.getPastEarnings(theStock)\n",
    "print(yahooEarningsDF)\n",
    "earningsPastStock, earningsPastImpVol = strat.getHistoricIVnPrice(ib, contract, yahooEarningsDF)\n",
    "print('len earningsPastStock ', len(earningsPastStock))\n",
    "print('len earningsPastImpVol', len(earningsPastImpVol))\n",
    "print('len yahooEarnings.to_csv(aStockOutFile)DF', len(yahooEarningsDF))\n",
    "yahooEarningsDF = strat.getMinMaxPricePercent(earningsPastStock, earningsPastImpVol, yahooEarningsDF, theDaysCountPastEarnings)\n",
    "\n",
    "\n",
    "yahooEarningsDF\n",
    "    "
   ]
  },
  {
   "cell_type": "code",
   "execution_count": null,
   "metadata": {},
   "outputs": [],
   "source": []
  },
  {
   "cell_type": "code",
   "execution_count": null,
   "metadata": {},
   "outputs": [],
   "source": []
  },
  {
   "cell_type": "code",
   "execution_count": 5,
   "metadata": {},
   "outputs": [
    {
     "data": {
      "text/html": [
       "<div>\n",
       "<style scoped>\n",
       "    .dataframe tbody tr th:only-of-type {\n",
       "        vertical-align: middle;\n",
       "    }\n",
       "\n",
       "    .dataframe tbody tr th {\n",
       "        vertical-align: top;\n",
       "    }\n",
       "\n",
       "    .dataframe thead th {\n",
       "        text-align: right;\n",
       "    }\n",
       "</style>\n",
       "<table border=\"1\" class=\"dataframe\">\n",
       "  <thead>\n",
       "    <tr style=\"text-align: right;\">\n",
       "      <th></th>\n",
       "      <th>Symbol</th>\n",
       "      <th>Earnings_Date</th>\n",
       "      <th>Company</th>\n",
       "      <th>EPS_Estimate</th>\n",
       "      <th>Reported_EPS</th>\n",
       "      <th>Surprise(%)</th>\n",
       "    </tr>\n",
       "  </thead>\n",
       "  <tbody>\n",
       "    <tr>\n",
       "      <th>0</th>\n",
       "      <td>PEP</td>\n",
       "      <td>2019-07-09 10:00:00</td>\n",
       "      <td>PepsiCo Inc</td>\n",
       "      <td>1.5</td>\n",
       "      <td>1.54</td>\n",
       "      <td>+2.67</td>\n",
       "    </tr>\n",
       "    <tr>\n",
       "      <th>1</th>\n",
       "      <td>PEP</td>\n",
       "      <td>2019-04-17 10:00:00</td>\n",
       "      <td>PepsiCo Inc</td>\n",
       "      <td>0.92</td>\n",
       "      <td>0.97</td>\n",
       "      <td>+5.43</td>\n",
       "    </tr>\n",
       "    <tr>\n",
       "      <th>2</th>\n",
       "      <td>PEP</td>\n",
       "      <td>2019-02-15 11:00:00</td>\n",
       "      <td>PepsiCo Inc</td>\n",
       "      <td>1.49</td>\n",
       "      <td>1.49</td>\n",
       "      <td>N/A</td>\n",
       "    </tr>\n",
       "    <tr>\n",
       "      <th>3</th>\n",
       "      <td>PEP</td>\n",
       "      <td>2018-10-02 10:00:00</td>\n",
       "      <td>PepsiCo Inc</td>\n",
       "      <td>1.57</td>\n",
       "      <td>1.59</td>\n",
       "      <td>+1.27</td>\n",
       "    </tr>\n",
       "    <tr>\n",
       "      <th>4</th>\n",
       "      <td>PEP</td>\n",
       "      <td>2018-07-10 10:00:00</td>\n",
       "      <td>PepsiCo Inc</td>\n",
       "      <td>1.52</td>\n",
       "      <td>1.61</td>\n",
       "      <td>+5.92</td>\n",
       "    </tr>\n",
       "    <tr>\n",
       "      <th>5</th>\n",
       "      <td>PEP</td>\n",
       "      <td>2018-04-26 10:00:00</td>\n",
       "      <td>PepsiCo Inc</td>\n",
       "      <td>0.93</td>\n",
       "      <td>0.96</td>\n",
       "      <td>+3.23</td>\n",
       "    </tr>\n",
       "    <tr>\n",
       "      <th>6</th>\n",
       "      <td>PEP</td>\n",
       "      <td>2018-02-13 06:00:00</td>\n",
       "      <td>PepsiCo Inc</td>\n",
       "      <td>1.3</td>\n",
       "      <td>1.31</td>\n",
       "      <td>+0.77</td>\n",
       "    </tr>\n",
       "    <tr>\n",
       "      <th>7</th>\n",
       "      <td>PEP</td>\n",
       "      <td>2017-10-04 06:00:00</td>\n",
       "      <td>PepsiCo Inc</td>\n",
       "      <td>1.44</td>\n",
       "      <td>1.48</td>\n",
       "      <td>+2.78</td>\n",
       "    </tr>\n",
       "    <tr>\n",
       "      <th>8</th>\n",
       "      <td>PEP</td>\n",
       "      <td>2017-07-11 12:00:00</td>\n",
       "      <td>PepsiCo Inc</td>\n",
       "      <td>1.4</td>\n",
       "      <td>1.5</td>\n",
       "      <td>+7.14</td>\n",
       "    </tr>\n",
       "    <tr>\n",
       "      <th>9</th>\n",
       "      <td>PEP</td>\n",
       "      <td>2017-04-26 12:00:00</td>\n",
       "      <td>PepsiCo Inc</td>\n",
       "      <td>0.92</td>\n",
       "      <td>0.94</td>\n",
       "      <td>+2.17</td>\n",
       "    </tr>\n",
       "    <tr>\n",
       "      <th>10</th>\n",
       "      <td>PEP</td>\n",
       "      <td>2017-02-15 06:00:00</td>\n",
       "      <td>PepsiCo Inc</td>\n",
       "      <td>1.16</td>\n",
       "      <td>1.2</td>\n",
       "      <td>+3.45</td>\n",
       "    </tr>\n",
       "  </tbody>\n",
       "</table>\n",
       "</div>"
      ],
      "text/plain": [
       "   Symbol       Earnings_Date      Company EPS_Estimate Reported_EPS  \\\n",
       "0     PEP 2019-07-09 10:00:00  PepsiCo Inc          1.5         1.54   \n",
       "1     PEP 2019-04-17 10:00:00  PepsiCo Inc         0.92         0.97   \n",
       "2     PEP 2019-02-15 11:00:00  PepsiCo Inc         1.49         1.49   \n",
       "3     PEP 2018-10-02 10:00:00  PepsiCo Inc         1.57         1.59   \n",
       "4     PEP 2018-07-10 10:00:00  PepsiCo Inc         1.52         1.61   \n",
       "5     PEP 2018-04-26 10:00:00  PepsiCo Inc         0.93         0.96   \n",
       "6     PEP 2018-02-13 06:00:00  PepsiCo Inc          1.3         1.31   \n",
       "7     PEP 2017-10-04 06:00:00  PepsiCo Inc         1.44         1.48   \n",
       "8     PEP 2017-07-11 12:00:00  PepsiCo Inc          1.4          1.5   \n",
       "9     PEP 2017-04-26 12:00:00  PepsiCo Inc         0.92         0.94   \n",
       "10    PEP 2017-02-15 06:00:00  PepsiCo Inc         1.16          1.2   \n",
       "\n",
       "   Surprise(%)  \n",
       "0        +2.67  \n",
       "1        +5.43  \n",
       "2          N/A  \n",
       "3        +1.27  \n",
       "4        +5.92  \n",
       "5        +3.23  \n",
       "6        +0.77  \n",
       "7        +2.78  \n",
       "8        +7.14  \n",
       "9        +2.17  \n",
       "10       +3.45  "
      ]
     },
     "execution_count": 5,
     "metadata": {},
     "output_type": "execute_result"
    }
   ],
   "source": [
    "yahooEarningsDF\n"
   ]
  },
  {
   "cell_type": "code",
   "execution_count": null,
   "metadata": {},
   "outputs": [],
   "source": []
  }
 ],
 "metadata": {
  "kernelspec": {
   "display_name": "Python 3",
   "language": "python",
   "name": "python3"
  },
  "language_info": {
   "codemirror_mode": {
    "name": "ipython",
    "version": 3
   },
   "file_extension": ".py",
   "mimetype": "text/x-python",
   "name": "python",
   "nbconvert_exporter": "python",
   "pygments_lexer": "ipython3",
   "version": "3.7.4"
  }
 },
 "nbformat": 4,
 "nbformat_minor": 4
}
