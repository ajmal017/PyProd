{
 "cells": [
  {
   "cell_type": "code",
   "execution_count": 1,
   "metadata": {},
   "outputs": [
    {
     "data": {
      "text/plain": [
       "<IB connected to 127.0.0.1:4002 clientId=8>"
      ]
     },
     "execution_count": 1,
     "metadata": {},
     "output_type": "execute_result"
    }
   ],
   "source": [
    "#Get the iWidget stuff\n",
    "from __future__ import print_function\n",
    "from ipywidgets import interact, interactive, fixed, interact_manual\n",
    "import ipywidgets as widgets\n",
    "\n",
    "import os\n",
    "import sys\n",
    "\n",
    "sys.path.append('/home/michael/jupyter/local-packages')\n",
    "\n",
    "# Get my Utilities (localUtilities)\n",
    "from localUtilities import dateUtils  #bPyUtils, configIB \n",
    "from localUtilities.webScrape import getCompanEarningsFromYahoo\n",
    "from localUtilities.ibUtils import getOptionStrategyPrice as strat\n",
    "from localUtilities.ibUtils import setup as setup\n",
    "\n",
    "import numpy as np\n",
    "import pandas as pd\n",
    "import datetime\n",
    "import random\n",
    "import itertools\n",
    "\n",
    "\n",
    "from IPython.display import display, HTML\n",
    "\n",
    "# matplotlib imports\n",
    "import matplotlib.pyplot as plt\n",
    "import matplotlib.dates as mdates\n",
    "from matplotlib.dates import DateFormatter\n",
    "from matplotlib.ticker import (MultipleLocator, FormatStrFormatter,\n",
    "                               AutoMinorLocator)\n",
    "\n",
    "# interactive Shell to see variables outside of print() function - \n",
    "#  if this is on one can suppress output by adding a ';' at the end of line \n",
    "#   not 100% clear which variables this supresses \n",
    "# from IPython.core.interactiveshell import InteractiveShell\n",
    "# InteractiveShell.ast_node_interactivity = \"all\"\n",
    "\n",
    "# Doc is here: https://ib-insync.readthedocs.io/readme.html\n",
    "from ib_insync import *\n",
    "util.startLoop()\n",
    "\n",
    "ib = IB()\n",
    "# Connect to IB Gateway / Paper Trade 4002 \n",
    "#            TWS        / Paper Tiv_Difrade 7495\n",
    "ib.connect('127.0.0.1', 4002, clientId=8)"
   ]
  },
  {
   "cell_type": "code",
   "execution_count": 2,
   "metadata": {},
   "outputs": [
    {
     "data": {
      "text/plain": [
       "True"
      ]
     },
     "execution_count": 2,
     "metadata": {},
     "output_type": "execute_result"
    }
   ],
   "source": [
    "#See if connected \n",
    "ib.isConnected()"
   ]
  },
  {
   "cell_type": "code",
   "execution_count": 3,
   "metadata": {},
   "outputs": [
    {
     "data": {
      "text/plain": [
       "'/home/michael/jupyter/earningDateData/Companies/2019-10-07/'"
      ]
     },
     "execution_count": 3,
     "metadata": {},
     "output_type": "execute_result"
    }
   ],
   "source": [
    "startday = '2019-10-07'\n",
    "\n",
    "theDirectory = '/home/michael/jupyter/earningDateData/' + 'Companies/' + startday + '/' \n",
    "csvSuffix = '.csv'\n",
    "inFile = theDirectory + 'EarningOfInterestforweekOf-' + startday + csvSuffix\n",
    "\n",
    "theDirectory"
   ]
  },
  {
   "cell_type": "code",
   "execution_count": 4,
   "metadata": {},
   "outputs": [
    {
     "name": "stdout",
     "output_type": "stream",
     "text": [
      "GWPH\n",
      "LEVI\n",
      "      <class 'KeyError'>        In getMinMaxPricePercent\n",
      "      <class 'ValueError'> In getMinMaxPricePercent\n",
      "DPZ\n",
      "EROS\n",
      "      <class 'KeyError'>        In addMinMax // afterEarnDate is a holiday:  2017-05-29 <class 'KeyError'>\n",
      "      <class 'KeyError'>        In addMinMax // afterEarnDate is a holiday:  2017-05-29 <class 'KeyError'>\n",
      "HELE\n",
      "DAL\n",
      "      <class 'KeyError'> In getMinMaxPricePercent // afterEarnDate is a holiday:  2017-04-14\n",
      "FAST\n",
      "      <class 'KeyError'> In getMinMaxPricePercent // afterEarnDate is a holiday:  2017-04-14\n"
     ]
    }
   ],
   "source": [
    "theDaysCountPastEarnings = 6\n",
    "earningsDFfromFile = pd.read_csv(inFile)\n",
    "\n",
    "for row in earningsDFfromFile.itertuples():\n",
    "    print(row.Symbol)\n",
    "    theStock = row.Symbol\n",
    "    qualityContracts, contract = setup.getQualityContracts(ib, theStock) \n",
    "    yahooEarningsDF = getCompanEarningsFromYahoo.getPastEarnings(theStock)\n",
    "    earningsPastStock, earningsPastImpVol = strat.getHistoricIVnPrice(ib, contract, yahooEarningsDF)\n",
    "    yahooEarningsDF = strat.getMinMaxPricePercent(earningsPastStock, earningsPastImpVol, yahooEarningsDF, theDaysCountPastEarnings)\n",
    "    aStockOutFile = theDirectory + theStock  + csvSuffix\n",
    "    yahooEarningsDF.to_csv(aStockOutFile)\n",
    "    "
   ]
  },
  {
   "cell_type": "code",
   "execution_count": 5,
   "metadata": {},
   "outputs": [
    {
     "data": {
      "text/html": [
       "<div>\n",
       "<style scoped>\n",
       "    .dataframe tbody tr th:only-of-type {\n",
       "        vertical-align: middle;\n",
       "    }\n",
       "\n",
       "    .dataframe tbody tr th {\n",
       "        vertical-align: top;\n",
       "    }\n",
       "\n",
       "    .dataframe thead th {\n",
       "        text-align: right;\n",
       "    }\n",
       "</style>\n",
       "<table border=\"1\" class=\"dataframe\">\n",
       "  <thead>\n",
       "    <tr style=\"text-align: right;\">\n",
       "      <th></th>\n",
       "      <th>Unnamed: 0</th>\n",
       "      <th>Symbol</th>\n",
       "      <th>Earnings_Date</th>\n",
       "      <th>Company</th>\n",
       "      <th>Earnings Call Time</th>\n",
       "      <th>close</th>\n",
       "      <th>last</th>\n",
       "      <th>histVolatility</th>\n",
       "      <th>impliedVolatility</th>\n",
       "      <th>PutFridayOpenInterest</th>\n",
       "      <th>CallFridayOpenInterest</th>\n",
       "      <th>Expected_Range</th>\n",
       "    </tr>\n",
       "  </thead>\n",
       "  <tbody>\n",
       "    <tr>\n",
       "      <th>0</th>\n",
       "      <td>0</td>\n",
       "      <td>GWPH</td>\n",
       "      <td>2019-10-07</td>\n",
       "      <td>GW Pharmaceuticals PLC</td>\n",
       "      <td>Time Not Supplied</td>\n",
       "      <td>119.90</td>\n",
       "      <td>113.75</td>\n",
       "      <td>NaN</td>\n",
       "      <td>NaN</td>\n",
       "      <td>16555.0</td>\n",
       "      <td>6350.0</td>\n",
       "      <td>NaN</td>\n",
       "    </tr>\n",
       "    <tr>\n",
       "      <th>1</th>\n",
       "      <td>1</td>\n",
       "      <td>LEVI</td>\n",
       "      <td>2019-10-08</td>\n",
       "      <td>Levi Strauss &amp; Co</td>\n",
       "      <td>TAS</td>\n",
       "      <td>18.72</td>\n",
       "      <td>19.45</td>\n",
       "      <td>NaN</td>\n",
       "      <td>NaN</td>\n",
       "      <td>10431.0</td>\n",
       "      <td>11971.0</td>\n",
       "      <td>NaN</td>\n",
       "    </tr>\n",
       "    <tr>\n",
       "      <th>2</th>\n",
       "      <td>2</td>\n",
       "      <td>DPZ</td>\n",
       "      <td>2019-10-08</td>\n",
       "      <td>Domino's Pizza Inc</td>\n",
       "      <td>TAS</td>\n",
       "      <td>243.00</td>\n",
       "      <td>243.35</td>\n",
       "      <td>NaN</td>\n",
       "      <td>NaN</td>\n",
       "      <td>2382.0</td>\n",
       "      <td>4161.0</td>\n",
       "      <td>NaN</td>\n",
       "    </tr>\n",
       "    <tr>\n",
       "      <th>3</th>\n",
       "      <td>3</td>\n",
       "      <td>EROS</td>\n",
       "      <td>2019-10-08</td>\n",
       "      <td>Eros International PLC</td>\n",
       "      <td>Before Market Open</td>\n",
       "      <td>1.69</td>\n",
       "      <td>1.70</td>\n",
       "      <td>1.552727</td>\n",
       "      <td>1.901452</td>\n",
       "      <td>15915.0</td>\n",
       "      <td>1615.0</td>\n",
       "      <td>0.61</td>\n",
       "    </tr>\n",
       "    <tr>\n",
       "      <th>4</th>\n",
       "      <td>4</td>\n",
       "      <td>HELE</td>\n",
       "      <td>2019-10-08</td>\n",
       "      <td>Helen of Troy Ltd</td>\n",
       "      <td>Before Market Open</td>\n",
       "      <td>160.00</td>\n",
       "      <td>159.11</td>\n",
       "      <td>NaN</td>\n",
       "      <td>NaN</td>\n",
       "      <td>750.0</td>\n",
       "      <td>1077.0</td>\n",
       "      <td>NaN</td>\n",
       "    </tr>\n",
       "    <tr>\n",
       "      <th>5</th>\n",
       "      <td>5</td>\n",
       "      <td>DAL</td>\n",
       "      <td>2019-10-10</td>\n",
       "      <td>Delta Air Lines Inc</td>\n",
       "      <td>Before Market Open</td>\n",
       "      <td>53.90</td>\n",
       "      <td>52.83</td>\n",
       "      <td>NaN</td>\n",
       "      <td>NaN</td>\n",
       "      <td>14845.0</td>\n",
       "      <td>9637.0</td>\n",
       "      <td>NaN</td>\n",
       "    </tr>\n",
       "    <tr>\n",
       "      <th>6</th>\n",
       "      <td>6</td>\n",
       "      <td>FAST</td>\n",
       "      <td>2019-10-11</td>\n",
       "      <td>Fastenal Co</td>\n",
       "      <td>Before Market Open</td>\n",
       "      <td>31.68</td>\n",
       "      <td>31.01</td>\n",
       "      <td>NaN</td>\n",
       "      <td>NaN</td>\n",
       "      <td>2600.0</td>\n",
       "      <td>6836.0</td>\n",
       "      <td>NaN</td>\n",
       "    </tr>\n",
       "  </tbody>\n",
       "</table>\n",
       "</div>"
      ],
      "text/plain": [
       "   Unnamed: 0 Symbol Earnings_Date                 Company  \\\n",
       "0           0   GWPH    2019-10-07  GW Pharmaceuticals PLC   \n",
       "1           1   LEVI    2019-10-08       Levi Strauss & Co   \n",
       "2           2    DPZ    2019-10-08      Domino's Pizza Inc   \n",
       "3           3   EROS    2019-10-08  Eros International PLC   \n",
       "4           4   HELE    2019-10-08       Helen of Troy Ltd   \n",
       "5           5    DAL    2019-10-10     Delta Air Lines Inc   \n",
       "6           6   FAST    2019-10-11             Fastenal Co   \n",
       "\n",
       "   Earnings Call Time   close    last  histVolatility  impliedVolatility  \\\n",
       "0   Time Not Supplied  119.90  113.75             NaN                NaN   \n",
       "1                 TAS   18.72   19.45             NaN                NaN   \n",
       "2                 TAS  243.00  243.35             NaN                NaN   \n",
       "3  Before Market Open    1.69    1.70        1.552727           1.901452   \n",
       "4  Before Market Open  160.00  159.11             NaN                NaN   \n",
       "5  Before Market Open   53.90   52.83             NaN                NaN   \n",
       "6  Before Market Open   31.68   31.01             NaN                NaN   \n",
       "\n",
       "   PutFridayOpenInterest  CallFridayOpenInterest  Expected_Range  \n",
       "0                16555.0                  6350.0             NaN  \n",
       "1                10431.0                 11971.0             NaN  \n",
       "2                 2382.0                  4161.0             NaN  \n",
       "3                15915.0                  1615.0            0.61  \n",
       "4                  750.0                  1077.0             NaN  \n",
       "5                14845.0                  9637.0             NaN  \n",
       "6                 2600.0                  6836.0             NaN  "
      ]
     },
     "execution_count": 5,
     "metadata": {},
     "output_type": "execute_result"
    }
   ],
   "source": [
    "earningsDFfromFile\n"
   ]
  },
  {
   "cell_type": "code",
   "execution_count": null,
   "metadata": {},
   "outputs": [],
   "source": []
  }
 ],
 "metadata": {
  "kernelspec": {
   "display_name": "Python 3",
   "language": "python",
   "name": "python3"
  },
  "language_info": {
   "codemirror_mode": {
    "name": "ipython",
    "version": 3
   },
   "file_extension": ".py",
   "mimetype": "text/x-python",
   "name": "python",
   "nbconvert_exporter": "python",
   "pygments_lexer": "ipython3",
   "version": "3.7.4"
  }
 },
 "nbformat": 4,
 "nbformat_minor": 4
}
