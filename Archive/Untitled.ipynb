{
 "cells": [
  {
   "cell_type": "code",
   "execution_count": 1,
   "metadata": {},
   "outputs": [
    {
     "data": {
      "text/plain": [
       "<IB connected to 127.0.0.1:4002 clientId=16>"
      ]
     },
     "execution_count": 1,
     "metadata": {},
     "output_type": "execute_result"
    }
   ],
   "source": [
    "#Get the iWidget stuff\n",
    "from __future__ import print_function\n",
    "from ipywidgets import interact, interactive, fixed, interact_manual\n",
    "import ipywidgets as widgets\n",
    "\n",
    "import sys\n",
    "from pathlib import Path \n",
    "sys.path.append('/home/michael/jupyter/local-packages')       \n",
    "import numpy as np\n",
    "import pandas as pd\n",
    "\n",
    "import datetime\n",
    "\n",
    "from datetime import timedelta\n",
    "\n",
    "import random\n",
    "import itertools\n",
    "\n",
    "# Get my Utilities (localUtilities)\n",
    "from localUtilities import dateUtils, errorHandler  \n",
    "# from localUtilities.webScrape import earningYahoo\n",
    "from localUtilities.ibUtils import getOptionStrategyPrice as strat\n",
    "from localUtilities.ibUtils import setup as setupgetStockOptionPrice\n",
    "from localUtilities.ibUtils import buildCsvSummary as buildSummary\n",
    "\n",
    "from localUtilities.webScrape import getEarningsOnDate, getOptionInfo\n",
    "\n",
    "0\n",
    "# interactive Shell to see variables outside of print() function - \n",
    "#  if this is on one can suppress output by adding a ';' at taExcelWriterhe end of line \n",
    "\n",
    "#   not 100% clear ticker.closewhich variables this supresses \n",
    "# Starting day of the earnings type(week.\n",
    "\n",
    "from IPython.core.interactiveshell import InteractiveShell\n",
    "InteractiveShell.ast_node_interactivity = \"all\"\n",
    "\n",
    "\n",
    "# Doc is here: https://ib-insync.readthedocs.io/theStrikesreadme.htmlgetStockOptionPrice\n",
    "from ib_insync import *\n",
    "util.startLoop()\n",
    "\n",
    "ib = IB()       \n",
    "\n",
    "\n",
    "min\n",
    "# Connect to IB Gateway / Paper Trade 4002 maxDF\n",
    "#            TWS        / Paper Trade 7495getStockOptionPrice\n",
    "ib.connect('127.0.0.1', 4002, clientId=16)"
   ]
  },
  {
   "cell_type": "code",
   "execution_count": 4,
   "metadata": {},
   "outputs": [],
   "source": [
    "startday = '2019-10-07'\n",
    "aSymbol = 'GWPH'"
   ]
  },
  {
   "cell_type": "code",
   "execution_count": 5,
   "metadata": {},
   "outputs": [
    {
     "name": "stdout",
     "output_type": "stream",
     "text": [
      "********\n",
      "r:  <Response [200]>\n",
      "puts:  16555 calls:  6350\n"
     ]
    }
   ],
   "source": [
    "puts, calls = getOptionInfo.getOptionVolumeNextFriExpiryCount(aSymbol, startday)\n",
    "print('puts: ',puts, 'calls: ', calls)"
   ]
  },
  {
   "cell_type": "code",
   "execution_count": null,
   "metadata": {},
   "outputs": [],
   "source": [
    "puts\n",
    "calls\n",
    "\n"
   ]
  },
  {
   "cell_type": "code",
   "execution_count": null,
   "metadata": {},
   "outputs": [],
   "source": [
    "aDF"
   ]
  },
  {
   "cell_type": "code",
   "execution_count": null,
   "metadata": {},
   "outputs": [],
   "source": []
  }
 ],
 "metadata": {
  "kernelspec": {
   "display_name": "Python 3",
   "language": "python",
   "name": "python3"
  },
  "language_info": {
   "codemirror_mode": {
    "name": "ipython",
    "version": 3
   },
   "file_extension": ".py",
   "mimetype": "text/x-python",
   "name": "python",
   "nbconvert_exporter": "python",
   "pygments_lexer": "ipython3",
   "version": "3.7.4"
  }
 },
 "nbformat": 4,
 "nbformat_minor": 4
}
