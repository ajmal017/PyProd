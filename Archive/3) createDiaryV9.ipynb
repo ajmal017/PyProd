{
 "cells": [
  {
   "cell_type": "code",
   "execution_count": 1,
   "metadata": {
    "scrolled": true,
    "pycharm": {
     "is_executing": false
    }
   },
   "outputs": [
    {
     "data": {
      "text/plain": "<IB connected to 127.0.0.1:4002 clientId=14>"
     },
     "metadata": {},
     "output_type": "execute_result",
     "execution_count": 1
    }
   ],
   "source": [
    "#Get the iWidget stuff\n",
    "from __future__ import print_function\n",
    "from ipywidgets import interact, interactive, fixed, interact_manual\n",
    "import ipywidgets as widgets\n",
    "\n",
    "import sys\n",
    "from pathlib import Path \n",
    "sys.path.append('/home/michael/jupyter/local-packages')       \n",
    "import numpy as np\n",
    "import pandas as pd\n",
    "\n",
    "import datetime\n",
    "\n",
    "from datetime import timedelta\n",
    "\n",
    "import random\n",
    "import itertools\n",
    "\n",
    "# Get my Utilities (localUtilities)\n",
    "from localUtilities import dateUtils, errorHandler  \n",
    "# from localUtilities.webScrape import earningYahoo\n",
    "from localUtilities.ibUtils import getOptionStrategyPrice as strat\n",
    "from localUtilities.ibUtils import setup as setupgetStockOptionPrice\n",
    "from localUtilities.ibUtils import buildCsvSummary as buildSummary\n",
    "\n",
    "from localUtilities.webScrape import getEarningsOnDate, getOptionInfo\n",
    "\n",
    "# interactive Shell to see variables outside of print() function - \n",
    "#  if this is on one can suppress output by adding a ';' at taExcelWriterhe end of line \n",
    "#   not 100% clear ticker.closewhich variables this supresses \n",
    "# Starting day of the earnings type(week.\n",
    "\n",
    "from IPython.core.interactiveshell import InteractiveShell\n",
    "InteractiveShell.ast_node_interactivity = \"all\"\n",
    "\n",
    "# Doc is here: https://ib-insync.readthedocs.io/theStrikesreadme.htmlgetStockOptionPrice\n",
    "from ib_insync import *\n",
    "util.startLoop()\n",
    "\n",
    "ib = IB()       \n",
    "\n",
    "# Connect to IB Gateway / Paper Trade 4002 \n",
    "#            TWS        / Paper Trade 7495\n",
    "ib.connect('127.0.0.1', 4002, clientId=14)"
   ]
  },
  {
   "cell_type": "code",
   "execution_count": 2,
   "metadata": {
    "pycharm": {
     "is_executing": false
    }
   },
   "outputs": [
    {
     "name": "stdout",
     "text": [
      "in createWeeklySummary\nin createWeekSummary\nin updateDiary\n/home/michael/jupyter/earningDateData/Companies/2019-10-28/CACC.csv\n/home/michael/jupyter/earningDateData/Companies/2019-10-28/GOOGL.csv\n/home/michael/jupyter/earningDateData/Companies/2019-10-28/WBA.csv\n/home/michael/jupyter/earningDateData/Companies/2019-10-28/AMG.csv\n/home/michael/jupyter/earningDateData/Companies/2019-10-28/AWI.csv\n/home/michael/jupyter/earningDateData/Companies/2019-10-28/AROC.csv\n/home/michael/jupyter/earningDateData/Companies/2019-10-28/T.csv\n/home/michael/jupyter/earningDateData/Companies/2019-10-28/ARLP.csv\n/home/michael/jupyter/earningDateData/Companies/2019-10-28/AKAM.csv\n/home/michael/jupyter/earningDateData/Companies/2019-10-28/XLRN.csv\n/home/michael/jupyter/earningDateData/Companies/2019-10-28/EBSB.csv\n/home/michael/jupyter/earningDateData/Companies/2019-10-28/BEAT.csv\n/home/michael/jupyter/earningDateData/Companies/2019-10-28/BGS.csv\n/home/michael/jupyter/earningDateData/Companies/2019-10-28/BYND.csv\n/home/michael/jupyter/earningDateData/Companies/2019-10-28/CTB.csv\n/home/michael/jupyter/earningDateData/Companies/2019-10-28/L.csv\n/home/michael/jupyter/earningDateData/Companies/2019-10-28/CGNX.csv\n/home/michael/jupyter/earningDateData/Companies/2019-10-28/XRX.csv\n/home/michael/jupyter/earningDateData/Companies/2019-10-28/ON.csv\n/home/michael/jupyter/earningDateData/Companies/2019-10-28/CHKP.csv\n/home/michael/jupyter/earningDateData/Companies/2019-10-28/SBAC.csv\n/home/michael/jupyter/earningDateData/Companies/2019-10-28/TREX.csv\n/home/michael/jupyter/earningDateData/Companies/2019-10-28/GDI.csv\n/home/michael/jupyter/earningDateData/Companies/2019-10-28/DORM.csv\n/home/michael/jupyter/earningDateData/Companies/2019-10-28/DO.csv\n/home/michael/jupyter/earningDateData/Companies/2019-10-28/EPD.csv\n/home/michael/jupyter/earningDateData/Companies/2019-10-28/FLT.csv\n/home/michael/jupyter/earningDateData/Companies/2019-10-28/OMF.csv\n/home/michael/jupyter/earningDateData/Companies/2019-10-28/MDR.csv\n/home/michael/jupyter/earningDateData/Companies/2019-10-28/TMUS.csv\n/home/michael/jupyter/earningDateData/Companies/2019-10-28/INST.csv\n/home/michael/jupyter/earningDateData/Companies/2019-10-28/WELL.csv\n/home/michael/jupyter/earningDateData/Companies/2019-10-28/VRNS.csv\n/home/michael/jupyter/earningDateData/Companies/2019-10-28/OI.csv\n/home/michael/jupyter/earningDateData/Companies/2019-10-28/TXRH.csv\n/home/michael/jupyter/earningDateData/Companies/2019-10-28/XPO.csv\n/home/michael/jupyter/earningDateData/Companies/2019-10-28/NOV.csv\n/home/michael/jupyter/earningDateData/Companies/2019-10-28/RIG.csv\n/home/michael/jupyter/earningDateData/Companies/2019-10-28/NXPI.csv\n/home/michael/jupyter/earningDateData/Companies/2019-10-28/SPOT.csv\n/home/michael/jupyter/earningDateData/Companies/2019-10-28/EA.csv\n/home/michael/jupyter/earningDateData/Companies/2019-10-28/VRSK.csv\n/home/michael/jupyter/earningDateData/Companies/2019-10-28/AR.csv\n/home/michael/jupyter/earningDateData/Companies/2019-10-28/ALL.csv\n/home/michael/jupyter/earningDateData/Companies/2019-10-28/AGR.csv\n/home/michael/jupyter/earningDateData/Companies/2019-10-28/ATEN.csv\n/home/michael/jupyter/earningDateData/Companies/2019-10-28/AMD.csv\n/home/michael/jupyter/earningDateData/Companies/2019-10-28/AOS.csv\n/home/michael/jupyter/earningDateData/Companies/2019-10-28/AGCO.csv\n/home/michael/jupyter/earningDateData/Companies/2019-10-28/SAM.csv\n/home/michael/jupyter/earningDateData/Companies/2019-10-28/BXP.csv\n/home/michael/jupyter/earningDateData/Companies/2019-10-28/SYK.csv\n/home/michael/jupyter/earningDateData/Companies/2019-10-28/CB.csv\n/home/michael/jupyter/earningDateData/Companies/2019-10-28/MMC.csv\n/home/michael/jupyter/earningDateData/Companies/2019-10-28/FMC.csv\n/home/michael/jupyter/earningDateData/Companies/2019-10-28/LSCC.csv\n/home/michael/jupyter/earningDateData/Companies/2019-10-28/S.csv\n/home/michael/jupyter/earningDateData/Companies/2019-10-28/CNX.csv\n/home/michael/jupyter/earningDateData/Companies/2019-10-28/CHRW.csv\n/home/michael/jupyter/earningDateData/Companies/2019-10-28/K.csv\n/home/michael/jupyter/earningDateData/Companies/2019-10-28/IRDM.csv\n/home/michael/jupyter/earningDateData/Companies/2019-10-28/SMPL.csv\n/home/michael/jupyter/earningDateData/Companies/2019-10-28/CMI.csv\n/home/michael/jupyter/earningDateData/Companies/2019-10-28/EXAS.csv\n/home/michael/jupyter/earningDateData/Companies/2019-10-28/YUMC.csv\n/home/michael/jupyter/earningDateData/Companies/2019-10-28/KKR.csv\n/home/michael/jupyter/earningDateData/Companies/2019-10-28/CXO.csv\n/home/michael/jupyter/earningDateData/Companies/2019-10-28/GLW.csv\n/home/michael/jupyter/earningDateData/Companies/2019-10-28/TCO.csv\n/home/michael/jupyter/earningDateData/Companies/2019-10-28/COP.csv\n/home/michael/jupyter/earningDateData/Companies/2019-10-28/MRK.csv\n/home/michael/jupyter/earningDateData/Companies/2019-10-28/ETN.csv\n/home/michael/jupyter/earningDateData/Companies/2019-10-28/WAT.csv\n/home/michael/jupyter/earningDateData/Companies/2019-10-28/GM.csv\n/home/michael/jupyter/earningDateData/Companies/2019-10-28/CAKE.csv\n/home/michael/jupyter/earningDateData/Companies/2019-10-28/INCY.csv\n/home/michael/jupyter/earningDateData/Companies/2019-10-28/IPHI.csv\n/home/michael/jupyter/earningDateData/Companies/2019-10-28/ZBRA.csv\n/home/michael/jupyter/earningDateData/Companies/2019-10-28/RXN.csv\n/home/michael/jupyter/earningDateData/Companies/2019-10-28/CMPR.csv\n/home/michael/jupyter/earningDateData/Companies/2019-10-28/LNN.csv\n/home/michael/jupyter/earningDateData/Companies/2019-10-28/IPGP.csv\n/home/michael/jupyter/earningDateData/Companies/2019-10-28/CCEP.csv\n",
      "/home/michael/jupyter/earningDateData/Companies/2019-10-28/DLR.csv\n/home/michael/jupyter/earningDateData/Companies/2019-10-28/FDP.csv\n/home/michael/jupyter/earningDateData/Companies/2019-10-28/DBD.csv\n/home/michael/jupyter/earningDateData/Companies/2019-10-28/EIX.csv\n/home/michael/jupyter/earningDateData/Companies/2019-10-28/ENPH.csv\n/home/michael/jupyter/earningDateData/Companies/2019-10-28/VNOM.csv\n/home/michael/jupyter/earningDateData/Companies/2019-10-28/EPR.csv\n/home/michael/jupyter/earningDateData/Companies/2019-10-28/PEI.csv\n/home/michael/jupyter/earningDateData/Companies/2019-10-28/GNW.csv\n/home/michael/jupyter/earningDateData/Companies/2019-10-28/FEYE.csv\n/home/michael/jupyter/earningDateData/Companies/2019-10-28/GRUB.csv\n/home/michael/jupyter/earningDateData/Companies/2019-10-28/SPGI.csv\n/home/michael/jupyter/earningDateData/Companies/2019-10-28/IGT.csv\n/home/michael/jupyter/earningDateData/Companies/2019-10-28/SAFT.csv\n/home/michael/jupyter/earningDateData/Companies/2019-10-28/SGEN.csv\n/home/michael/jupyter/earningDateData/Companies/2019-10-28/SLCA.csv\n/home/michael/jupyter/earningDateData/Companies/2019-10-28/LDOS.csv\n/home/michael/jupyter/earningDateData/Companies/2019-10-28/HLF.csv\n/home/michael/jupyter/earningDateData/Companies/2019-10-28/WH.csv\n/home/michael/jupyter/earningDateData/Companies/2019-10-28/HCA.csv\n/home/michael/jupyter/earningDateData/Companies/2019-10-28/PFE.csv\n/home/michael/jupyter/earningDateData/Companies/2019-10-28/ZNGA.csv\n/home/michael/jupyter/earningDateData/Companies/2019-10-28/NEO.csv\n/home/michael/jupyter/earningDateData/Companies/2019-10-28/MA.csv\n/home/michael/jupyter/earningDateData/Companies/2019-10-28/MLM.csv\n/home/michael/jupyter/earningDateData/Companies/2019-10-28/PAYC.csv\n/home/michael/jupyter/earningDateData/Companies/2019-10-28/R.csv\n/home/michael/jupyter/earningDateData/Companies/2019-10-28/MDLZ.csv\n/home/michael/jupyter/earningDateData/Companies/2019-10-28/MAT.csv\n/home/michael/jupyter/earningDateData/Companies/2019-10-28/MXIM.csv\n/home/michael/jupyter/earningDateData/Companies/2019-10-28/PSMT.csv\n/home/michael/jupyter/earningDateData/Companies/2019-10-28/ZEN.csv\n/home/michael/jupyter/earningDateData/Companies/2019-10-28/OKE.csv\n/home/michael/jupyter/earningDateData/Companies/2019-10-28/SHOP.csv\n/home/michael/jupyter/earningDateData/Companies/2019-10-28/IR.csv\n/home/michael/jupyter/earningDateData/Companies/2019-10-28/I.csv\n/home/michael/jupyter/earningDateData/Companies/2019-10-28/PSA.csv\n/home/michael/jupyter/earningDateData/Companies/2019-10-28/TX.csv\n/home/michael/jupyter/earningDateData/Companies/2019-10-28/DDD.csv\n/home/michael/jupyter/earningDateData/Companies/2019-10-28/EGHT.csv\n/home/michael/jupyter/earningDateData/Companies/2019-10-28/NLY.csv\n/home/michael/jupyter/earningDateData/Companies/2019-10-28/ARCC.csv\n/home/michael/jupyter/earningDateData/Companies/2019-10-28/ACA.csv\n/home/michael/jupyter/earningDateData/Companies/2019-10-28/ACIA.csv\n/home/michael/jupyter/earningDateData/Companies/2019-10-28/AAWW.csv\n/home/michael/jupyter/earningDateData/Companies/2019-10-28/AWK.csv\n/home/michael/jupyter/earningDateData/Companies/2019-10-28/APA.csv\n/home/michael/jupyter/earningDateData/Companies/2019-10-28/AAPL.csv\n/home/michael/jupyter/earningDateData/Companies/2019-10-28/ALSN.csv\n/home/michael/jupyter/earningDateData/Companies/2019-10-28/APTV.csv\n/home/michael/jupyter/earningDateData/Companies/2019-10-28/ARQL.csv\n/home/michael/jupyter/earningDateData/Companies/2019-10-28/AXE.csv\n/home/michael/jupyter/earningDateData/Companies/2019-10-28/AKS.csv\n/home/michael/jupyter/earningDateData/Companies/2019-10-28/ADTN.csv\n/home/michael/jupyter/earningDateData/Companies/2019-10-28/AIT.csv\n/home/michael/jupyter/earningDateData/Companies/2019-10-28/BG.csv\n/home/michael/jupyter/earningDateData/Companies/2019-10-28/PCRX.csv\n/home/michael/jupyter/earningDateData/Companies/2019-10-28/BOOT.csv\n/home/michael/jupyter/earningDateData/Companies/2019-10-28/BOOT.csv\n/home/michael/jupyter/earningDateData/Companies/2019-10-28/TAP.csv\n/home/michael/jupyter/earningDateData/Companies/2019-10-28/BLUE.csv\n/home/michael/jupyter/earningDateData/Companies/2019-10-28/TUP.csv\n/home/michael/jupyter/earningDateData/Companies/2019-10-28/EAT.csv\n/home/michael/jupyter/earningDateData/Companies/2019-10-28/YUM.csv\n/home/michael/jupyter/earningDateData/Companies/2019-10-28/DIN.csv\n/home/michael/jupyter/earningDateData/Companies/2019-10-28/BPR.csv\n/home/michael/jupyter/earningDateData/Companies/2019-10-28/CBPO.csv\n/home/michael/jupyter/earningDateData/Companies/2019-10-28/CORT.csv\n/home/michael/jupyter/earningDateData/Companies/2019-10-28/FLS.csv\n/home/michael/jupyter/earningDateData/Companies/2019-10-28/CROX.csv\n/home/michael/jupyter/earningDateData/Companies/2019-10-28/RYI.csv\n/home/michael/jupyter/earningDateData/Companies/2019-10-28/MIC.csv\n/home/michael/jupyter/earningDateData/Companies/2019-10-28/CHDN.csv\n/home/michael/jupyter/earningDateData/Companies/2019-10-28/CME.csv\n/home/michael/jupyter/earningDateData/Companies/2019-10-28/MCO.csv\n/home/michael/jupyter/earningDateData/Companies/2019-10-28/CERS.csv\n/home/michael/jupyter/earningDateData/Companies/2019-10-28/ELY.csv\n/home/michael/jupyter/earningDateData/Companies/2019-10-28/HES.csv\n/home/michael/jupyter/earningDateData/Companies/2019-10-28/GE.csv\n",
      "/home/michael/jupyter/earningDateData/Companies/2019-10-28/KLAC.csv\n/home/michael/jupyter/earningDateData/Companies/2019-10-28/CF.csv\n/home/michael/jupyter/earningDateData/Companies/2019-10-28/CONE.csv\n/home/michael/jupyter/earningDateData/Companies/2019-10-28/SF.csv\n/home/michael/jupyter/earningDateData/Companies/2019-10-28/CRUS.csv\n/home/michael/jupyter/earningDateData/Companies/2019-10-28/CRUS.csv\n/home/michael/jupyter/earningDateData/Companies/2019-10-28/UCTT.csv\n/home/michael/jupyter/earningDateData/Companies/2019-10-28/OLED.csv\n/home/michael/jupyter/earningDateData/Companies/2019-10-28/CATM.csv\n/home/michael/jupyter/earningDateData/Companies/2019-10-28/DMRC.csv\n/home/michael/jupyter/earningDateData/Companies/2019-10-28/SPWR.csv\n/home/michael/jupyter/earningDateData/Companies/2019-10-28/SO.csv\n/home/michael/jupyter/earningDateData/Companies/2019-10-28/OXSQ.csv\n/home/michael/jupyter/earningDateData/Companies/2019-10-28/CFFN.csv\n/home/michael/jupyter/earningDateData/Companies/2019-10-28/UIHC.csv\n/home/michael/jupyter/earningDateData/Companies/2019-10-28/UTHR.csv\n/home/michael/jupyter/earningDateData/Companies/2019-10-28/TKR.csv\n/home/michael/jupyter/earningDateData/Companies/2019-10-28/WHD.csv\n/home/michael/jupyter/earningDateData/Companies/2019-10-28/TEX.csv\n/home/michael/jupyter/earningDateData/Companies/2019-10-28/MSG.csv\n/home/michael/jupyter/earningDateData/Companies/2019-10-28/LNC.csv\n/home/michael/jupyter/earningDateData/Companies/2019-10-28/PCTY.csv\n/home/michael/jupyter/earningDateData/Companies/2019-10-28/CODI.csv\n/home/michael/jupyter/earningDateData/Companies/2019-10-28/RCL.csv\n/home/michael/jupyter/earningDateData/Companies/2019-10-28/WDC.csv\n/home/michael/jupyter/earningDateData/Companies/2019-10-28/STAA.csv\n/home/michael/jupyter/earningDateData/Companies/2019-10-28/ETR.csv\n/home/michael/jupyter/earningDateData/Companies/2019-10-28/MDCO.csv\n/home/michael/jupyter/earningDateData/Companies/2019-10-28/CREE.csv\n/home/michael/jupyter/earningDateData/Companies/2019-10-28/HCC.csv\n/home/michael/jupyter/earningDateData/Companies/2019-10-28/CTSH.csv\n/home/michael/jupyter/earningDateData/Companies/2019-10-28/WMB.csv\n/home/michael/jupyter/earningDateData/Companies/2019-10-28/SKT.csv\n/home/michael/jupyter/earningDateData/Companies/2019-10-28/CHEF.csv\n/home/michael/jupyter/earningDateData/Companies/2019-10-28/SC.csv\n/home/michael/jupyter/earningDateData/Companies/2019-10-28/SBUX.csv\n/home/michael/jupyter/earningDateData/Companies/2019-10-28/MAS.csv\n/home/michael/jupyter/earningDateData/Companies/2019-10-28/CARB.csv\n/home/michael/jupyter/earningDateData/Companies/2019-10-28/ETSY.csv\n/home/michael/jupyter/earningDateData/Companies/2019-10-28/MLCO.csv\n/home/michael/jupyter/earningDateData/Companies/2019-10-28/EXTR.csv\n/home/michael/jupyter/earningDateData/Companies/2019-10-28/NVT.csv\n/home/michael/jupyter/earningDateData/Companies/2019-10-28/EQIX.csv\n/home/michael/jupyter/earningDateData/Companies/2019-10-28/WPX.csv\n/home/michael/jupyter/earningDateData/Companies/2019-10-28/EXEL.csv\n/home/michael/jupyter/earningDateData/Companies/2019-10-28/HEP.csv\n/home/michael/jupyter/earningDateData/Companies/2019-10-28/FB.csv\n/home/michael/jupyter/earningDateData/Companies/2019-10-28/FORM.csv\n/home/michael/jupyter/earningDateData/Companies/2019-10-28/GRMN.csv\n/home/michael/jupyter/earningDateData/Companies/2019-10-28/SPG.csv\n/home/michael/jupyter/earningDateData/Companies/2019-10-28/HABT.csv\n/home/michael/jupyter/earningDateData/Companies/2019-10-28/IQV.csv\n/home/michael/jupyter/earningDateData/Companies/2019-10-28/TDOC.csv\n/home/michael/jupyter/earningDateData/Companies/2019-10-28/UVE.csv\n/home/michael/jupyter/earningDateData/Companies/2019-10-28/NSP.csv\n/home/michael/jupyter/earningDateData/Companies/2019-10-28/MET.csv\n/home/michael/jupyter/earningDateData/Companies/2019-10-28/MSI.csv\n/home/michael/jupyter/earningDateData/Companies/2019-10-28/SUM.csv\n/home/michael/jupyter/earningDateData/Companies/2019-10-28/TWLO.csv\n/home/michael/jupyter/earningDateData/Companies/2019-10-28/LYFT.csv\n/home/michael/jupyter/earningDateData/Companies/2019-10-28/WING.csv\n/home/michael/jupyter/earningDateData/Companies/2019-10-28/LHX.csv\n/home/michael/jupyter/earningDateData/Companies/2019-10-28/PS.csv\n/home/michael/jupyter/earningDateData/Companies/2019-10-28/MGM.csv\n/home/michael/jupyter/earningDateData/Companies/2019-10-28/NUVA.csv\n/home/michael/jupyter/earningDateData/Companies/2019-10-28/VRTX.csv\n/home/michael/jupyter/earningDateData/Companies/2019-10-28/TYL.csv\n/home/michael/jupyter/earningDateData/Companies/2019-10-28/INSM.csv\n/home/michael/jupyter/earningDateData/Companies/2019-10-28/VIAV.csv\n/home/michael/jupyter/earningDateData/Companies/2019-10-28/MLNX.csv\n/home/michael/jupyter/earningDateData/Companies/2019-10-28/QGEN.csv\n/home/michael/jupyter/earningDateData/Companies/2019-10-28/FLWS.csv\n/home/michael/jupyter/earningDateData/Companies/2019-10-28/MO.csv\n/home/michael/jupyter/earningDateData/Companies/2019-10-28/ABMD.csv\n/home/michael/jupyter/earningDateData/Companies/2019-10-28/ADM.csv\n/home/michael/jupyter/earningDateData/Companies/2019-10-28/APO.csv\n/home/michael/jupyter/earningDateData/Companies/2019-10-28/AYX.csv\n/home/michael/jupyter/earningDateData/Companies/2019-10-28/WAB.csv\n/home/michael/jupyter/earningDateData/Companies/2019-10-28/AMCX.csv\n/home/michael/jupyter/earningDateData/Companies/2019-10-28/ALNY.csv\n/home/michael/jupyter/earningDateData/Companies/2019-10-28/AVP.csv\n/home/michael/jupyter/earningDateData/Companies/2019-10-28/ANET.csv\n/home/michael/jupyter/earningDateData/Companies/2019-10-28/SPR.csv\n/home/michael/jupyter/earningDateData/Companies/2019-10-28/AGIO.csv\n/home/michael/jupyter/earningDateData/Companies/2019-10-28/ATI.csv\n/home/michael/jupyter/earningDateData/Companies/2019-10-28/AMT.csv\n",
      "/home/michael/jupyter/earningDateData/Companies/2019-10-28/CAR.csv\n/home/michael/jupyter/earningDateData/Companies/2019-10-28/BMY.csv\n/home/michael/jupyter/earningDateData/Companies/2019-10-28/BPL.csv\n/home/michael/jupyter/earningDateData/Companies/2019-10-28/BCLI.csv\n/home/michael/jupyter/earningDateData/Companies/2019-10-28/BWA.csv\n/home/michael/jupyter/earningDateData/Companies/2019-10-28/BLL.csv\n/home/michael/jupyter/earningDateData/Companies/2019-10-28/DNKN.csv\n/home/michael/jupyter/earningDateData/Companies/2019-10-28/MUR.csv\n/home/michael/jupyter/earningDateData/Companies/2019-10-28/CRAI.csv\n/home/michael/jupyter/earningDateData/Companies/2019-10-28/CWST.csv\n/home/michael/jupyter/earningDateData/Companies/2019-10-28/OLN.csv\n/home/michael/jupyter/earningDateData/Companies/2019-10-28/NPTN.csv\n/home/michael/jupyter/earningDateData/Companies/2019-10-28/CG.csv\n/home/michael/jupyter/earningDateData/Companies/2019-10-28/NFG.csv\n/home/michael/jupyter/earningDateData/Companies/2019-10-28/EL.csv\n/home/michael/jupyter/earningDateData/Companies/2019-10-28/ZIXI.csv\n/home/michael/jupyter/earningDateData/Companies/2019-10-28/IP.csv\n/home/michael/jupyter/earningDateData/Companies/2019-10-28/ZIXI.csv\n/home/michael/jupyter/earningDateData/Companies/2019-10-28/WU.csv\n/home/michael/jupyter/earningDateData/Companies/2019-10-28/CTVA.csv\n/home/michael/jupyter/earningDateData/Companies/2019-10-28/MAC.csv\n/home/michael/jupyter/earningDateData/Companies/2019-10-28/MAC.csv\n/home/michael/jupyter/earningDateData/Companies/2019-10-28/PH.csv\n/home/michael/jupyter/earningDateData/Companies/2019-10-28/CDW.csv\n/home/michael/jupyter/earningDateData/Companies/2019-10-28/IMAX.csv\n/home/michael/jupyter/earningDateData/Companies/2019-10-28/MPC.csv\n/home/michael/jupyter/earningDateData/Companies/2019-10-28/ITGR.csv\n/home/michael/jupyter/earningDateData/Companies/2019-10-28/LKQ.csv\n/home/michael/jupyter/earningDateData/Companies/2019-10-28/SCU.csv\n/home/michael/jupyter/earningDateData/Companies/2019-10-28/CI.csv\n/home/michael/jupyter/earningDateData/Companies/2019-10-28/CHD.csv\n/home/michael/jupyter/earningDateData/Companies/2019-10-28/X.csv\n/home/michael/jupyter/earningDateData/Companies/2019-10-28/SM.csv\n/home/michael/jupyter/earningDateData/Companies/2019-10-28/KHC.csv\n/home/michael/jupyter/earningDateData/Companies/2019-10-28/SSNC.csv\n/home/michael/jupyter/earningDateData/Companies/2019-10-28/EXC.csv\n/home/michael/jupyter/earningDateData/Companies/2019-10-28/RGEN.csv\n/home/michael/jupyter/earningDateData/Companies/2019-10-28/DD.csv\n/home/michael/jupyter/earningDateData/Companies/2019-10-28/WWE.csv\n/home/michael/jupyter/earningDateData/Companies/2019-10-28/ICE.csv\n/home/michael/jupyter/earningDateData/Companies/2019-10-28/EIGI.csv\n/home/michael/jupyter/earningDateData/Companies/2019-10-28/ERII.csv\n/home/michael/jupyter/earningDateData/Companies/2019-10-28/PBF.csv\n/home/michael/jupyter/earningDateData/Companies/2019-10-28/FNKO.csv\n/home/michael/jupyter/earningDateData/Companies/2019-10-28/FLIR.csv\n/home/michael/jupyter/earningDateData/Companies/2019-10-28/FTNT.csv\n/home/michael/jupyter/earningDateData/Companies/2019-10-28/JCOM.csv\n/home/michael/jupyter/earningDateData/Companies/2019-10-28/PENN.csv\n/home/michael/jupyter/earningDateData/Companies/2019-10-28/GNRC.csv\n/home/michael/jupyter/earningDateData/Companies/2019-10-28/HGV.csv\n/home/michael/jupyter/earningDateData/Companies/2019-10-28/HTH.csv\n/home/michael/jupyter/earningDateData/Companies/2019-10-28/SIRI.csv\n/home/michael/jupyter/earningDateData/Companies/2019-10-28/HBI.csv\n/home/michael/jupyter/earningDateData/Companies/2019-10-28/YETI.csv\n/home/michael/jupyter/earningDateData/Companies/2019-10-28/QRVO.csv\n/home/michael/jupyter/earningDateData/Companies/2019-10-28/TPX.csv\n/home/michael/jupyter/earningDateData/Companies/2019-10-28/WEX.csv\n/home/michael/jupyter/earningDateData/Companies/2019-10-28/MSCI.csv\n/home/michael/jupyter/earningDateData/Companies/2019-10-28/MSGN.csv\n/home/michael/jupyter/earningDateData/Companies/2019-10-28/IRM.csv\n/home/michael/jupyter/earningDateData/Companies/2019-10-28/W.csv\n/home/michael/jupyter/earningDateData/Companies/2019-10-28/TEN.csv\n/home/michael/jupyter/earningDateData/Companies/2019-10-28/PINS.csv\n/home/michael/jupyter/earningDateData/Companies/2019-10-28/PXLW.csv\n/home/michael/jupyter/earningDateData/Companies/2019-10-28/SRCL.csv\n/home/michael/jupyter/earningDateData/Companies/2019-10-28/MINI.csv\n/home/michael/jupyter/earningDateData/Companies/2019-10-28/WCC.csv\n/home/michael/jupyter/earningDateData/Companies/2019-10-28/PWR.csv\n/home/michael/jupyter/earningDateData/Companies/2019-10-28/XYL.csv\n/home/michael/jupyter/earningDateData/Companies/2019-10-28/PDFS.csv\n/home/michael/jupyter/earningDateData/Companies/2019-10-28/MELI.csv\n/home/michael/jupyter/earningDateData/Companies/2019-10-28/MPW.csv\n/home/michael/jupyter/earningDateData/Companies/2019-10-28/MMP.csv\n/home/michael/jupyter/earningDateData/Companies/2019-10-28/NVCR.csv\n/home/michael/jupyter/earningDateData/Companies/2019-10-28/MPLX.csv\n/home/michael/jupyter/earningDateData/Companies/2019-10-28/VAL.csv\n/home/michael/jupyter/earningDateData/Companies/2019-10-28/AIG.csv\n/home/michael/jupyter/earningDateData/Companies/2019-10-28/BABA.csv\n/home/michael/jupyter/earningDateData/Companies/2019-10-28/AMAG.csv\n/home/michael/jupyter/earningDateData/Companies/2019-10-28/BAH.csv\n/home/michael/jupyter/earningDateData/Companies/2019-10-28/ABBV.csv\n",
      "/home/michael/jupyter/earningDateData/Companies/2019-10-28/AXL.csv\n/home/michael/jupyter/earningDateData/Companies/2019-10-28/XOM.csv\n/home/michael/jupyter/earningDateData/Companies/2019-10-28/CVX.csv\n/home/michael/jupyter/earningDateData/Companies/2019-10-28/LNG.csv\n/home/michael/jupyter/earningDateData/Companies/2019-10-28/HMSY.csv\n/home/michael/jupyter/earningDateData/Companies/2019-10-28/CL.csv\n/home/michael/jupyter/earningDateData/Companies/2019-10-28/CQP.csv\n/home/michael/jupyter/earningDateData/Companies/2019-10-28/FND.csv\n/home/michael/jupyter/earningDateData/Companies/2019-10-28/D.csv\n/home/michael/jupyter/earningDateData/Companies/2019-10-28/XENT.csv\n/home/michael/jupyter/earningDateData/Companies/2019-10-28/USX.csv\n/home/michael/jupyter/earningDateData/Companies/2019-10-28/SRE.csv\n/home/michael/jupyter/earningDateData/Companies/2019-10-28/MGI.csv\n/home/michael/jupyter/earningDateData/Companies/2019-10-28/ITT.csv\n/home/michael/jupyter/earningDateData/Companies/2019-10-28/IMGN.csv\n/home/michael/jupyter/earningDateData/Companies/2019-10-28/LYB.csv\n/home/michael/jupyter/earningDateData/Companies/2019-10-28/MD.csv\n/home/michael/jupyter/earningDateData/Companies/2019-10-28/STX.csv\n"
     ],
     "output_type": "stream"
    }
   ],
   "source": [
    "# Starting day of the earnings\n",
    "startday = '2019-10-28'\n",
    "\n",
    "yahooEarningDf = buildSummary.createWeeklySummary(startday)\n",
    "# yahooEarningDf"
   ]
  },
  {
   "cell_type": "code",
   "execution_count": 4,
   "metadata": {
    "pycharm": {
     "is_executing": false
    }
   },
   "outputs": [],
   "source": [
    "getOptionInfo.saveDiary2Excel(ib, startday)"
   ]
  },
  {
   "cell_type": "code",
   "execution_count": 5,
   "outputs": [
    {
     "traceback": [
      "\u001b[0;31m---------------------------------------------------------------------------\u001b[0m",
      "\u001b[0;31mAttributeError\u001b[0m                            Traceback (most recent call last)",
      "\u001b[0;32m<ipython-input-5-1c9e48e4d5fd>\u001b[0m in \u001b[0;36m<module>\u001b[0;34m\u001b[0m\n\u001b[0;32m----> 1\u001b[0;31m \u001b[0myahooEarningDf\u001b[0m\u001b[0;34m.\u001b[0m\u001b[0mEarnings_Date\u001b[0m\u001b[0;34m[\u001b[0m\u001b[0;36m1\u001b[0m\u001b[0;34m]\u001b[0m\u001b[0;34m.\u001b[0m\u001b[0mdtype\u001b[0m\u001b[0;34m(\u001b[0m\u001b[0;34m)\u001b[0m\u001b[0;34m\u001b[0m\u001b[0;34m\u001b[0m\u001b[0m\n\u001b[0m\u001b[1;32m      2\u001b[0m \u001b[0;34m\u001b[0m\u001b[0m\n\u001b[1;32m      3\u001b[0m \u001b[0;34m\u001b[0m\u001b[0m\n\u001b[1;32m      4\u001b[0m \u001b[0;34m\u001b[0m\u001b[0m\n",
      "\u001b[0;31mAttributeError\u001b[0m: 'str' object has no attribute 'dtype'"
     ],
     "ename": "AttributeError",
     "evalue": "'str' object has no attribute 'dtype'",
     "output_type": "error"
    }
   ],
   "source": [
    "yahooEarningDf.Earnings_Date[1].dtype()\n",
    "\n"
   ],
   "metadata": {
    "collapsed": false,
    "pycharm": {
     "name": "#%%\n",
     "is_executing": false
    }
   }
  },
  {
   "cell_type": "code",
   "execution_count": 6,
   "metadata": {
    "pycharm": {
     "is_executing": false
    }
   },
   "outputs": [],
   "source": [
    "\n",
    "ib.disconnect()\n"
   ]
  }
 ],
 "metadata": {
  "kernelspec": {
   "name": "pycharm-cf45a016",
   "language": "python",
   "display_name": "PyCharm (getEarningsFromYahoo)"
  },
  "language_info": {
   "codemirror_mode": {
    "name": "ipython",
    "version": 3
   },
   "file_extension": ".py",
   "mimetype": "text/x-python",
   "name": "python",
   "nbconvert_exporter": "python",
   "pygments_lexer": "ipython3",
   "version": "3.7.4"
  },
  "pycharm": {
   "stem_cell": {
    "cell_type": "raw",
    "source": [],
    "metadata": {
     "collapsed": false
    }
   }
  }
 },
 "nbformat": 4,
 "nbformat_minor": 4
}