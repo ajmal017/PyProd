{
 "cells": [
  {
   "cell_type": "code",
   "execution_count": 1,
   "metadata": {
    "pycharm": {
     "is_executing": false
    }
   },
   "outputs": [
    {
     "data": {
      "text/plain": "<IB connected to 127.0.0.1:4002 clientId=8>"
     },
     "metadata": {},
     "output_type": "execute_result",
     "execution_count": 1
    }
   ],
   "source": [
    "#Get the iWidget stuff\n",
    "from __future__ import print_function\n",
    "from ipywidgets import interact, interactive, fixed, interact_manual\n",
    "import ipywidgets as widgets\n",
    "\n",
    "import os\n",
    "import sys\n",
    "\n",
    "sys.path.append('/home/michael/jupyter/local-packages')\n",
    "\n",
    "# Get my Utilities (localUtilities)\n",
    "from localUtilities import dateUtils  #bPyUtils, configIB \n",
    "from localUtilities.webScrape import getCompanEarningsFromYahoo\n",
    "from localUtilities.ibUtils import getOptionStrategyPrice as strat\n",
    "from localUtilities.ibUtils import setup as setup\n",
    "\n",
    "import numpy as np\n",
    "import pandas as pd\n",
    "import datetime\n",
    "import random\n",
    "import itertools\n",
    "\n",
    "\n",
    "from IPython.display import display, HTML\n",
    "\n",
    "# matplotlib imports\n",
    "import matplotlib.pyplot as plt\n",
    "import matplotlib.dates as mdates\n",
    "from matplotlib.dates import DateFormatter\n",
    "from matplotlib.ticker import (MultipleLocator, FormatStrFormatter,\n",
    "                               AutoMinorLocator)\n",
    "\n",
    "# interactive Shell to see variables outside of print() function - \n",
    "#  if this is on one can suppress output by adding a ';' at the end of line \n",
    "#   not 100% clear which variables this supresses \n",
    "# from IPython.core.interactiveshell import InteractiveShell\n",
    "# InteractiveShell.ast_node_interactivity = \"all\"\n",
    "\n",
    "# Doc is here: https://ib-insync.readthedocs.io/readme.html\n",
    "from ib_insync import *\n",
    "util.startLoop()\n",
    "\n",
    "ib = IB()\n",
    "# Connect to IB Gateway / Paper Trade 4002 \n",
    "#            TWS        / Paper Tiv_Difrade 7495\n",
    "ib.connect('127.0.0.1', 4002, clientId=8)"
   ]
  },
  {
   "cell_type": "code",
   "execution_count": 2,
   "metadata": {
    "pycharm": {
     "is_executing": false
    }
   },
   "outputs": [
    {
     "data": {
      "text/plain": "True"
     },
     "metadata": {},
     "output_type": "execute_result",
     "execution_count": 2
    }
   ],
   "source": [
    "#See if connected \n",
    "ib.isConnected()"
   ]
  },
  {
   "cell_type": "code",
   "execution_count": 3,
   "metadata": {
    "pycharm": {
     "is_executing": false
    }
   },
   "outputs": [
    {
     "data": {
      "text/plain": "'/home/michael/jupyter/earningDateData/Companies/2019-10-28/'"
     },
     "metadata": {},
     "output_type": "execute_result",
     "execution_count": 3
    }
   ],
   "source": [
    "startday = '2019-10-28'\n",
    "\n",
    "theDirectory = '/home/michael/jupyter/earningDateData/' + 'Companies/' + startday + '/' \n",
    "csvSuffix = '.csv'\n",
    "inFile = theDirectory + 'EarningOfInterestforweekOf-' + startday + csvSuffix\n",
    "\n",
    "theDirectory"
   ]
  },
  {
   "cell_type": "code",
   "execution_count": 4,
   "metadata": {
    "pycharm": {
     "is_executing": false
    }
   },
   "outputs": [
    {
     "data": {
      "text/plain": "'2019-10-27 08:58'"
     },
     "metadata": {},
     "output_type": "execute_result",
     "execution_count": 4
    }
   ],
   "source": [
    "datetime.datetime.now().strftime(\"%Y-%m-%d %H:%M\")"
   ]
  },
  {
   "cell_type": "code",
   "execution_count": 5,
   "metadata": {
    "pycharm": {
     "is_executing": false
    }
   },
   "outputs": [
    {
     "name": "stdout",
     "text": [
      "0  -  XOM\n",
      "      <class 'KeyError'>        In addMinMax // afterEarnDate is a holiday:  2019-08-05 <class 'KeyError'>\n      <class 'KeyError'>        In addMinMax // afterEarnDate is a holiday:  2019-08-05 <class 'KeyError'>\n      <class 'KeyError'>        In addMinMax // afterEarnDate is a holiday:  2019-08-05 <class 'KeyError'>\n      <class 'KeyError'>        In addMinMax // afterEarnDate is a holiday:  2019-08-05 <class 'KeyError'>\n      <class 'KeyError'>        In addMinMax // afterEarnDate is a holiday:  2019-08-05 <class 'KeyError'>\n      <class 'KeyError'>        In addMinMax // afterEarnDate is a holiday:  2019-08-05 <class 'KeyError'>\n      <class 'KeyError'>        In addMinMax // afterEarnDate is a holiday:  2019-08-05 <class 'KeyError'>\n      <class 'KeyError'>        In addMinMax // afterEarnDate is a holiday:  2019-08-05 <class 'KeyError'>\n      <class 'KeyError'>        In addMinMax // afterEarnDate is a holiday:  2019-08-05 <class 'KeyError'>\n      <class 'KeyError'>        In addMinMax // afterEarnDate is a holiday:  2019-08-05 <class 'KeyError'>\n1  -  CVX\n",
      "      <class 'KeyError'>        In addMinMax // afterEarnDate is a holiday:  2019-08-05 <class 'KeyError'>\n      <class 'KeyError'>        In addMinMax // afterEarnDate is a holiday:  2019-08-05 <class 'KeyError'>\n      <class 'KeyError'>        In addMinMax // afterEarnDate is a holiday:  2019-08-05 <class 'KeyError'>\n      <class 'KeyError'>        In addMinMax // afterEarnDate is a holiday:  2019-08-05 <class 'KeyError'>\n      <class 'KeyError'>        In addMinMax // afterEarnDate is a holiday:  2019-08-05 <class 'KeyError'>\n      <class 'KeyError'>        In addMinMax // afterEarnDate is a holiday:  2019-08-05 <class 'KeyError'>\n      <class 'KeyError'>        In addMinMax // afterEarnDate is a holiday:  2019-08-05 <class 'KeyError'>\n      <class 'KeyError'>        In addMinMax // afterEarnDate is a holiday:  2019-08-05 <class 'KeyError'>\n      <class 'KeyError'>        In addMinMax // afterEarnDate is a holiday:  2019-08-05 <class 'KeyError'>\n      <class 'KeyError'>        In addMinMax // afterEarnDate is a holiday:  2019-08-05 <class 'KeyError'>\n2  -  LNG\n",
      "      <class 'KeyError'>        In addMinMax // afterEarnDate is a holiday:  2018-05-07 <class 'KeyError'>\n      <class 'KeyError'>        In addMinMax // afterEarnDate is a holiday:  2018-05-07 <class 'KeyError'>\n      <class 'KeyError'>        In addMinMax // afterEarnDate is a holiday:  2018-05-07 <class 'KeyError'>\n      <class 'KeyError'>        In addMinMax // afterEarnDate is a holiday:  2018-05-07 <class 'KeyError'>\n      <class 'KeyError'>        In addMinMax // afterEarnDate is a holiday:  2018-05-07 <class 'KeyError'>\n      <class 'KeyError'>        In addMinMax // afterEarnDate is a holiday:  2018-05-07 <class 'KeyError'>\n3  -  HMSY\n",
      "      <class 'KeyError'>        In addMinMax // afterEarnDate is a holiday:  2019-08-05 <class 'KeyError'>\n      <class 'KeyError'>        In addMinMax // afterEarnDate is a holiday:  2019-08-05 <class 'KeyError'>\n      <class 'KeyError'>        In addMinMax // afterEarnDate is a holiday:  2019-08-05 <class 'KeyError'>\n      <class 'KeyError'>        In addMinMax // afterEarnDate is a holiday:  2019-08-05 <class 'KeyError'>\n      <class 'KeyError'>        In addMinMax // afterEarnDate is a holiday:  2019-08-05 <class 'KeyError'>\n      <class 'KeyError'>        In addMinMax // afterEarnDate is a holiday:  2019-08-05 <class 'KeyError'>\n      <class 'KeyError'>        In addMinMax // afterEarnDate is a holiday:  2019-08-05 <class 'KeyError'>\n      <class 'KeyError'>        In addMinMax // afterEarnDate is a holiday:  2019-08-05 <class 'KeyError'>\n      <class 'KeyError'>        In addMinMax // afterEarnDate is a holiday:  2019-08-05 <class 'KeyError'>\n      <class 'KeyError'>        In addMinMax // afterEarnDate is a holiday:  2019-08-05 <class 'KeyError'>\n      <class 'KeyError'>        In addMinMax // afterEarnDate is a holiday:  2019-08-05 <class 'KeyError'>\n4  -  CL\n",
      "      <class 'KeyError'>        In addMinMax // afterEarnDate is a holiday:  2019-07-29 <class 'KeyError'>\n      <class 'KeyError'>        In addMinMax // afterEarnDate is a holiday:  2019-07-29 <class 'KeyError'>\n      <class 'KeyError'>        In addMinMax // afterEarnDate is a holiday:  2019-07-29 <class 'KeyError'>\n      <class 'KeyError'>        In addMinMax // afterEarnDate is a holiday:  2019-07-29 <class 'KeyError'>\n      <class 'KeyError'>        In addMinMax // afterEarnDate is a holiday:  2019-07-29 <class 'KeyError'>\n      <class 'KeyError'>        In addMinMax // afterEarnDate is a holiday:  2019-07-29 <class 'KeyError'>\n      <class 'KeyError'>        In addMinMax // afterEarnDate is a holiday:  2019-07-29 <class 'KeyError'>\n      <class 'KeyError'>        In addMinMax // afterEarnDate is a holiday:  2019-07-29 <class 'KeyError'>\n      <class 'KeyError'>        In addMinMax // afterEarnDate is a holiday:  2019-07-29 <class 'KeyError'>\n      <class 'KeyError'>        In addMinMax // afterEarnDate is a holiday:  2019-07-29 <class 'KeyError'>\n5  -  CQP\n",
      "      <class 'KeyError'>        In addMinMax // afterEarnDate is a holiday:  2018-05-07 <class 'KeyError'>\n      <class 'KeyError'>        In addMinMax // afterEarnDate is a holiday:  2018-05-07 <class 'KeyError'>\n      <class 'KeyError'>        In addMinMax // afterEarnDate is a holiday:  2018-05-07 <class 'KeyError'>\n      <class 'KeyError'>        In addMinMax // afterEarnDate is a holiday:  2018-05-07 <class 'KeyError'>\n      <class 'KeyError'>        In addMinMax // afterEarnDate is a holiday:  2018-05-07 <class 'KeyError'>\n      <class 'KeyError'>        In addMinMax // afterEarnDate is a holiday:  2018-05-07 <class 'KeyError'>\n6  -  FND\n",
      "      <class 'KeyError'>        In addMinMax // afterEarnDate is a holiday:  2019-05-06 <class 'KeyError'>\n      <class 'KeyError'>        In addMinMax // afterEarnDate is a holiday:  2019-05-06 <class 'KeyError'>\n      <class 'KeyError'>        In addMinMax // afterEarnDate is a holiday:  2019-05-06 <class 'KeyError'>\n      <class 'KeyError'>        In addMinMax // afterEarnDate is a holiday:  2019-05-06 <class 'KeyError'>\n      <class 'KeyError'>        In addMinMax // afterEarnDate is a holiday:  2019-05-06 <class 'KeyError'>\n      <class 'KeyError'>        In addMinMax // afterEarnDate is a holiday:  2019-05-06 <class 'KeyError'>\n7  -  D\n",
      "      <class 'KeyError'>        In addMinMax // afterEarnDate is a holiday:  2019-05-06 <class 'KeyError'>\n      <class 'KeyError'>        In addMinMax // afterEarnDate is a holiday:  2019-05-06 <class 'KeyError'>\n      <class 'KeyError'>        In addMinMax // afterEarnDate is a holiday:  2019-05-06 <class 'KeyError'>\n      <class 'KeyError'>        In addMinMax // afterEarnDate is a holiday:  2019-05-06 <class 'KeyError'>\n      <class 'KeyError'>        In addMinMax // afterEarnDate is a holiday:  2019-05-06 <class 'KeyError'>\n      <class 'KeyError'>        In addMinMax // afterEarnDate is a holiday:  2019-05-06 <class 'KeyError'>\n      <class 'KeyError'>        In addMinMax // afterEarnDate is a holiday:  2019-05-06 <class 'KeyError'>\n      <class 'KeyError'>        In addMinMax // afterEarnDate is a holiday:  2019-05-06 <class 'KeyError'>\n      <class 'KeyError'>        In addMinMax // afterEarnDate is a holiday:  2019-05-06 <class 'KeyError'>\n      <class 'KeyError'>        In addMinMax // afterEarnDate is a holiday:  2019-05-06 <class 'KeyError'>\n8  -  XENT\n",
      "9  -  USX\n",
      "      <class 'KeyError'>        In addMinMax // afterEarnDate is a holiday:  2019-08-05 <class 'KeyError'>\n      <class 'KeyError'>        In addMinMax // afterEarnDate is a holiday:  2019-08-05 <class 'KeyError'>\n      <class 'KeyError'>        In addMinMax // afterEarnDate is a holiday:  2019-08-05 <class 'KeyError'>\n      <class 'KeyError'>        In addMinMax // afterEarnDate is a holiday:  2019-08-05 <class 'KeyError'>\n      <class 'KeyError'>        In addMinMax // afterEarnDate is a holiday:  2019-08-05 <class 'KeyError'>\n10  -  SRE\n",
      "      <class 'KeyError'>        In addMinMax // afterEarnDate is a holiday:  2019-08-05 <class 'KeyError'>\n      <class 'KeyError'>        In addMinMax // afterEarnDate is a holiday:  2019-08-05 <class 'KeyError'>\n      <class 'KeyError'>        In addMinMax // afterEarnDate is a holiday:  2019-08-05 <class 'KeyError'>\n      <class 'KeyError'>        In addMinMax // afterEarnDate is a holiday:  2019-08-05 <class 'KeyError'>\n      <class 'KeyError'>        In addMinMax // afterEarnDate is a holiday:  2019-08-05 <class 'KeyError'>\n      <class 'KeyError'>        In addMinMax // afterEarnDate is a holiday:  2019-08-05 <class 'KeyError'>\n      <class 'KeyError'>        In addMinMax // afterEarnDate is a holiday:  2019-08-05 <class 'KeyError'>\n      <class 'KeyError'>        In addMinMax // afterEarnDate is a holiday:  2019-08-05 <class 'KeyError'>\n      <class 'KeyError'>        In addMinMax // afterEarnDate is a holiday:  2019-08-05 <class 'KeyError'>\n      <class 'KeyError'>        In addMinMax // afterEarnDate is a holiday:  2019-08-05 <class 'KeyError'>\n      <class 'KeyError'>        In addMinMax // afterEarnDate is a holiday:  2019-08-05 <class 'KeyError'>\n      <class 'KeyError'>        In addMinMax // afterEarnDate is a holiday:  2019-08-05 <class 'KeyError'>\n11  -  MGI\n",
      "      <class 'KeyError'>        In addMinMax // afterEarnDate is a holiday:  2018-11-12 <class 'KeyError'>\n      <class 'KeyError'>        In addMinMax // afterEarnDate is a holiday:  2018-11-12 <class 'KeyError'>\n      <class 'KeyError'>        In addMinMax // afterEarnDate is a holiday:  2018-11-12 <class 'KeyError'>\n      <class 'KeyError'>        In addMinMax // afterEarnDate is a holiday:  2018-11-12 <class 'KeyError'>\n12  -  ITT\n",
      "      <class 'KeyError'>        In addMinMax // afterEarnDate is a holiday:  2019-08-05 <class 'KeyError'>\n      <class 'KeyError'>        In addMinMax // afterEarnDate is a holiday:  2019-08-05 <class 'KeyError'>\n      <class 'KeyError'>        In addMinMax // afterEarnDate is a holiday:  2019-08-05 <class 'KeyError'>\n      <class 'KeyError'>        In addMinMax // afterEarnDate is a holiday:  2019-08-05 <class 'KeyError'>\n      <class 'KeyError'>        In addMinMax // afterEarnDate is a holiday:  2019-08-05 <class 'KeyError'>\n      <class 'KeyError'>        In addMinMax // afterEarnDate is a holiday:  2019-08-05 <class 'KeyError'>\n      <class 'KeyError'>        In addMinMax // afterEarnDate is a holiday:  2019-08-05 <class 'KeyError'>\n      <class 'KeyError'>        In addMinMax // afterEarnDate is a holiday:  2019-08-05 <class 'KeyError'>\n      <class 'KeyError'>        In addMinMax // afterEarnDate is a holiday:  2019-08-05 <class 'KeyError'>\n      <class 'KeyError'>        In addMinMax // afterEarnDate is a holiday:  2019-08-05 <class 'KeyError'>\n      <class 'KeyError'>        In addMinMax // afterEarnDate is a holiday:  2019-08-05 <class 'KeyError'>\n13  -  IMGN\n",
      "      <class 'KeyError'>        In addMinMax // afterEarnDate is a holiday:  2019-08-05 <class 'KeyError'>\n      <class 'KeyError'>        In addMinMax // afterEarnDate is a holiday:  2019-08-05 <class 'KeyError'>\n      <class 'KeyError'>        In addMinMax // afterEarnDate is a holiday:  2019-08-05 <class 'KeyError'>\n      <class 'KeyError'>        In addMinMax // afterEarnDate is a holiday:  2019-08-05 <class 'KeyError'>\n      <class 'KeyError'>        In addMinMax // afterEarnDate is a holiday:  2019-08-05 <class 'KeyError'>\n      <class 'KeyError'>        In addMinMax // afterEarnDate is a holiday:  2019-08-05 <class 'KeyError'>\n      <class 'KeyError'>        In addMinMax // afterEarnDate is a holiday:  2019-08-05 <class 'KeyError'>\n      <class 'KeyError'>        In addMinMax // afterEarnDate is a holiday:  2019-08-05 <class 'KeyError'>\n      <class 'KeyError'>        In addMinMax // afterEarnDate is a holiday:  2019-08-05 <class 'KeyError'>\n      <class 'KeyError'>        In addMinMax // afterEarnDate is a holiday:  2019-08-05 <class 'KeyError'>\n      <class 'KeyError'>        In addMinMax // afterEarnDate is a holiday:  2019-08-05 <class 'KeyError'>\n14  -  LYB\n",
      "      <class 'KeyError'>        In addMinMax // afterEarnDate is a holiday:  2019-08-05 <class 'KeyError'>\n      <class 'KeyError'>        In addMinMax // afterEarnDate is a holiday:  2019-08-05 <class 'KeyError'>\n      <class 'KeyError'>        In addMinMax // afterEarnDate is a holiday:  2019-08-05 <class 'KeyError'>\n      <class 'KeyError'>        In addMinMax // afterEarnDate is a holiday:  2019-08-05 <class 'KeyError'>\n      <class 'KeyError'>        In addMinMax // afterEarnDate is a holiday:  2019-08-05 <class 'KeyError'>\n      <class 'KeyError'>        In addMinMax // afterEarnDate is a holiday:  2019-08-05 <class 'KeyError'>\n      <class 'KeyError'>        In addMinMax // afterEarnDate is a holiday:  2019-08-05 <class 'KeyError'>\n      <class 'KeyError'>        In addMinMax // afterEarnDate is a holiday:  2019-08-05 <class 'KeyError'>\n      <class 'KeyError'>        In addMinMax // afterEarnDate is a holiday:  2019-08-05 <class 'KeyError'>\n      <class 'KeyError'>        In addMinMax // afterEarnDate is a holiday:  2019-08-05 <class 'KeyError'>\n      <class 'KeyError'>        In addMinMax // afterEarnDate is a holiday:  2019-08-05 <class 'KeyError'>\n15  -  MD\n",
      "      <class 'KeyError'>        In addMinMax // afterEarnDate is a holiday:  2017-07-31 <class 'KeyError'>\n      <class 'KeyError'>        In addMinMax // afterEarnDate is a holiday:  2017-07-31 <class 'KeyError'>\n      <class 'KeyError'>        In addMinMax // afterEarnDate is a holiday:  2017-07-31 <class 'KeyError'>\n      <class 'KeyError'>        In addMinMax // afterEarnDate is a holiday:  2017-07-31 <class 'KeyError'>\n16  -  STX\n",
      "      <class 'KeyError'>        In addMinMax // afterEarnDate is a holiday:  2019-08-05 <class 'KeyError'>\n      <class 'KeyError'>        In addMinMax // afterEarnDate is a holiday:  2019-08-05 <class 'KeyError'>\n      <class 'KeyError'>        In addMinMax // afterEarnDate is a holiday:  2019-08-05 <class 'KeyError'>\n      <class 'KeyError'>        In addMinMax // afterEarnDate is a holiday:  2019-08-05 <class 'KeyError'>\n      <class 'KeyError'>        In addMinMax // afterEarnDate is a holiday:  2019-08-05 <class 'KeyError'>\n      <class 'KeyError'>        In addMinMax // afterEarnDate is a holiday:  2019-08-05 <class 'KeyError'>\n      <class 'KeyError'>        In addMinMax // afterEarnDate is a holiday:  2019-08-05 <class 'KeyError'>\n      <class 'KeyError'>        In addMinMax // afterEarnDate is a holiday:  2019-08-05 <class 'KeyError'>\n      <class 'KeyError'>        In addMinMax // afterEarnDate is a holiday:  2019-08-05 <class 'KeyError'>\n      <class 'KeyError'>        In addMinMax // afterEarnDate is a holiday:  2019-08-05 <class 'KeyError'>\n      <class 'KeyError'>        In addMinMax // afterEarnDate is a holiday:  2019-08-05 <class 'KeyError'>\n"
     ],
     "output_type": "stream"
    }
   ],
   "source": [
    "theDaysCountPastEarnings = 2\n",
    "earningsDFfromFile = pd.read_csv(inFile)\n",
    "\n",
    "count = 0\n",
    "\n",
    "for row in earningsDFfromFile.itertuples():\n",
    "    print(count, ' - ', row.Symbol)\n",
    "    count = count + 1\n",
    "    theStock = row.Symbol\n",
    "    qualityContracts, contract = setup.getQualityContracts(ib, theStock) \n",
    "    yahooEarningsDF = getCompanEarningsFromYahoo.getPastEarnings(theStock)\n",
    "    earningsPastStock, earningsPastImpVol = strat.getHistoricIVnPrice(ib, contract, yahooEarningsDF)\n",
    "    yahooEarningsDF = strat.getMinMaxPricePercent(earningsPastStock, earningsPastImpVol, yahooEarningsDF, theDaysCountPastEarnings)\n",
    "    aStockOutFile = theDirectory + theStock  + csvSuffix\n",
    "    yahooEarningsDF.to_csv(aStockOutFile)\n",
    "    "
   ]
  },
  {
   "cell_type": "code",
   "execution_count": null,
   "metadata": {
    "pycharm": {
     "is_executing": false
    }
   },
   "outputs": [],
   "source": [
    "datetime.datetime.now().strftime(\"%Y-%m-%d %H:%M\")"
   ]
  },
  {
   "cell_type": "code",
   "execution_count": null,
   "metadata": {
    "pycharm": {
     "is_executing": false
    }
   },
   "outputs": [],
   "source": [
    "earningsDFfromFile"
   ]
  },
  {
   "cell_type": "code",
   "execution_count": null,
   "metadata": {
    "pycharm": {
     "is_executing": false
    }
   },
   "outputs": [],
   "source": []
  }
 ],
 "metadata": {
  "kernelspec": {
   "name": "pycharm-cf45a016",
   "language": "python",
   "display_name": "PyCharm (getEarningsFromYahoo)"
  },
  "language_info": {
   "codemirror_mode": {
    "name": "ipython",
    "version": 3
   },
   "file_extension": ".py",
   "mimetype": "text/x-python",
   "name": "python",
   "nbconvert_exporter": "python",
   "pygments_lexer": "ipython3",
   "version": "3.7.4"
  },
  "pycharm": {
   "stem_cell": {
    "cell_type": "raw",
    "source": [],
    "metadata": {
     "collapsed": false
    }
   }
  }
 },
 "nbformat": 4,
 "nbformat_minor": 4
}