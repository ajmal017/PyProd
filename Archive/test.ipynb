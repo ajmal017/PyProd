{
 "cells": [
  {
   "cell_type": "code",
   "execution_count": 1,
   "outputs": [
    {
     "name": "stdout",
     "output_type": "stream",
     "text": [
      "Start Time:  2020-05-26 15:29\n",
      "in getWeeklyExcelSummary\n",
      "End Time:  2020-05-26 15:30\n",
      "Elapsed Time:  0:00:12.343824\n",
      "Now ->   2020-05-26 15:30:08.711934\n"
     ]
    }
   ],
   "source": [
    "\n",
    "import sys\n",
    "#\n",
    "# sys.path.append(\"/home/michael/pycharm/pycharm-2019.2.3/debug-eggs/pydevd-pycharm.egg\")\n",
    "#\n",
    "# import pydevd_pycharm\n",
    "# pydevd_pycharm.settrace('192.168.1.200', port=2222, stdoutToServer=True, stderrToServer=True)\n",
    "\n",
    "import datetime\n",
    "sys.path.append('/home/michael/jupyter/local-packages')\n",
    "from localUtilities.webScrape import getBarChartData as companyInfo\n",
    "from localUtilities.webScrape import getBarChartOptionsSelenium as companyOptions\n",
    "from ibUtils import buildCompanyFundamentalFromBarChart as createBarChartExcel\n",
    "\n",
    "import pandas as pd\n",
    "\n",
    "startday = '2020-05-29'\n",
    "aStock = 'ZM'\n",
    "theExpiryDateText = '2020-05-29-w'\n",
    "\n",
    "startTime = datetime.datetime.now()\n",
    "\n",
    "print('Start Time: ', startTime.strftime(\"%Y-%m-%d %H:%M\"))\n",
    "#================================================================\n",
    "createBarChartExcel.buildExcelFile(aStock, startday, theExpiryDateText )\n",
    "\n",
    "#================================================================\n",
    "endTime = datetime.datetime.now()\n",
    "\n",
    "print('End Time: ', endTime.strftime(\"%Y-%m-%d %H:%M\"))\n",
    "print('Elapsed Time: ', endTime - startTime )\n",
    "\n",
    "print('Now ->  ', datetime.datetime.now())"
   ],
   "metadata": {
    "collapsed": false,
    "pycharm": {
     "name": "#%%\n"
    }
   }
  },
  {
   "cell_type": "code",
   "execution_count": null,
   "outputs": [],
   "source": [
    "\n"
   ],
   "metadata": {
    "collapsed": false,
    "pycharm": {
     "name": "#%%\n"
    }
   }
  }
 ],
 "metadata": {
  "kernelspec": {
   "name": "pycharm-cf45a016",
   "language": "python",
   "display_name": "PyCharm (getEarningsFromYahoo)"
  },
  "language_info": {
   "codemirror_mode": {
    "name": "ipython",
    "version": 2
   },
   "file_extension": ".py",
   "mimetype": "text/x-python",
   "name": "python",
   "nbconvert_exporter": "python",
   "pygments_lexer": "ipython2",
   "version": "2.7.6"
  }
 },
 "nbformat": 4,
 "nbformat_minor": 0
}