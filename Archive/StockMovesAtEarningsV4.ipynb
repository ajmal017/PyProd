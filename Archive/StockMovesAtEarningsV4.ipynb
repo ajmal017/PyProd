{
 "cells": [
  {
   "cell_type": "code",
   "execution_count": 1,
   "metadata": {},
   "outputs": [
    {
     "data": {
      "text/plain": [
       "<IB connected to 127.0.0.1:4002 clientId=9>"
      ]
     },
     "execution_count": 1,
     "metadata": {},
     "output_type": "execute_result"
    }
   ],
   "source": [
    "#Get the iWidget stuff\n",
    "from __future__ import print_function\n",
    "from ipywidgets import interact, interactive, fixed, interact_manual\n",
    "import ipywidgets as widgets\n",
    "\n",
    "import os\n",
    "import sys\n",
    "\n",
    "sys.path.append('/home/michael/jupyter/local-packages')\n",
    "\n",
    "# Get my Utilities (localUtilities)\n",
    "from localUtilities import dateUtils  #bPyUtils, configIB \n",
    "from localUtilities.webScrape import getCompanEarningsFromYahoo\n",
    "from localUtilities.ibUtils import getOptionStrategyPrice as strat\n",
    "from localUtilities.ibUtils import setup as setup\n",
    "\n",
    "import numpy as np\n",
    "import pandas as pd\n",
    "import datetime\n",
    "import random\n",
    "import itertools\n",
    "\n",
    "\n",
    "from IPython.display import display, HTML\n",
    "\n",
    "# matplotlib imports\n",
    "import matplotlib.pyplot as plt\n",
    "import matplotlib.dates as mdates\n",
    "from matplotlib.dates import DateFormatter\n",
    "from matplotlib.ticker import (MultipleLocator, FormatStrFormatter,\n",
    "                               AutoMinorLocator)\n",
    "\n",
    "# interactive Shell to see variables outside of print() function - \n",
    "#  if this is on one can suppress output by adding a ';' at the end of line \n",
    "#   not 100% clear which variables this supresses \n",
    "# from IPython.core.interactiveshell import InteractiveShell\n",
    "# InteractiveShell.ast_node_interactivity = \"all\"\n",
    "\n",
    "# Doc is here: https://ib-insync.readthedocs.io/readme.html\n",
    "from ib_insync import *\n",
    "util.startLoop()\n",
    "\n",
    "ib = IB()\n",
    "# Connect to IB Gateway / Paper Trade 4002 \n",
    "#            TWS        / Paper Trade 7495\n",
    "ib.connect('127.0.0.1', 4002, clientId=9)"
   ]
  },
  {
   "cell_type": "code",
   "execution_count": 2,
   "metadata": {},
   "outputs": [
    {
     "data": {
      "text/plain": [
       "True"
      ]
     },
     "execution_count": 2,
     "metadata": {},
     "output_type": "execute_result"
    }
   ],
   "source": [
    "#See if connected \n",
    "ib.isConnected()"
   ]
  },
  {
   "cell_type": "code",
   "execution_count": 4,
   "metadata": {},
   "outputs": [
    {
     "ename": "TypeError",
     "evalue": "object of type 'int' has no len()",
     "output_type": "error",
     "traceback": [
      "\u001b[0;31m---------------------------------------------------------------------------\u001b[0m",
      "\u001b[0;31mTypeError\u001b[0m                                 Traceback (most recent call last)",
      "\u001b[0;32m<ipython-input-4-b8609b8a2f6b>\u001b[0m in \u001b[0;36m<module>\u001b[0;34m\u001b[0m\n\u001b[1;32m      7\u001b[0m \u001b[0myahooEarningsDF\u001b[0m \u001b[0;34m=\u001b[0m \u001b[0mgetCompanEarningsFromYahoo\u001b[0m\u001b[0;34m.\u001b[0m\u001b[0mgetPastEarnings\u001b[0m\u001b[0;34m(\u001b[0m\u001b[0mtheStock\u001b[0m\u001b[0;34m)\u001b[0m\u001b[0;34m\u001b[0m\u001b[0;34m\u001b[0m\u001b[0m\n\u001b[1;32m      8\u001b[0m \u001b[0mearningsPastStock\u001b[0m\u001b[0;34m,\u001b[0m \u001b[0mearningsPastImpVol\u001b[0m \u001b[0;34m=\u001b[0m \u001b[0mstrat\u001b[0m\u001b[0;34m.\u001b[0m\u001b[0mgetHistoricIVnPrice\u001b[0m\u001b[0;34m(\u001b[0m\u001b[0mib\u001b[0m\u001b[0;34m,\u001b[0m \u001b[0mcontract\u001b[0m\u001b[0;34m,\u001b[0m \u001b[0myahooEarningsDF\u001b[0m\u001b[0;34m)\u001b[0m\u001b[0;34m\u001b[0m\u001b[0;34m\u001b[0m\u001b[0m\n\u001b[0;32m----> 9\u001b[0;31m \u001b[0myahooEarningsDF\u001b[0m \u001b[0;34m=\u001b[0m \u001b[0mstrat\u001b[0m\u001b[0;34m.\u001b[0m\u001b[0mgetMinMaxPricePercent\u001b[0m\u001b[0;34m(\u001b[0m\u001b[0mearningsPastStock\u001b[0m\u001b[0;34m,\u001b[0m \u001b[0myahooEarningsDF\u001b[0m\u001b[0;34m,\u001b[0m \u001b[0mtheDaysCountPastEarnings\u001b[0m\u001b[0;34m)\u001b[0m\u001b[0;34m\u001b[0m\u001b[0;34m\u001b[0m\u001b[0m\n\u001b[0m\u001b[1;32m     10\u001b[0m \u001b[0myahooEarningsDF\u001b[0m\u001b[0;34m\u001b[0m\u001b[0;34m\u001b[0m\u001b[0m\n",
      "\u001b[0;32m~/jupyter/local-packages/localUtilities/ibUtils/getOptionStrategyPrice.py\u001b[0m in \u001b[0;36mgetMinMaxPricePercent\u001b[0;34m(earningsPastStock, earningsPastImpVol, yahooEarningsDF, theDays)\u001b[0m\n\u001b[1;32m     38\u001b[0m \u001b[0;34m\u001b[0m\u001b[0m\n\u001b[1;32m     39\u001b[0m     \u001b[0;31m# Get Min/Max Price/Percent in data set\u001b[0m\u001b[0;34m\u001b[0m\u001b[0;34m\u001b[0m\u001b[0;34m\u001b[0m\u001b[0m\n\u001b[0;32m---> 40\u001b[0;31m     \u001b[0;32mfor\u001b[0m \u001b[0mcount\u001b[0m \u001b[0;32min\u001b[0m \u001b[0mrange\u001b[0m\u001b[0;34m(\u001b[0m\u001b[0;36m0\u001b[0m\u001b[0;34m,\u001b[0m \u001b[0mlen\u001b[0m\u001b[0;34m(\u001b[0m\u001b[0myahooEarningsDF\u001b[0m\u001b[0;34m)\u001b[0m\u001b[0;34m)\u001b[0m\u001b[0;34m:\u001b[0m  \u001b[0;31m# for all the dates in earningsCalendar\u001b[0m\u001b[0;34m\u001b[0m\u001b[0;34m\u001b[0m\u001b[0m\n\u001b[0m\u001b[1;32m     41\u001b[0m         \u001b[0;31m# recreate index as the 'date' column\u001b[0m\u001b[0;34m\u001b[0m\u001b[0;34m\u001b[0m\u001b[0;34m\u001b[0m\u001b[0m\n\u001b[1;32m     42\u001b[0m         \u001b[0mePSPrice\u001b[0m \u001b[0;34m=\u001b[0m \u001b[0mearningsPastStock\u001b[0m\u001b[0;34m[\u001b[0m\u001b[0mcount\u001b[0m\u001b[0;34m]\u001b[0m\u001b[0;34m.\u001b[0m\u001b[0mset_index\u001b[0m\u001b[0;34m(\u001b[0m\u001b[0;34m\"date\"\u001b[0m\u001b[0;34m,\u001b[0m \u001b[0mdrop\u001b[0m\u001b[0;34m=\u001b[0m\u001b[0;32mFalse\u001b[0m\u001b[0;34m)\u001b[0m\u001b[0;34m\u001b[0m\u001b[0;34m\u001b[0m\u001b[0m\n",
      "\u001b[0;31mTypeError\u001b[0m: object of type 'int' has no len()"
     ]
    }
   ],
   "source": [
    "theStock = 'DELL'\n",
    "anExchange = 'SMART'\n",
    "theCurrency = 'USD'\n",
    "theDaysCountPastEarnings = 6\n",
    "\n",
    "qualityContracts, contract = setup.getQualityContracts(ib, theStock, anExchange, theCurrency ) \n",
    "yahooEarningsDF = getCompanEarningsFromYahoo.getPastEarnings(theStock)\n",
    "earningsPastStock, earningsPastImpVol = strat.getHistoricIVnPrice(ib, contract, yahooEarningsDF)\n",
    "yahooEarningsDF = strat.getMinMaxPricePercent(earningsPastStock, yahooEarningsDF, theDaysCountPastEarnings)\n",
    "yahooEarningsDF"
   ]
  },
  {
   "cell_type": "code",
   "execution_count": null,
   "metadata": {},
   "outputs": [],
   "source": []
  }
 ],
 "metadata": {
  "kernelspec": {
   "name": "pycharm-cf45a016",
   "language": "python",
   "display_name": "PyCharm (getEarningsFromYahoo)"
  },
  "language_info": {
   "codemirror_mode": {
    "name": "ipython",
    "version": 3
   },
   "file_extension": ".py",
   "mimetype": "text/x-python",
   "name": "python",
   "nbconvert_exporter": "python",
   "pygments_lexer": "ipython3",
   "version": "3.7.3"
  }
 },
 "nbformat": 4,
 "nbformat_minor": 4
}