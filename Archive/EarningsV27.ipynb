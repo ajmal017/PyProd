{
 "cells": [
  {
   "cell_type": "code",
   "execution_count": 1,
   "metadata": {},
   "outputs": [
    {
     "data": {
      "text/plain": [
       "<IB connected to 127.0.0.1:4002 clientId=8>"
      ]
     },
     "execution_count": 1,
     "metadata": {},
     "output_type": "execute_result"
    }
   ],
   "source": [
    "#Get the iWidget stuff\n",
    "from __future__ import print_function\n",
    "from ipywidgets import interact, interactive, fixed, interact_manual\n",
    "import ipywidgets as widgets\n",
    "\n",
    "import os\n",
    "import sys\n",
    "\n",
    "sys.path.append('/home/michael/jupyter/local-packages')\n",
    "\n",
    "# Get my Utilities (localUtilities)\n",
    "from localUtilities import dateUtils  #bPyUtils, configIB \n",
    "from localUtilities.webScrape import getCompanEarningsFromYahoo\n",
    "from localUtilities.ibUtils import getOptionStrategyPrice as strat\n",
    "\n",
    "import numpy as np\n",
    "import pandas as pd\n",
    "import datetime\n",
    "import random\n",
    "import itertools\n",
    "from IPython.display import display, HTML\n",
    "\n",
    "# matplotlib imports\n",
    "import matplotlib.pyplot as plt\n",
    "import matplotlib.dates as mdates\n",
    "from matplotlib.dates import DateFormatter\n",
    "from matplotlib.ticker import (MultipleLocator, FormatStrFormatter,\n",
    "                               AutoMinorLocator)\n",
    "\n",
    "# interactive Shell to see variables outside of print() function - \n",
    "#  if this is on one can suppress output by adding a ';' at the end of line \n",
    "#   not 100% clear which variables this supresses \n",
    "# from IPython.core.interactiveshell import InteractiveShell\n",
    "# InteractiveShell.ast_node_interactivity = \"all\"\n",
    "\n",
    "# Doc is here: https://ib-insync.readthedocs.io/readme.html\n",
    "from ib_insync import *\n",
    "util.startLoop()\n",
    "\n",
    "ib = IB()\n",
    "# Connect to IB Gateway / Paper Trade 4002 \n",
    "#            TWS        / Paper Trade 7495\n",
    "ib.connect('127.0.0.1', 4002, clientId=8)"
   ]
  },
  {
   "cell_type": "code",
   "execution_count": 2,
   "metadata": {},
   "outputs": [
    {
     "data": {
      "text/plain": [
       "True"
      ]
     },
     "execution_count": 2,
     "metadata": {},
     "output_type": "execute_result"
    }
   ],
   "source": [
    "#See if connected \n",
    "ib.isConnected()"
   ]
  },
  {
   "cell_type": "code",
   "execution_count": 3,
   "metadata": {},
   "outputs": [],
   "source": [
    "theStock = 'dis'\n",
    "anExchange = 'SMART'\n",
    "theCurrency = 'USD'\n",
    "\n",
    "contract = Stock(theStock, anExchange, theCurrency )\n",
    "\n",
    "qualityContracts = contract \n",
    "ib.qualifyContracts(qualityContracts)\n",
    "qualityContracts\n",
    "\n",
    "# # Return a list of expriries and a list of strike prices.\n",
    "# chains = ib.reqSecDefOptParams(qualityContracts.symbol, '', \n",
    "#                                qualityContracts.secType, qualityContracts.conId)\n",
    "# # chains"
   ]
  },
  {
   "cell_type": "code",
   "execution_count": 4,
   "metadata": {},
   "outputs": [
    {
     "ename": "StopIteration",
     "evalue": "",
     "output_type": "error",
     "traceback": [
      "\u001b[0;31m---------------------------------------------------------------------------\u001b[0m",
      "\u001b[0;31mStopIteration\u001b[0m                             Traceback (most recent call last)",
      "\u001b[0;32m<ipython-input-4-138f8f7359a7>\u001b[0m in \u001b[0;36m<module>\u001b[0;34m\u001b[0m\n\u001b[0;32m----> 1\u001b[0;31m chain = next(c for c in chains if c.tradingClass == theStock \n\u001b[0m\u001b[1;32m      2\u001b[0m              and c.exchange == anExchange)\n",
      "\u001b[0;31mStopIteration\u001b[0m: "
     ]
    }
   ],
   "source": [
    "# chain = next(c for c in chains if c.tradingClass == theStock \n",
    "#              and c.exchange == anExchange)"
   ]
  },
  {
   "cell_type": "code",
   "execution_count": null,
   "metadata": {},
   "outputs": [],
   "source": [
    "#get earnings from Yahoo\n",
    "yahooEarningsDF = getCompanEarningsFromYahoo.getPastEarnings(theStock)\n",
    "yahooEarningsDF"
   ]
  },
  {
   "cell_type": "code",
   "execution_count": null,
   "metadata": {},
   "outputs": [],
   "source": [
    "# # add daysAroundEarnings Days forward - this will be used to count back and plot time\n",
    "# # durationString,The amount of time (or Valid Duration String units) to go back from the request's given end date and time.\n",
    "\n",
    "# add X(daysPassEarnings) Days forward past earnings - this will be used to count back from endDateTime\n",
    "daysPassEarnings = 60\n",
    "\n",
    "# How far back from daysPassEarnings\n",
    "durationStrDays = '90 D'\n",
    "# Bar size\n",
    "setBarSizeSetting = '1 day'"
   ]
  },
  {
   "cell_type": "markdown",
   "metadata": {},
   "source": [
    "<p>Historical data is obtained from the the TWS via the&nbsp;<a class=\"el\" href=\"https://interactivebrokers.github.io/tws-api/classIBApi_1_1EClient.html#a5eac5b7908b62c224985cf8577a8350c\">IBApi.EClient.reqHistoricalData</a>&nbsp;function. Every request needs:</p>\n",
    "<ul>\n",
    "<li><em><strong>tickerId</strong></em>, A unique identifier which will serve to identify the incoming data.</li>\n",
    "<li><em><strong>contract</strong></em>, The&nbsp;<a class=\"el\" href=\"https://interactivebrokers.github.io/tws-api/classIBApi_1_1Contract.html\">IBApi.Contract</a>&nbsp;you are interested in.</li>\n",
    "<li><em><strong>endDateTime</strong></em>, The request's end date and time (the empty string indicates current present moment).</li>\n",
    "<li><em><strong>durationString</strong></em>, The amount of time (or&nbsp;<a class=\"el\" href=\"https://interactivebrokers.github.io/tws-api/historical_bars.html#hd_duration\">Valid Duration String units</a>) to go back from the request's given end date and time.</li>\n",
    "<li><em><strong>barSizeSetting</strong></em>, The data's granularity or&nbsp;<a class=\"el\" href=\"https://interactivebrokers.github.io/tws-api/historical_bars.html#hd_barsize\">Valid Bar Sizes</a></li>\n",
    "<li><em><strong>whatToShow</strong></em>, The type of data to retrieve. See&nbsp;<a class=\"el\" href=\"https://interactivebrokers.github.io/tws-api/historical_bars.html#hd_what_to_show\">Historical Data Types</a></li>\n",
    "<li><em><strong>useRTH</strong></em>, Whether (1) or not (0) to retrieve data generated only within Regular Trading Hours (RTH)</li>\n",
    "<li><em><strong>formatDate</strong></em>, The format in which the incoming bars' date should be presented. Note that for day bars, only yyyyMMdd format is available.</li>\n",
    "<li><em><strong>keepUpToDate</strong></em>, Whether a subscription is made to return updates of unfinished real time bars as they are available (True), or all data is returned on a one-time basis (False).&nbsp;<em>Available starting with API v973.03+ and TWS v965+</em>. If&nbsp;<em>True</em>, and endDateTime cannot be specified.</li>\n",
    "<li></li>\n",
    "</ul>"
   ]
  },
  {
   "cell_type": "code",
   "execution_count": null,
   "metadata": {},
   "outputs": [],
   "source": [
    "#create time series panda dataframes from IB\n",
    "earningsPastStock = []\n",
    "earningsPastImpVol=[]\n",
    "\n",
    "# Get Historical Data\n",
    "for earnData in range(0, len(yahooEarningsDF)):\n",
    "        earningsPastStock.append(util.df(ib.reqHistoricalData(contract, endDateTime=yahooEarningsDF['Earnings_Date'][earnData]\n",
    "                                                              +datetime.timedelta(days=daysPassEarnings),  \n",
    "                                                              durationStr=durationStrDays,barSizeSetting=setBarSizeSetting, \n",
    "                                                              whatToShow='TRADES', useRTH=True)))\n",
    "        earningsPastImpVol.append(util.df(ib.reqHistoricalData(contract, endDateTime=yahooEarningsDF['Earnings_Date'][earnData]\n",
    "                                                               +datetime.timedelta(days=daysPassEarnings), \n",
    "                                                               durationStr=durationStrDays,barSizeSetting=setBarSizeSetting, \n",
    "                                                               whatToShow='OPTION_IMPLIED_VOLATILITY', useRTH=True)))\n",
    "\n",
    "# earningsPastStock\n",
    "# earningsPastImpVol        "
   ]
  },
  {
   "cell_type": "code",
   "execution_count": null,
   "metadata": {},
   "outputs": [],
   "source": [
    "listOfEarningDeltas = []\n",
    "priceEarnDay=[]\n",
    "\n",
    "# Get Min/Max Price/Percent in data set \n",
    "for count in range(0, len(yahooEarningsDF)): # for all the dates in earningsCalendar\n",
    "    # recreate index as the 'date' column \n",
    "    ePSPrice = earningsPastStock[count].set_index(\"date\", drop=False)\n",
    "    ePSPrice.index = pd.to_datetime(ePSPrice.index)\n",
    "\n",
    "    # Get Earning Date and Past/Forward + Plus1 Day\n",
    "    onEarningDate = yahooEarningsDF['Earnings_Date'][count].date()\n",
    "    onEarningDatePast = onEarningDate - datetime.timedelta(days=15)\n",
    "    onEarningDateForward = onEarningDate + datetime.timedelta(days=15)\n",
    "\n",
    "    \n",
    "    # Create new dataframe from old // old[['A', 'C', 'D']].copy()\n",
    "    # Create a new df and set index to date\n",
    "    onEarningDatePastdf=(ePSPrice.loc[onEarningDatePast:onEarningDateForward,['date','close']].copy()).set_index(\"date\", drop=False)\n",
    "\n",
    "    anEarningDate=yahooEarningsDF['Earnings_Date'][count].date()   \n",
    "    \n",
    "    # Let’s add a new column ‘earningDayPercentDelta’ where entry at each index will be calculated by the values in other columns at that index i.e.\n",
    "    # dfObj['Percentage'] =  (100-(dfObj['Marks'] / dfObj['Total'] ) * 100\n",
    "\n",
    "    onEarningDatePastdf['$Deltas'] = round((onEarningDatePastdf['close'] - ePSPrice.close.at[anEarningDate]),2)\n",
    "    onEarningDatePastdf['%Deltas'] = round(100-((ePSPrice.close.at[anEarningDate]/onEarningDatePastdf['close'])*100),2)\n",
    "\n",
    "    \n",
    "    # keep a list of DF of these $ & % updates  ayAfterMove%\n",
    "#     onEarningDatePastdf['earningDayPriceDelta'] = round((onEarningDatePastdf['close'] - ePSPrice.close.at[anEarningDate]),2)\n",
    "#     onEarningDatePastdf['earningDayPercentDelta'] = round(100-((ePSPrice.close.at[anEarningDate]/onEarningDatePastdf['close'])*100),2)\n",
    "    \n",
    "    listOfEarningDeltas.append(onEarningDatePastdf)   \n",
    "    \n",
    "        \n",
    "    priceEarnDay.append(ePSPrice.close.at[anEarningDate])\n",
    "    "
   ]
  },
  {
   "cell_type": "code",
   "execution_count": null,
   "metadata": {},
   "outputs": [],
   "source": [
    "    \n",
    "# onEarningDatePlus1 = dateUtils.getDateStringDashSeprtors(onEarningDatePlus1DateTime)   \n",
    "maxPriceDelta=[]\n",
    "maxPercentDelta=[]\n",
    "minPriceDelta=[]\n",
    "minPercentDelta=[]\n",
    "priceDelta1Day=[]\n",
    "percentDelta1Day=[]\n",
    "\n",
    "\n",
    "# Count for number of earnings in Yahoo Earnings / yahooEarningsDF\n",
    "count = 0 \n",
    "for earnDateDF in listOfEarningDeltas:\n",
    "    # Get earning date\n",
    "    anEarningDate=yahooEarningsDF['Earnings_Date'][count].date()\n",
    "    # Get Earning date +1\n",
    "    onEarningDatePlus1 = anEarningDate + datetime.timedelta(days=1)\n",
    "\n",
    "    # Get Max/Min % / $\n",
    "    maxPriceDelta.append(earnDateDF['$Deltas'].max())\n",
    "    maxPercentDelta.append(earnDateDF['%Deltas'].max())\n",
    "    minPriceDelta.append(earnDateDF['$Deltas'].min())\n",
    "    minPercentDelta.append(earnDateDF['%Deltas'].min())\n",
    "\n",
    "    # Get earning day + 1 info\n",
    "    priceDelta1Day.append(earnDateDF.loc[onEarningDatePlus1,'$Deltas'])\n",
    "    percentDelta1Day.append(earnDateDF.loc[onEarningDatePlus1,'%Deltas'])\n",
    "\n",
    "    # Count for number of earnings in Yahoo Earnings / yahooEarningsDF\n",
    "    count = count +1\n",
    "\n"
   ]
  },
  {
   "cell_type": "code",
   "execution_count": null,
   "metadata": {},
   "outputs": [],
   "source": [
    "# add info to yahooEarningsDF dataframe\n",
    "yahooEarningsDF['EarnDay$']=priceEarnDay\n",
    "yahooEarningsDF['$Max']=maxPriceDelta\n",
    "yahooEarningsDF['%Max']=maxPercentDelta\n",
    "yahooEarningsDF['$Min']=minPriceDelta\n",
    "yahooEarningsDF['%Min']=minPercentDelta\n",
    "yahooEarningsDF['dayAfter%']=percentDelta1Day\n",
    "yahooEarningsDF['dayAfter$']=priceDelta1Day"
   ]
  },
  {
   "cell_type": "code",
   "execution_count": null,
   "metadata": {},
   "outputs": [],
   "source": [
    "yahooEarningsDF"
   ]
  },
  {
   "cell_type": "code",
   "execution_count": null,
   "metadata": {},
   "outputs": [],
   "source": [
    "colorStock = 'tab:blue'\n",
    "colorImpVol = 'tab:red'\n",
    "xLabel = 'time'\n",
    "yLabelStock = 'Stock Price @Close';\n",
    "yLabelImpVol = 'Implied Volatility @Close';\n",
    "ax1LegendLabel = \"Price\"\n",
    "ax2LegendLabel = \"ImpVol\"\n",
    "\n",
    "locator = mdates.AutoDateLocator(minticks=5, maxticks=15)\n",
    "formatter = mdates.ConciseDateFormatter(locator)\n",
    "myFmt = DateFormatter(\"%b-%d-%Y\")\n",
    "\n",
    "\n",
    "for earn in range(0, len(yahooEarningsDF)): # for all the dates in earningsCalendar\n",
    "    fig, ax1 = plt.subplots(figsize=(14,5)); # single Plot\n",
    "\n",
    "    earningDateString = yahooEarningsDF['Earnings_Date'][earn].strftime(\"%B %d, %Y\")\n",
    "    theTitle = theStock + \" Stock price \"+ \" / Earnings Date: \" + earningDateString\n",
    "    impVolDataHeaderStockString = '<hr> <strong><span style=\"color: #ff0000; font-family: arial, helvetica, sans-serif; font-size: large;\"> ' + theStock \n",
    "\n",
    "    dataHeaderEarningDateString = '<br></span></strong><span style=\"font-size: small; color: #008000;\"><strong><span style=\"font-family: arial, helvetica, sans-serif;\">Earning Date &#9884 ' \\\n",
    "    + earningDateString + '<hr> '\n",
    "    \n",
    "    impVolDataHeader = impVolDataHeaderStockString  + ' &#9830; ImpVol ' + dataHeaderEarningDateString\n",
    "    \n",
    "    priceHeaderDataHeaderStockString = '<hr> <strong><span style=\"color: blue; font-family: arial, helvetica, sans-serif; font-size: large;\"> ' + theStock \n",
    "\n",
    "    priceHeader = priceHeaderDataHeaderStockString  + ' &#9830; Price ' + dataHeaderEarningDateString\n",
    "\n",
    "    display(HTML(priceHeader))\n",
    "#     display(onEarningDatePastdf)\n",
    "    \n",
    "    ax1.set_title(theTitle);\n",
    "\n",
    "    ax1.set_xlabel(xLabel);\n",
    "    ax1.set_ylabel(yLabelStock, color=colorStock);\n",
    "    ax1.plot(earningsPastStock[earn]['date'], earningsPastStock[earn]['close'], color=colorStock, label=ax1LegendLabel);\n",
    "    ax1.tick_params(axis='y', labelcolor=colorStock);\n",
    "    ax1.grid(True);\n",
    "\n",
    "    # instantiate a second axes that shares the same x-axis\n",
    "    ax2 = ax1.twinx();\n",
    "    ax2.set_ylabel(yLabelImpVol, color=colorImpVol)  # we already handled the x-label with ax1\n",
    "    ax2.plot(earningsPastImpVol[earn]['date'] ,earningsPastImpVol[earn]['close'], color=colorImpVol, label=ax2LegendLabel)\n",
    "    ax2.tick_params(axis='y', labelcolor=colorImpVol)\n",
    "\n",
    "    #build Legend for 2 Xaxis\n",
    "    lines1, labels1 = ax1.get_legend_handles_labels()\n",
    "    lines2, labels2 = ax2.get_legend_handles_labels()\n",
    "    ax2.legend(lines1 + lines2, labels1 + labels2, bbox_to_anchor=(1.0, 1.1))\n",
    "\n",
    "    #set up Major/Minor xAxis \n",
    "    ax1.xaxis.set_major_locator(locator)\n",
    "    ax1.xaxis.set_major_formatter(formatter)\n",
    "\n",
    "    # Format xAxis Date\n",
    "    ax1.xaxis.set_major_formatter(myFmt)\n",
    "    ax1.tick_params(which='major', length=10)\n",
    "    ax1.tick_params(which='minor', length=4, color='b')\n",
    "    ax1.xaxis.set_minor_locator(AutoMinorLocator())\n",
    "    \n",
    "    ax1.axvspan(mdates.date2num(yahooEarningsDF['Earnings_Date'][earn]),\n",
    "                mdates.date2num(yahooEarningsDF['Earnings_Date'][earn]+datetime.timedelta(days=3)),\n",
    "                facecolor='g', alpha=0.5)\n",
    "    ax1.axvspan(mdates.date2num(yahooEarningsDF['Earnings_Date'][earn]),\n",
    "                mdates.date2num(yahooEarningsDF['Earnings_Date'][earn]-datetime.timedelta(days=8)),\n",
    "                facecolor='y', alpha=0.5)\n",
    "    ax1.axvspan(mdates.date2num(yahooEarningsDF['Earnings_Date'][earn]+datetime.timedelta(days=3)),\n",
    "                mdates.date2num(yahooEarningsDF['Earnings_Date'][earn]+datetime.timedelta(days=10)),\n",
    "                facecolor='aqua', alpha=0.5)\n",
    "\n",
    "    fig.autofmt_xdate()\n",
    "    plt.show()\n",
    "#     display(listOfEarningDeltas[earn]) #to show Deltas"
   ]
  },
  {
   "cell_type": "code",
   "execution_count": null,
   "metadata": {},
   "outputs": [],
   "source": [
    "yahooEarningsDF   \n",
    "    \n",
    "print(\"Estimated Percent Move for 1 Day: {:5.3f}%\".format(strat.getEstimatedPercentMovefor1Day(ib, qualityContracts, chain)))  \n",
    "print(\"Estimated Price Move for 1 Day:  ${:2.2f}\".format(strat.getEstimatedPriceMovefor1Day(ib, qualityContracts, chain)))      \n",
    "print(\"Option Straddle Price:           ${:3.2f}\".format(strat.getOptionStraddlePrice(ib, qualityContracts, chain)))\n",
    "print(\"Tickers Market Price:            ${:3.2f}\".format(strat.getSnapshotTickersMarketPrice(ib, qualityContracts)))\n",
    "\n",
    "\n",
    "mktData =  ib.reqMktData(contract, \"100,101,104,105, 106\", False, False, [])\n",
    "ib.sleep(10)\n",
    "print('histVolatility     =  {:5.3f}%'.format(mktData.histVolatility))\n",
    "print('impliedVolatility  =  {:5.3f}%'.format(mktData.impliedVolatility))\n",
    "print('avOptionVolume     = ', mktData.avOptionVolume)\n",
    "print('close              = ${:3.2f}'.format(mktData.close))\n",
    "print('Expected Price Range Till Next Expiry = +/- ${:3.2f}'.format(strat.getExpectedPriceRangeTillNextExpiryDays(mktData.close, mktData.impliedVolatility)))\n"
   ]
  },
  {
   "cell_type": "code",
   "execution_count": null,
   "metadata": {},
   "outputs": [],
   "source": [
    "yahooEarningsDF\n"
   ]
  },
  {
   "cell_type": "code",
   "execution_count": null,
   "metadata": {},
   "outputs": [],
   "source": []
  }
 ],
 "metadata": {
  "kernelspec": {
   "display_name": "Python 3",
   "language": "python",
   "name": "python3"
  },
  "language_info": {
   "codemirror_mode": {
    "name": "ipython",
    "version": 3
   },
   "file_extension": ".py",
   "mimetype": "text/x-python",
   "name": "python",
   "nbconvert_exporter": "python",
   "pygments_lexer": "ipython3",
   "version": "3.7.3"
  }
 },
 "nbformat": 4,
 "nbformat_minor": 4
}
