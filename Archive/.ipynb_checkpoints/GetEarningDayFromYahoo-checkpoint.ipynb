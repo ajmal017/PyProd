{
 "cells": [
  {
   "cell_type": "code",
   "execution_count": null,
   "metadata": {},
   "outputs": [],
   "source": [
    "#Get the iWidget stuff\n",
    "from __future__ import print_function\n",
    "from ipywidgets import interact, interactive, fixed, interact_manual\n",
    "import ipywidgets as widgets\n",
    "\n",
    "import os\n",
    "import sys\n",
    "\n",
    "sys.path.append('/home/michael/jupyter/local-packages')\n",
    "import numpy as np\n",
    "import pandas as pd\n",
    "import datetime\n",
    "import random\n",
    "import itertools\n",
    "\n",
    "# Get my Utilities (localUtilities)\n",
    "from localUtilities import dateUtils\n",
    "# from localUtilities.webScrape import earningYahoo\n",
    "from localUtilities.ibUtils import getOptionStrategyPrice as strat\n",
    "\n",
    "from localUtilities.webScrape import getEarningOnDate\n",
    "\n",
    "# Doc is here: https://ib-insync.readthedocs.io/readme.html\n",
    "from ib_insync import *\n",
    "util.startLoop()\n",
    "\n",
    "ib = IB()\n",
    "# Connect to IB Gateway / Paper Trade 4002 \n",
    "#            TWS        / Paper Trade 7495\n",
    "ib.connect('127.0.0.1', 4002, clientId=8)"
   ]
  },
  {
   "cell_type": "code",
   "execution_count": null,
   "metadata": {},
   "outputs": [],
   "source": [
    "aDay = '2019-08-08'\n",
    "earningsDF = getEarningOnDate.getEarningsOnDate(aDay)"
   ]
  },
  {
   "cell_type": "code",
   "execution_count": null,
   "metadata": {},
   "outputs": [],
   "source": [
    "anExchange = 'SMART'\n",
    "theCurrency = 'USD'\n",
    "\n",
    "# add info \n",
    "earningsDF['histVolatility']=np.nan\n",
    "earningsDF['impliedVolatility']=np.nan\n",
    "earningsDF['avOptionVolume']=np.nan\n",
    "earningsDF['close']=np.nan\n",
    "earningsDF['Expected_Range']=np.nan"
   ]
  },
  {
   "cell_type": "code",
   "execution_count": null,
   "metadata": {},
   "outputs": [],
   "source": [
    "earningsDF"
   ]
  },
  {
   "cell_type": "code",
   "execution_count": null,
   "metadata": {},
   "outputs": [],
   "source": [
    "# for i in range(10):\n",
    "# for i, row in earningsDF.iterrows():\n",
    "count=0\n",
    "for row in earningsDF.itertuples():\n",
    "    print(row.Symbol, sep=\", \"\n",
    "    count = count +1 \n",
    "    contract = Stock(row.Symbol, anExchange, theCurrency )\n",
    "    qualityContracts = contract \n",
    "    ib.qualifyContracts(qualityContracts)\n",
    "    qualityContracts\n",
    "        \n",
    "    mktData =  ib.reqMktData(contract, \"100,101,104,105, 106\", False, False, [])\n",
    "    \n",
    "    ib.sleep(3)\n",
    "    \n",
    "    aticker = ib.ticker(contract)\n",
    "\n",
    "    earningsDF.at[row.Index, 'histVolatility']= mktData.histVolatility\n",
    "    earningsDF.at[row.Index, 'impliedVolatility']=mktData.impliedVolatility\n",
    "    earningsDF.at[row.Index, 'avOptionVolume']=mktData.avOptionVolume\n",
    "    earningsDF.at[row.Index, 'close']=mktData.last\n",
    "    earningsDF.at[row.Index, 'Expected_Range']=strat.getExpectedPriceRangeTillNextExpiryDays(mktData.close, mktData.impliedVolatility)\n",
    "\n",
    "    ib.sleep(2)\n",
    "    ib.cancelMktData(mktData.contract)\n"
   ]
  },
  {
   "cell_type": "code",
   "execution_count": null,
   "metadata": {},
   "outputs": [],
   "source": [
    "theDirectory = '/home/michael/jupyter/earningDateData/'\n",
    "csvName = '.csv'\n",
    "\n",
    "file = theDirectory + aDay + '1' + csvName\n",
    "\n",
    "earningsDF.to_csv(file)\n",
    "\n",
    "\n"
   ]
  },
  {
   "cell_type": "code",
   "execution_count": null,
   "metadata": {},
   "outputs": [],
   "source": [
    "earningsDF"
   ]
  },
  {
   "cell_type": "code",
   "execution_count": null,
   "metadata": {},
   "outputs": [],
   "source": []
  }
 ],
 "metadata": {
  "kernelspec": {
   "display_name": "Python 3",
   "language": "python",
   "name": "python3"
  },
  "language_info": {
   "codemirror_mode": {
    "name": "ipython",
    "version": 3
   },
   "file_extension": ".py",
   "mimetype": "text/x-python",
   "name": "python",
   "nbconvert_exporter": "python",
   "pygments_lexer": "ipython3",
   "version": "3.7.3"
  }
 },
 "nbformat": 4,
 "nbformat_minor": 4
}
