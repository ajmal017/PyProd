{
 "cells": [
  {
   "cell_type": "code",
   "execution_count": 1,
   "outputs": [],
   "source": [
    "import datetime\n",
    "holidays = [datetime.datetime(2019, 12, 25),\n",
    "           datetime.datetime(2020, 1, 1),\n",
    "datetime.datetime(2020, 1, 20),\n",
    "datetime.datetime(2020, 2, 17),\n",
    "datetime.datetime(2020, 4, 10),\n",
    "datetime.datetime(2020, 5, 25),\n",
    "datetime.datetime(2020, 7, 3),\n",
    "datetime.datetime(2020, 9, 7),\n",
    "datetime.datetime(2020, 11, 26),\n",
    "datetime.datetime(2020, 12, 25),\n",
    "datetime.datetime(2021, 1, 1),\n",
    "datetime.datetime(2021, 1, 18),\n",
    "datetime.datetime(2021, 2, 15),\n",
    "datetime.datetime(2021, 4, 2),\n",
    "datetime.datetime(2021, 5, 31),\n",
    "datetime.datetime(2021, 7, 5),\n",
    "datetime.datetime(2021, 9, 6),\n",
    "datetime.datetime(2021, 11, 25),\n",
    "datetime.datetime(2021, 12, 24)]\n",
    "\n",
    "def goOutXWeekdays(d, nextXDays, excluded=(6, 7)):\n",
    "    if nextXDays == 0:\n",
    "        return d\n",
    "    elif nextXDays > 0:    \n",
    "        count = 1\n",
    "        while count <= nextXDays:\n",
    "            d += datetime.timedelta(days=1)\n",
    "            if d.isoweekday() not in excluded and d not in holidays:\n",
    "                    count += 1\n",
    "        return d\n",
    "    else: \n",
    "        count = -1\n",
    "        while count >= nextXDays:\n",
    "            d -= datetime.timedelta(days=1)\n",
    "            if d.isoweekday() not in excluded and d not in holidays:\n",
    "                    count -= 1  \n",
    "        return d\n",
    "\n",
    "\n"
   ],
   "metadata": {
    "collapsed": false,
    "pycharm": {
     "name": "#%%\n",
     "is_executing": false
    }
   }
  },
  {
   "cell_type": "code",
   "execution_count": 7,
   "outputs": [
    {
     "data": {
      "text/plain": "datetime.datetime(2019, 12, 20, 0, 0)"
     },
     "metadata": {},
     "output_type": "execute_result",
     "execution_count": 7
    }
   ],
   "source": [
    "goOutXWeekdays(datetime.datetime(2020, 1, 2),-7 )"
   ],
   "metadata": {
    "collapsed": false,
    "pycharm": {
     "name": "#%%\n",
     "is_executing": false
    }
   }
  },
  {
   "cell_type": "code",
   "execution_count": 3,
   "outputs": [],
   "source": [
    "\n"
   ],
   "metadata": {
    "collapsed": false,
    "pycharm": {
     "name": "#%%\n",
     "is_executing": false
    }
   }
  }
 ],
 "metadata": {
  "kernelspec": {
   "name": "pycharm-cf45a016",
   "language": "python",
   "display_name": "PyCharm (getEarningsFromYahoo)"
  },
  "language_info": {
   "codemirror_mode": {
    "name": "ipython",
    "version": 2
   },
   "file_extension": ".py",
   "mimetype": "text/x-python",
   "name": "python",
   "nbconvert_exporter": "python",
   "pygments_lexer": "ipython2",
   "version": "2.7.6"
  },
  "pycharm": {
   "stem_cell": {
    "cell_type": "raw",
    "source": [],
    "metadata": {
     "collapsed": false
    }
   }
  }
 },
 "nbformat": 4,
 "nbformat_minor": 0
}