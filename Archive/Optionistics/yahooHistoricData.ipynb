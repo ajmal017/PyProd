{
 "cells": [
  {
   "cell_type": "code",
   "execution_count": 1,
   "metadata": {
    "collapsed": true,
    "pycharm": {
     "is_executing": false
    }
   },
   "outputs": [
    {
     "name": "stdout",
     "text": [
      "earning:  2019-10-30 20:00:00\ntype earning:  <class 'pandas._libs.tslibs.timestamps.Timestamp'>\nEarnings_Date:   <class 'datetime.datetime'>\nstartDateTime:   2019-10-26\nendDateTime:   2019-11-03\n"
     ],
     "output_type": "stream"
    },
    {
     "data": {
      "text/plain": "{'AAPL': {'eventsData': {},\n  'firstTradeDate': {'formatted_date': '1980-12-12', 'date': 345459600},\n  'currency': 'USD',\n  'instrumentType': 'EQUITY',\n  'timeZone': {'gmtOffset': -18000},\n  'prices': [{'date': 1572269400,\n    'high': 249.25,\n    'low': 246.72000122070312,\n    'open': 247.4199981689453,\n    'close': 249.0500030517578,\n    'volume': 24143200,\n    'adjclose': 248.3045196533203,\n    'formatted_date': '2019-10-28'},\n   {'date': 1572355800,\n    'high': 249.75,\n    'low': 242.57000732421875,\n    'open': 248.97000122070312,\n    'close': 243.2899932861328,\n    'volume': 35709900,\n    'adjclose': 242.56175231933594,\n    'formatted_date': '2019-10-29'},\n   {'date': 1572442200,\n    'high': 245.3000030517578,\n    'low': 241.2100067138672,\n    'open': 244.75999450683594,\n    'close': 243.25999450683594,\n    'volume': 31130500,\n    'adjclose': 242.53184509277344,\n    'formatted_date': '2019-10-30'},\n   {'date': 1572528600,\n    'high': 249.1699981689453,\n    'low': 237.25999450683594,\n    'open': 247.24000549316406,\n    'close': 248.75999450683594,\n    'volume': 34790500,\n    'adjclose': 248.015380859375,\n    'formatted_date': '2019-10-31'},\n   {'date': 1572615000,\n    'high': 255.92999267578125,\n    'low': 249.16000366210938,\n    'open': 249.5399932861328,\n    'close': 255.82000732421875,\n    'volume': 37781300,\n    'adjclose': 255.05426025390625,\n    'formatted_date': '2019-11-01'}]}}"
     },
     "metadata": {},
     "output_type": "execute_result",
     "execution_count": 1
    }
   ],
   "source": [
    "from localUtilities.webScrape import getCompanEarningsFromYahoo\n",
    "from localUtilities.ibUtils import getOptionStrategyPrice as strat\n",
    "from localUtilities.ibUtils import setup as setup\n",
    "\n",
    "import datetime\n",
    "import pandas as pd\n",
    "from yahoofinancials import YahooFinancials\n",
    "from  localUtilities import dateUtils\n",
    "\n",
    "#   not 100% clear which variables this supresses \n",
    "from IPython.core.interactiveshell import InteractiveShell\n",
    "InteractiveShell.ast_node_interactivity = \"all\"\n",
    "\n",
    "ticker = 'AAPL'\n",
    "yahoo_financials = YahooFinancials(ticker)\n",
    "\n",
    "# balance_sheet_data_qt = yahoo_financials.get_financial_stmts('quarterly', 'balance')\n",
    "# income_statement_data_qt = yahoo_financials.get_financial_stmts('quarterly', 'income')\n",
    "# all_statement_data_qt =  yahoo_financials.get_financial_stmts('quarterly', ['income', 'cash', 'balance'])\n",
    "# \n",
    "# apple_earnings_data = yahoo_financials.get_stock_earnings_data()\n",
    "# # apple_net_income = yahoo_financials.get_net_income()\n",
    "# historical_stock_prices = yahoo_financials.get_historical_price_data('2018-09-01', '2018-09-30', 'daily')\n",
    "# \n",
    "# # type(historical_stock_prices)\n",
    "# # historical_stock_prices.keys()\n",
    "# x = historical_stock_prices['AAPL']['prices']\n",
    "# \n",
    "# x = pd.DataFrame(x)\n",
    "# x.set_index('formatted_date', inplace=True)\n",
    "# x\n",
    "\n",
    "yahooEarningsDF = getCompanEarningsFromYahoo.getPastEarnings(ticker)\n",
    "# yahooEarningsDF\n",
    "# f = lambda x: dateUtils.getDateStringDashSeprtors(pd.to_datetime(x).to_pydatetime())\n",
    "# \n",
    "# z= dateUtils.getDateStringDashSeprtors(pd.to_datetime(yahooEarningsDF['Earnings_Date'][1]).to_pydatetime())\n",
    "# print(z)\n",
    "# print(yahooEarningsDF['Earnings_Date'][1])#.map(1)\n",
    "\n",
    "# ticker\n",
    "stockPrices = strat.getHistoricIVnPrice(ticker, yahooEarningsDF)\n",
    "# # earningsPastStock, earningsPastImpVol = strat.getHistoricIVnPrice(ticker, yahooEarningsDF)\n",
    "# # \n",
    "stockPrices"
   ]
  },
  {
   "cell_type": "code",
   "execution_count": 0,
   "outputs": [],
   "source": [],
   "metadata": {
    "collapsed": false,
    "pycharm": {
     "name": "#%%\n",
     "is_executing": false
    }
   }
  },
  {
   "cell_type": "code",
   "execution_count": null,
   "outputs": [],
   "source": [
    "\n"
   ],
   "metadata": {
    "collapsed": false,
    "pycharm": {
     "name": "#%%\n"
    }
   }
  }
 ],
 "metadata": {
  "kernelspec": {
   "display_name": "Python 3",
   "language": "python",
   "name": "python3"
  },
  "language_info": {
   "codemirror_mode": {
    "name": "ipython",
    "version": 2
   },
   "file_extension": ".py",
   "mimetype": "text/x-python",
   "name": "python",
   "nbconvert_exporter": "python",
   "pygments_lexer": "ipython2",
   "version": "2.7.6"
  },
  "pycharm": {
   "stem_cell": {
    "cell_type": "raw",
    "source": [],
    "metadata": {
     "collapsed": false
    }
   }
  }
 },
 "nbformat": 4,
 "nbformat_minor": 0
}