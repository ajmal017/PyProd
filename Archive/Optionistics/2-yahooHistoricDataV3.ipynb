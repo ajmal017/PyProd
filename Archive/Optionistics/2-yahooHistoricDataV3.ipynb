{
 "cells": [
  {
   "cell_type": "code",
   "execution_count": 1,
   "metadata": {
    "collapsed": true,
    "pycharm": {
     "is_executing": false
    }
   },
   "outputs": [
    {
     "name": "stderr",
     "text": [
      "Expected: %s to exist.\n",
      "NoneType: None\n",
      "Traceback (most recent call last):\n",
      "  File \"/usr/local/lib/python3.7/dist-packages/_pydevd_bundle/pydevd_comm.py\", line 1767, in pydevd_find_thread_by_id\n",
      "    pydevd_log(1, \"Available: %s\\n\" % [get_thread_id(t) for t in threads] % thread_id)\n",
      "TypeError: not all arguments converted during string formatting\n",
      "Traceback (most recent call last):\n",
      "  File \"/usr/local/lib/python3.7/dist-packages/_pydevd_bundle/pydevd_comm.py\", line 1767, in pydevd_find_thread_by_id\n",
      "    pydevd_log(1, \"Available: %s\\n\" % [get_thread_id(t) for t in threads] % thread_id)\n",
      "TypeError: not all arguments converted during string formatting\n",
      "Traceback (most recent call last):\n",
      "  File \"/usr/local/lib/python3.7/dist-packages/_pydevd_bundle/pydevd_comm.py\", line 1767, in pydevd_find_thread_by_id\n",
      "    pydevd_log(1, \"Available: %s\\n\" % [get_thread_id(t) for t in threads] % thread_id)\n",
      "TypeError: not all arguments converted during string formatting\n",
      "Traceback (most recent call last):\n",
      "  File \"/usr/local/lib/python3.7/dist-packages/_pydevd_bundle/pydevd_comm.py\", line 1767, in pydevd_find_thread_by_id\n",
      "    pydevd_log(1, \"Available: %s\\n\" % [get_thread_id(t) for t in threads] % thread_id)\n",
      "TypeError: not all arguments converted during string formatting\n"
     ],
     "output_type": "stream"
    }
   ],
   "source": [
    "import sys\n",
    "sys.path.append(\"/home/michael/pycharm/pycharm-2019.2.3/debug-eggs/pydevd-pycharm.egg\")\n",
    "\n",
    "import pydevd_pycharm\n",
    "pydevd_pycharm.settrace('192.168.1.200', port=2222, stdoutToServer=True, stderrToServer=True)\n",
    "\n",
    "from localUtilities.webScrape import getCompanEarningsFromYahoo \n",
    "from localUtilities.ibUtils import setup as setup\n",
    "\n",
    "import datetime\n",
    "import pandas as pd\n",
    "\n",
    "from yahoofinancials import YahooFinancials\n",
    "\n",
    "#   not 100% clear which variables this supresses \n",
    "from IPython.core.interactiveshell import InteractiveShell\n",
    "InteractiveShell.ast_node_interactivity = \"all\"\n"
   ]
  },
  {
   "cell_type": "code",
   "execution_count": 2,
   "outputs": [
    {
     "data": {
      "text/plain": "'/home/michael/jupyter/earningDateData/Companies/2019-12-16/'"
     },
     "metadata": {},
     "output_type": "execute_result",
     "execution_count": 2
    }
   ],
   "source": [
    "startday = '2019-12-16'\n",
    "\n",
    "theDirectory = '/home/michael/jupyter/earningDateData/' + 'Companies/' + startday + '/' \n",
    "csvSuffix = '.csv'\n",
    "inFile = theDirectory + 'EarningOfInterestforweekOf-' + startday + csvSuffix\n",
    "\n",
    "theDirectory"
   ],
   "metadata": {
    "collapsed": false,
    "pycharm": {
     "name": "#%%\n",
     "is_executing": false
    }
   }
  },
  {
   "cell_type": "code",
   "execution_count": 3,
   "outputs": [
    {
     "data": {
      "text/plain": "'2019-12-27 13:44'"
     },
     "metadata": {},
     "output_type": "execute_result",
     "execution_count": 3
    }
   ],
   "source": [
    "datetime.datetime.now().strftime(\"%Y-%m-%d %H:%M\")"
   ],
   "metadata": {
    "collapsed": false,
    "pycharm": {
     "name": "#%%\n",
     "is_executing": false
    }
   }
  },
  {
   "cell_type": "code",
   "execution_count": 4,
   "outputs": [
    {
     "name": "stdout",
     "text": [
      "0  -  AVXL\n",
      "AVXL  / theStock:  AVXL  @   12 earnDateRow.Index:  0, AVXL  / theStock:  AVXL  @   11 earnDateRow.Index:  1, AVXL  / theStock:  AVXL  @   10 earnDateRow.Index:  2, AVXL  / theStock:  AVXL  @   9 earnDateRow.Index:  3, AVXL  / theStock:  AVXL  @   8 earnDateRow.Index:  4, AVXL  / theStock:  AVXL  @   7 earnDateRow.Index:  5, AVXL  / theStock:  AVXL  @   6 earnDateRow.Index:  6, AVXL  / theStock:  AVXL  @   5 earnDateRow.Index:  7, AVXL  / theStock:  AVXL  @   4 earnDateRow.Index:  8, AVXL  / theStock:  AVXL  @   3 earnDateRow.Index:  9, AVXL  / theStock:  AVXL  @   2 earnDateRow.Index:  10, AVXL  / theStock:  AVXL  @   1 earnDateRow.Index:  11, \n",
      "Done.........\n",
      "1  -  HEI\n",
      "HEI  / theStock:  HEI  @   10 earnDateRow.Index:  0, HEI  / theStock:  HEI  @   9 earnDateRow.Index:  1, HEI  / theStock:  HEI  @   8 earnDateRow.Index:  2, HEI  / theStock:  HEI  @   7 earnDateRow.Index:  3, HEI  / theStock:  HEI  @   6 earnDateRow.Index:  4, HEI  / theStock:  HEI  @   5 earnDateRow.Index:  5, HEI  / theStock:  HEI  @   4 earnDateRow.Index:  6, HEI  / theStock:  HEI  @   3 earnDateRow.Index:  7, HEI  / theStock:  HEI  @   2 earnDateRow.Index:  8, HEI  / theStock:  HEI  @   1 earnDateRow.Index:  9, \n",
      "Done.........\n",
      "2  -  CHWY\n",
      "CHWY  / theStock:  CHWY  @   5 earnDateRow.Index:  0, CHWY  / theStock:  CHWY  @   4 earnDateRow.Index:  1, CHWY  / theStock:  CHWY  @   3 earnDateRow.Index:  2, CHWY  / theStock:  CHWY  @   2 earnDateRow.Index:  3, CHWY  / theStock:  CHWY  @   1 earnDateRow.Index:  4, \n",
      "Done.........\n",
      "3  -  CVGW\n",
      "CVGW  / theStock:  CVGW  @   12 earnDateRow.Index:  0, CVGW  / theStock:  CVGW  @   11 earnDateRow.Index:  1, CVGW  / theStock:  CVGW  @   10 earnDateRow.Index:  2, CVGW  / theStock:  CVGW  @   9 earnDateRow.Index:  3, CVGW  / theStock:  CVGW  @   8 earnDateRow.Index:  4, CVGW  / theStock:  CVGW  @   7 earnDateRow.Index:  5, CVGW  / theStock:  CVGW  @   6 earnDateRow.Index:  6, CVGW  / theStock:  CVGW  @   5 earnDateRow.Index:  7, CVGW  / theStock:  CVGW  @   4 earnDateRow.Index:  8, CVGW  / theStock:  CVGW  @   3 earnDateRow.Index:  9, CVGW  / theStock:  CVGW  @   2 earnDateRow.Index:  10, CVGW  / theStock:  CVGW  @   1 earnDateRow.Index:  11, \n",
      "Done.........\n",
      "4  -  NAV\n",
      "NAV  / theStock:  NAV  @   12 earnDateRow.Index:  0, NAV  / theStock:  NAV  @   11 earnDateRow.Index:  1, NAV  / theStock:  NAV  @   10 earnDateRow.Index:  2, NAV  / theStock:  NAV  @   9 earnDateRow.Index:  3, NAV  / theStock:  NAV  @   8 earnDateRow.Index:  4, NAV  / theStock:  NAV  @   7 earnDateRow.Index:  5, NAV  / theStock:  NAV  @   6 earnDateRow.Index:  6, NAV  / theStock:  NAV  @   5 earnDateRow.Index:  7, NAV  / theStock:  NAV  @   4 earnDateRow.Index:  8, NAV  / theStock:  NAV  @   3 earnDateRow.Index:  9, NAV  / theStock:  NAV  @   2 earnDateRow.Index:  10, NAV  / theStock:  NAV  @   1 earnDateRow.Index:  11, \n",
      "Done.........\n",
      "5  -  CTAS\n",
      "CTAS  / theStock:  CTAS  @   12 earnDateRow.Index:  0, CTAS  / theStock:  CTAS  @   11 earnDateRow.Index:  1, CTAS  / theStock:  CTAS  @   10 earnDateRow.Index:  2, CTAS  / theStock:  CTAS  @   9 earnDateRow.Index:  3, CTAS  / theStock:  CTAS  @   8 earnDateRow.Index:  4, CTAS  / theStock:  CTAS  @   7 earnDateRow.Index:  5, CTAS  / theStock:  CTAS  @   6 earnDateRow.Index:  6, CTAS  / theStock:  CTAS  @   5 earnDateRow.Index:  7, CTAS  / theStock:  CTAS  @   4 earnDateRow.Index:  8, CTAS  / theStock:  CTAS  @   3 earnDateRow.Index:  9, CTAS  / theStock:  CTAS  @   2 earnDateRow.Index:  10, CTAS  / theStock:  CTAS  @   1 earnDateRow.Index:  11, \n",
      "Done.........\n",
      "6  -  FDX\n",
      "FDX  / theStock:  FDX  @   12 earnDateRow.Index:  0, FDX  / theStock:  FDX  @   11 earnDateRow.Index:  1, FDX  / theStock:  FDX  @   10 earnDateRow.Index:  2, FDX  / theStock:  FDX  @   9 earnDateRow.Index:  3, FDX  / theStock:  FDX  @   8 earnDateRow.Index:  4, FDX  / theStock:  FDX  @   7 earnDateRow.Index:  5, FDX  / theStock:  FDX  @   6 earnDateRow.Index:  6, FDX  / theStock:  FDX  @   5 earnDateRow.Index:  7, FDX  / theStock:  FDX  @   4 earnDateRow.Index:  8, FDX  / theStock:  FDX  @   3 earnDateRow.Index:  9, FDX  / theStock:  FDX  @   2 earnDateRow.Index:  10, FDX  / theStock:  FDX  @   1 earnDateRow.Index:  11, \n",
      "Done.........\n",
      "7  -  JBL\n",
      "JBL  / theStock:  JBL  @   11 earnDateRow.Index:  0, JBL  / theStock:  JBL  @   10 earnDateRow.Index:  1, JBL  / theStock:  JBL  @   9 earnDateRow.Index:  2, JBL  / theStock:  JBL  @   8 earnDateRow.Index:  3, JBL  / theStock:  JBL  @   7 earnDateRow.Index:  4, JBL  / theStock:  JBL  @   6 earnDateRow.Index:  5, JBL  / theStock:  JBL  @   5 earnDateRow.Index:  6, JBL  / theStock:  JBL  @   4 earnDateRow.Index:  7, JBL  / theStock:  JBL  @   3 earnDateRow.Index:  8, JBL  / theStock:  JBL  @   2 earnDateRow.Index:  9, JBL  / theStock:  JBL  @   1 earnDateRow.Index:  10, \n",
      "Done.........\n",
      "8  -  GIS\n",
      "GIS  / theStock:  GIS  @   12 earnDateRow.Index:  0, GIS  / theStock:  GIS  @   11 earnDateRow.Index:  1, GIS  / theStock:  GIS  @   10 earnDateRow.Index:  2, GIS  / theStock:  GIS  @   9 earnDateRow.Index:  3, GIS  / theStock:  GIS  @   8 earnDateRow.Index:  4, GIS  / theStock:  GIS  @   7 earnDateRow.Index:  5, GIS  / theStock:  GIS  @   6 earnDateRow.Index:  6, GIS  / theStock:  GIS  @   5 earnDateRow.Index:  7, GIS  / theStock:  GIS  @   4 earnDateRow.Index:  8, GIS  / theStock:  GIS  @   3 earnDateRow.Index:  9, GIS  / theStock:  GIS  @   2 earnDateRow.Index:  10, GIS  / theStock:  GIS  @   1 earnDateRow.Index:  11, \n",
      "Done.........\n",
      "9  -  REVG\n",
      "REVG  / theStock:  REVG  @   8 earnDateRow.Index:  0, REVG  / theStock:  REVG  @   7 earnDateRow.Index:  1, REVG  / theStock:  REVG  @   6 earnDateRow.Index:  2, REVG  / theStock:  REVG  @   5 earnDateRow.Index:  3, REVG  / theStock:  REVG  @   4 earnDateRow.Index:  4, REVG  / theStock:  REVG  @   3 earnDateRow.Index:  5, REVG  / theStock:  REVG  @   2 earnDateRow.Index:  6, REVG  / theStock:  REVG  @   1 earnDateRow.Index:  7, \n",
      "Done.........\n",
      "10  -  SCS\n",
      "SCS  / theStock:  SCS  @   17 earnDateRow.Index:  0, SCS  / theStock:  SCS  @   16 earnDateRow.Index:  1, SCS  / theStock:  SCS  @   15 earnDateRow.Index:  2, SCS  / theStock:  SCS  @   14 earnDateRow.Index:  3, SCS  / theStock:  SCS  @   13 earnDateRow.Index:  4, SCS  / theStock:  SCS  @   12 earnDateRow.Index:  5, SCS  / theStock:  SCS  @   11 earnDateRow.Index:  6, SCS  / theStock:  SCS  @   10 earnDateRow.Index:  7, SCS  / theStock:  SCS  @   9 earnDateRow.Index:  8, SCS  / theStock:  SCS  @   8 earnDateRow.Index:  9, SCS  / theStock:  SCS  @   7 earnDateRow.Index:  10, SCS  / theStock:  SCS  @   6 earnDateRow.Index:  11, SCS  / theStock:  SCS  @   5 earnDateRow.Index:  12, SCS  / theStock:  SCS  @   4 earnDateRow.Index:  13, SCS  / theStock:  SCS  @   3 earnDateRow.Index:  14, SCS  / theStock:  SCS  @   2 earnDateRow.Index:  15, SCS  / theStock:  SCS  @   1 earnDateRow.Index:  16, \n",
      "Done.........\n",
      "11  -  PAYX\n",
      "PAYX  / theStock:  PAYX  @   14 earnDateRow.Index:  0, PAYX  / theStock:  PAYX  @   13 earnDateRow.Index:  1, PAYX  / theStock:  PAYX  @   12 earnDateRow.Index:  2, PAYX  / theStock:  PAYX  @   11 earnDateRow.Index:  3, PAYX  / theStock:  PAYX  @   10 earnDateRow.Index:  4, PAYX  / theStock:  PAYX  @   9 earnDateRow.Index:  5, PAYX  / theStock:  PAYX  @   8 earnDateRow.Index:  6, PAYX  / theStock:  PAYX  @   7 earnDateRow.Index:  7, PAYX  / theStock:  PAYX  @   6 earnDateRow.Index:  8, PAYX  / theStock:  PAYX  @   5 earnDateRow.Index:  9, PAYX  / theStock:  PAYX  @   4 earnDateRow.Index:  10, PAYX  / theStock:  PAYX  @   3 earnDateRow.Index:  11, PAYX  / theStock:  PAYX  @   2 earnDateRow.Index:  12, PAYX  / theStock:  PAYX  @   1 earnDateRow.Index:  13, \n",
      "Done.........\n",
      "12  -  MU\n",
      "MU  / theStock:  MU  @   12 earnDateRow.Index:  0, MU  / theStock:  MU  @   11 earnDateRow.Index:  1, MU  / theStock:  MU  @   10 earnDateRow.Index:  2, MU  / theStock:  MU  @   9 earnDateRow.Index:  3, MU  / theStock:  MU  @   8 earnDateRow.Index:  4, MU  / theStock:  MU  @   7 earnDateRow.Index:  5, MU  / theStock:  MU  @   6 earnDateRow.Index:  6, MU  / theStock:  MU  @   5 earnDateRow.Index:  7, MU  / theStock:  MU  @   4 earnDateRow.Index:  8, MU  / theStock:  MU  @   3 earnDateRow.Index:  9, MU  / theStock:  MU  @   2 earnDateRow.Index:  10, MU  / theStock:  MU  @   1 earnDateRow.Index:  11, \n",
      "Done.........\n",
      "13  -  ACN\n",
      "ACN  / theStock:  ACN  @   12 earnDateRow.Index:  0, ACN  / theStock:  ACN  @   11 earnDateRow.Index:  1, ACN  / theStock:  ACN  @   10 earnDateRow.Index:  2, ACN  / theStock:  ACN  @   9 earnDateRow.Index:  3, ACN  / theStock:  ACN  @   8 earnDateRow.Index:  4, ACN  / theStock:  ACN  @   7 earnDateRow.Index:  5, ACN  / theStock:  ACN  @   6 earnDateRow.Index:  6, ACN  / theStock:  ACN  @   5 earnDateRow.Index:  7, ACN  / theStock:  ACN  @   4 earnDateRow.Index:  8, ACN  / theStock:  ACN  @   3 earnDateRow.Index:  9, ACN  / theStock:  ACN  @   2 earnDateRow.Index:  10, ACN  / theStock:  ACN  @   1 earnDateRow.Index:  11, \n",
      "Done.........\n",
      "14  -  RAD\n",
      "RAD  / theStock:  RAD  @   15 earnDateRow.Index:  0, RAD  / theStock:  RAD  @   14 earnDateRow.Index:  1, RAD  / theStock:  RAD  @   13 earnDateRow.Index:  2, RAD  / theStock:  RAD  @   12 earnDateRow.Index:  3, RAD  / theStock:  RAD  @   11 earnDateRow.Index:  4, RAD  / theStock:  RAD  @   10 earnDateRow.Index:  5, RAD  / theStock:  RAD  @   9 earnDateRow.Index:  6, RAD  / theStock:  RAD  @   8 earnDateRow.Index:  7, RAD  / theStock:  RAD  @   7 earnDateRow.Index:  8, RAD  / theStock:  RAD  @   6 earnDateRow.Index:  9, RAD  / theStock:  RAD  @   5 earnDateRow.Index:  10, RAD  / theStock:  RAD  @   4 earnDateRow.Index:  11, RAD  / theStock:  RAD  @   3 earnDateRow.Index:  12, RAD  / theStock:  RAD  @   2 earnDateRow.Index:  13, RAD  / theStock:  RAD  @   1 earnDateRow.Index:  14, \n",
      "Done.........\n",
      "15  -  APOG\n",
      "APOG  / theStock:  APOG  @   12 earnDateRow.Index:  0, APOG  / theStock:  APOG  @   11 earnDateRow.Index:  1, APOG  / theStock:  APOG  @   10 earnDateRow.Index:  2, APOG  / theStock:  APOG  @   9 earnDateRow.Index:  3, APOG  / theStock:  APOG  @   8 earnDateRow.Index:  4, APOG  / theStock:  APOG  @   7 earnDateRow.Index:  5, APOG  / theStock:  APOG  @   6 earnDateRow.Index:  6, APOG  / theStock:  APOG  @   5 earnDateRow.Index:  7, APOG  / theStock:  APOG  @   4 earnDateRow.Index:  8, APOG  / theStock:  APOG  @   3 earnDateRow.Index:  9, APOG  / theStock:  APOG  @   2 earnDateRow.Index:  10, APOG  / theStock:  APOG  @   1 earnDateRow.Index:  11, \n",
      "Done.........\n",
      "16  -  CAG\n",
      "CAG  / theStock:  CAG  @   12 earnDateRow.Index:  0, CAG  / theStock:  CAG  @   11 earnDateRow.Index:  1, CAG  / theStock:  CAG  @   10 earnDateRow.Index:  2, CAG  / theStock:  CAG  @   9 earnDateRow.Index:  3, CAG  / theStock:  CAG  @   8 earnDateRow.Index:  4, CAG  / theStock:  CAG  @   7 earnDateRow.Index:  5, CAG  / theStock:  CAG  @   6 earnDateRow.Index:  6, CAG  / theStock:  CAG  @   5 earnDateRow.Index:  7, CAG  / theStock:  CAG  @   4 earnDateRow.Index:  8, CAG  / theStock:  CAG  @   3 earnDateRow.Index:  9, CAG  / theStock:  CAG  @   2 earnDateRow.Index:  10, CAG  / theStock:  CAG  @   1 earnDateRow.Index:  11, \n",
      "Done.........\n",
      "17  -  CAMP\n",
      "CAMP  / theStock:  CAMP  @   10 earnDateRow.Index:  0, CAMP  / theStock:  CAMP  @   9 earnDateRow.Index:  1, CAMP  / theStock:  CAMP  @   8 earnDateRow.Index:  2, CAMP  / theStock:  CAMP  @   7 earnDateRow.Index:  3, CAMP  / theStock:  CAMP  @   6 earnDateRow.Index:  4, CAMP  / theStock:  CAMP  @   5 earnDateRow.Index:  5, CAMP  / theStock:  CAMP  @   4 earnDateRow.Index:  6, CAMP  / theStock:  CAMP  @   3 earnDateRow.Index:  7, CAMP  / theStock:  CAMP  @   2 earnDateRow.Index:  8, CAMP  / theStock:  CAMP  @   1 earnDateRow.Index:  9, \n",
      "Done.........\n",
      "18  -  DRI\n",
      "DRI  / theStock:  DRI  @   12 earnDateRow.Index:  0, DRI  / theStock:  DRI  @   11 earnDateRow.Index:  1, DRI  / theStock:  DRI  @   10 earnDateRow.Index:  2, DRI  / theStock:  DRI  @   9 earnDateRow.Index:  3, DRI  / theStock:  DRI  @   8 earnDateRow.Index:  4, DRI  / theStock:  DRI  @   7 earnDateRow.Index:  5, DRI  / theStock:  DRI  @   6 earnDateRow.Index:  6, DRI  / theStock:  DRI  @   5 earnDateRow.Index:  7, DRI  / theStock:  DRI  @   4 earnDateRow.Index:  8, DRI  / theStock:  DRI  @   3 earnDateRow.Index:  9, DRI  / theStock:  DRI  @   2 earnDateRow.Index:  10, DRI  / theStock:  DRI  @   1 earnDateRow.Index:  11, \n",
      "Done.........\n",
      "19  -  FDS\n",
      "FDS  / theStock:  FDS  @   12 earnDateRow.Index:  0, FDS  / theStock:  FDS  @   11 earnDateRow.Index:  1, FDS  / theStock:  FDS  @   10 earnDateRow.Index:  2, FDS  / theStock:  FDS  @   9 earnDateRow.Index:  3, FDS  / theStock:  FDS  @   8 earnDateRow.Index:  4, FDS  / theStock:  FDS  @   7 earnDateRow.Index:  5, FDS  / theStock:  FDS  @   6 earnDateRow.Index:  6, FDS  / theStock:  FDS  @   5 earnDateRow.Index:  7, FDS  / theStock:  FDS  @   4 earnDateRow.Index:  8, FDS  / theStock:  FDS  @   3 earnDateRow.Index:  9, FDS  / theStock:  FDS  @   2 earnDateRow.Index:  10, FDS  / theStock:  FDS  @   1 earnDateRow.Index:  11, \n",
      "Done.........\n",
      "20  -  SAFM\n",
      "SAFM  / theStock:  SAFM  @   12 earnDateRow.Index:  0, SAFM  / theStock:  SAFM  @   11 earnDateRow.Index:  1, SAFM  / theStock:  SAFM  @   10 earnDateRow.Index:  2, SAFM  / theStock:  SAFM  @   9 earnDateRow.Index:  3, SAFM  / theStock:  SAFM  @   8 earnDateRow.Index:  4, SAFM  / theStock:  SAFM  @   7 earnDateRow.Index:  5, SAFM  / theStock:  SAFM  @   6 earnDateRow.Index:  6, SAFM  / theStock:  SAFM  @   5 earnDateRow.Index:  7, SAFM  / theStock:  SAFM  @   4 earnDateRow.Index:  8, SAFM  / theStock:  SAFM  @   3 earnDateRow.Index:  9, SAFM  / theStock:  SAFM  @   2 earnDateRow.Index:  10, SAFM  / theStock:  SAFM  @   1 earnDateRow.Index:  11, \n",
      "Done.........\n",
      "21  -  CUK\n",
      "CUK  / theStock:  CUK  @   3 earnDateRow.Index:  0, CUK  / theStock:  CUK  @   2 earnDateRow.Index:  1, CUK  / theStock:  CUK  @   1 earnDateRow.Index:  2, \n",
      "Done.........\n",
      "22  -  KMX\n",
      "KMX  / theStock:  KMX  @   12 earnDateRow.Index:  0, KMX  / theStock:  KMX  @   11 earnDateRow.Index:  1, KMX  / theStock:  KMX  @   10 earnDateRow.Index:  2, KMX  / theStock:  KMX  @   9 earnDateRow.Index:  3, KMX  / theStock:  KMX  @   8 earnDateRow.Index:  4, KMX  / theStock:  KMX  @   7 earnDateRow.Index:  5, KMX  / theStock:  KMX  @   6 earnDateRow.Index:  6, KMX  / theStock:  KMX  @   5 earnDateRow.Index:  7, KMX  / theStock:  KMX  @   4 earnDateRow.Index:  8, KMX  / theStock:  KMX  @   3 earnDateRow.Index:  9, KMX  / theStock:  KMX  @   2 earnDateRow.Index:  10, KMX  / theStock:  KMX  @   1 earnDateRow.Index:  11, \n",
      "Done.........\n",
      "23  -  WGO\n",
      "WGO  / theStock:  WGO  @   12 earnDateRow.Index:  0, WGO  / theStock:  WGO  @   11 earnDateRow.Index:  1, WGO  / theStock:  WGO  @   10 earnDateRow.Index:  2, WGO  / theStock:  WGO  @   9 earnDateRow.Index:  3, WGO  / theStock:  WGO  @   8 earnDateRow.Index:  4, WGO  / theStock:  WGO  @   7 earnDateRow.Index:  5, WGO  / theStock:  WGO  @   6 earnDateRow.Index:  6, WGO  / theStock:  WGO  @   5 earnDateRow.Index:  7, WGO  / theStock:  WGO  @   4 earnDateRow.Index:  8, WGO  / theStock:  WGO  @   3 earnDateRow.Index:  9, WGO  / theStock:  WGO  @   2 earnDateRow.Index:  10, WGO  / theStock:  WGO  @   1 earnDateRow.Index:  11, \n",
      "Done.........\n",
      "24  -  NKE\n",
      "NKE  / theStock:  NKE  @   12 earnDateRow.Index:  0, NKE  / theStock:  NKE  @   11 earnDateRow.Index:  1, NKE  / theStock:  NKE  @   10 earnDateRow.Index:  2, NKE  / theStock:  NKE  @   9 earnDateRow.Index:  3, NKE  / theStock:  NKE  @   8 earnDateRow.Index:  4, NKE  / theStock:  NKE  @   7 earnDateRow.Index:  5, NKE  / theStock:  NKE  @   6 earnDateRow.Index:  6, NKE  / theStock:  NKE  @   5 earnDateRow.Index:  7, NKE  / theStock:  NKE  @   4 earnDateRow.Index:  8, NKE  / theStock:  NKE  @   3 earnDateRow.Index:  9, NKE  / theStock:  NKE  @   2 earnDateRow.Index:  10, NKE  / theStock:  NKE  @   1 earnDateRow.Index:  11, \n",
      "Done.........\n"
     ],
     "output_type": "stream"
    }
   ],
   "source": [
    "theDaysCountPastEarnings = 2\n",
    "# get all the stocks for startday earning week\n",
    "earningsDFfromFile = pd.read_csv(inFile)\n",
    "\n",
    "count = 0\n",
    "\n",
    "for row in earningsDFfromFile.itertuples():    \n",
    "    print(count, ' - ', row.Symbol)\n",
    "\n",
    "    theStock = row.Symbol\n",
    "    yahoo_financials = YahooFinancials(theStock)\n",
    "    \n",
    "    # get a theStock past earnings dates info\n",
    "    yahooTheStocksPastEarningsDF = getCompanEarningsFromYahoo.getPastEarnings(theStock)\n",
    "    yahooTheStocksPastEarningsMarketDataDF = setup.addPastMarketData(yahooTheStocksPastEarningsDF)\n",
    "    \n",
    "    aStockOutFile = theDirectory + theStock  + csvSuffix\n",
    "    yahooTheStocksPastEarningsMarketDataDF.to_csv(aStockOutFile)\n",
    "    \n",
    "    count = count + 1    \n",
    "    \n",
    "    \n",
    "    \n",
    "# yahooTheStocksHistoricEarningDataDF = strat.getHistoricStockPrices(theStock, yahooTheStocksPastEarningsDF)\n",
    "# yahooTheStocksPastEarningsDF \n",
    "\n"
   ],
   "metadata": {
    "collapsed": false,
    "pycharm": {
     "name": "#%%\n",
     "is_executing": false
    }
   }
  },
  {
   "cell_type": "code",
   "execution_count": 5,
   "outputs": [
    {
     "name": "stdout",
     "text": [
      "{\n",
      "  \"shell_port\": 34099,\n",
      "  \"iopub_port\": 60647,\n",
      "  \"stdin_port\": 37361,\n",
      "  \"control_port\": 35255,\n",
      "  \"hb_port\": 56099,\n",
      "  \"ip\": \"127.0.0.1\",\n",
      "  \"key\": \"08dc35f9-36e86e8009f0f057740eca76\",\n",
      "  \"transport\": \"tcp\",\n",
      "  \"signature_scheme\": \"hmac-sha256\",\n",
      "  \"kernel_name\": \"\"\n",
      "}\n",
      "\n",
      "Paste the above JSON into a file, and connect with:\n",
      "    $> jupyter <app> --existing <file>\n",
      "or, if you are local, you can connect with just:\n",
      "    $> jupyter <app> --existing kernel-6e0a686c-0f18-434a-839b-f2a5e772012f.json\n",
      "or even just:\n",
      "    $> jupyter <app> --existing\n",
      "if this is the most recent Jupyter kernel you have started.\n"
     ],
     "output_type": "stream"
    }
   ],
   "source": [
    "%connect_info\n"
   ],
   "metadata": {
    "collapsed": false,
    "pycharm": {
     "name": "#%%\n",
     "is_executing": false
    }
   }
  },
  {
   "cell_type": "code",
   "execution_count": 5,
   "outputs": [],
   "source": [
    "\n"
   ],
   "metadata": {
    "collapsed": false,
    "pycharm": {
     "name": "#%%\n",
     "is_executing": false
    }
   }
  }
 ],
 "metadata": {
  "kernelspec": {
   "name": "pycharm-cf45a016",
   "language": "python",
   "display_name": "PyCharm (getEarningsFromYahoo)"
  },
  "language_info": {
   "codemirror_mode": {
    "name": "ipython",
    "version": 2
   },
   "file_extension": ".py",
   "mimetype": "text/x-python",
   "name": "python",
   "nbconvert_exporter": "python",
   "pygments_lexer": "ipython2",
   "version": "2.7.6"
  },
  "pycharm": {
   "stem_cell": {
    "cell_type": "raw",
    "source": [],
    "metadata": {
     "collapsed": false
    }
   }
  }
 },
 "nbformat": 4,
 "nbformat_minor": 0
}