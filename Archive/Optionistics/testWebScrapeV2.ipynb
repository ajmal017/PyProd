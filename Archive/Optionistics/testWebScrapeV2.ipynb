{
 "cells": [
  {
   "cell_type": "code",
   "execution_count": 1,
   "metadata": {
    "collapsed": true,
    "pycharm": {
     "is_executing": false
    }
   },
   "outputs": [
    {
     "data": {
      "text/plain": "0.18"
     },
     "metadata": {},
     "output_type": "execute_result",
     "execution_count": 1
    }
   ],
   "source": [
    "import pandas as pd\n",
    "import numpy as np\n",
    "import requests\n",
    "from bs4 import BeautifulSoup\n",
    "import math\n",
    "import sys\n",
    "sys.path.append('/home/michael/jupyter/local-packages')\n",
    "from localUtilities import dateUtils\n",
    "import pandas as pd\n",
    "import datetime\n",
    "\n",
    "# interactive Shell to see variables outside of print() function - \n",
    "#  if this is on one can suppress output by adding a ';' at end of line \n",
    "\n",
    "#   not 100% clear which variables this supresses \n",
    "from IPython.core.interactiveshell import InteractiveShell\n",
    "InteractiveShell.ast_node_interactivity = \"all\"\n",
    "\n",
    "s = requests.Session()\n",
    "aURL = \"http://www.optionistics.com/quotes/stock-quotes\"\n",
    "r = s.post(aURL,data={'symbol': 'FB'})\n",
    "\n",
    "# df = pd.read_html(r.content)[2:1]\n",
    "# print(df)      \n",
    "\n",
    "src = r.content\n",
    "soup = BeautifulSoup(src, 'html.parser')\n",
    "\n",
    "# \n",
    "# Find the earnings in the table with the id: 'fin-cal-table'\n",
    "for div_tag in soup.find_all('div', {'id': 'mainbody'}):\n",
    "    table = soup.find_all('table', {'class': 'quotem'}) \n",
    " \n",
    "df = pd.read_html(str(table))\n",
    "\n",
    "# df = df.iloc[0]\n",
    "lastMktValue = df[0][6][0]\n",
    "\n",
    "\n",
    "df = df[1]\n",
    "df = df.drop([0])\n",
    "part1 = df[df.columns[0:2]] \n",
    "\n",
    "part2 = df[df.columns[2:4]]\n",
    "part2.reset_index(inplace = True, drop=True)\n",
    "part2.columns = [0,1]\n",
    "\n",
    "part3 = df[df.columns[4:6]]\n",
    "part3.reset_index(inplace = True, drop=True)\n",
    "part3.columns = [0,1]\n",
    "\n",
    "result = pd.concat((part1, part2, part3))\n",
    "result.reset_index(drop=True, inplace=True)\n",
    "\n",
    "# set index to first column of our DF and remove default index \n",
    "result = result.set_index([0]) \n",
    "#create dictionary to access items \n",
    "#remove first layer to get to items\n",
    "res_dict = result.to_dict()\n",
    "res_dict = res_dict[1]\n",
    "res_dict\n",
    "res_dict.update({'Last':lastMktValue}) \n",
    "float(res_dict['IMPLIED VOLATILITY'])\n"
   ]
  },
  {
   "cell_type": "code",
   "execution_count": 20,
   "outputs": [],
   "source": [],
   "metadata": {
    "collapsed": false,
    "pycharm": {
     "name": "#%%\n",
     "is_executing": false
    }
   }
  },
  {
   "cell_type": "code",
   "execution_count": null,
   "outputs": [],
   "source": [
    "\n"
   ],
   "metadata": {
    "collapsed": false,
    "pycharm": {
     "name": "#%%\n"
    }
   }
  }
 ],
 "metadata": {
  "kernelspec": {
   "name": "pycharm-cf45a016",
   "language": "python",
   "display_name": "PyCharm (getEarningsFromYahoo)"
  },
  "language_info": {
   "codemirror_mode": {
    "name": "ipython",
    "version": 2
   },
   "file_extension": ".py",
   "mimetype": "text/x-python",
   "name": "python",
   "nbconvert_exporter": "python",
   "pygments_lexer": "ipython2",
   "version": "2.7.6"
  },
  "pycharm": {
   "stem_cell": {
    "cell_type": "raw",
    "source": [],
    "metadata": {
     "collapsed": false
    }
   }
  }
 },
 "nbformat": 4,
 "nbformat_minor": 0
}