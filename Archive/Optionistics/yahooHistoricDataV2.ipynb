{
 "cells": [
  {
   "cell_type": "code",
   "execution_count": 1,
   "metadata": {
    "collapsed": true
   },
   "outputs": [
    {
     "ename": "ImportError",
     "evalue": "cannot import name 'getOptionStrategyPrice' from 'localUtilities.ibUtils' (/home/michael/jupyter/local-packages/localUtilities/ibUtils/__init__.py)",
     "output_type": "error",
     "traceback": [
      "\u001B[0;31m---------------------------------------------------------------------------\u001B[0m",
      "\u001B[0;31mImportError\u001B[0m                               Traceback (most recent call last)",
      "\u001B[0;32m<ipython-input-1-1c2120dc8b57>\u001B[0m in \u001B[0;36m<module>\u001B[0;34m\u001B[0m\n\u001B[1;32m      1\u001B[0m \u001B[0;32mfrom\u001B[0m \u001B[0mlocalUtilities\u001B[0m\u001B[0;34m.\u001B[0m\u001B[0mwebScrape\u001B[0m \u001B[0;32mimport\u001B[0m \u001B[0mgetCompanEarningsFromYahoo\u001B[0m\u001B[0;34m\u001B[0m\u001B[0;34m\u001B[0m\u001B[0m\n\u001B[0;32m----> 2\u001B[0;31m \u001B[0;32mfrom\u001B[0m \u001B[0mlocalUtilities\u001B[0m\u001B[0;34m.\u001B[0m\u001B[0mibUtils\u001B[0m \u001B[0;32mimport\u001B[0m \u001B[0mgetOptionStrategyPrice\u001B[0m \u001B[0;32mas\u001B[0m \u001B[0mstrat\u001B[0m\u001B[0;34m\u001B[0m\u001B[0;34m\u001B[0m\u001B[0m\n\u001B[0m\u001B[1;32m      3\u001B[0m \u001B[0;34m\u001B[0m\u001B[0m\n\u001B[1;32m      4\u001B[0m \u001B[0;32mfrom\u001B[0m \u001B[0myahoofinancials\u001B[0m \u001B[0;32mimport\u001B[0m \u001B[0mYahooFinancials\u001B[0m\u001B[0;34m\u001B[0m\u001B[0;34m\u001B[0m\u001B[0m\n\u001B[1;32m      5\u001B[0m \u001B[0;34m\u001B[0m\u001B[0m\n",
      "\u001B[0;31mImportError\u001B[0m: cannot import name 'getOptionStrategyPrice' from 'localUtilities.ibUtils' (/home/michael/jupyter/local-packages/localUtilities/ibUtils/__init__.py)"
     ]
    }
   ],
   "source": [
    "from localUtilities.webScrape import getCompanEarningsFromYahoo\n",
    "from localUtilities.ibUtils import getOptionStrategyPrice as strat\n",
    "\n",
    "from yahoofinancials import YahooFinancials\n",
    "\n",
    "\n",
    "#   not 100% clear which variables this supresses \n",
    "from IPython.core.interactiveshell import InteractiveShell\n",
    "InteractiveShell.ast_node_interactivity = \"all\"\n",
    "\n",
    "ticker = 'AAPL'\n",
    "yahoo_financials = YahooFinancials(ticker)\n",
    "\n",
    "# balance_sheet_data_qt = yahoo_financials.get_financial_stmts('quarterly', 'balance')\n",
    "# income_statement_data_qt = yahoo_financials.get_financial_stmts('quarterly', 'income')\n",
    "# all_statement_data_qt =  yahoo_financials.get_financial_stmts('quarterly', ['income', 'cash', 'balance'])\n",
    "# \n",
    "# apple_earnings_data = yahoo_financials.get_stock_earnings_data()\n",
    "# # apple_net_income = yahoo_financials.get_net_income()\n",
    "historical_stock_prices = yahoo_financials.get_historical_price_data('2018-09-01', '2018-09-30', 'daily')\n",
    "# \n",
    "# type(historical_stock_prices)\n",
    "# historical_stock_prices.keys()\n",
    "# x = historical_stock_prices['AAPL']['prices']\n",
    "# x\n",
    "# x = pd.DataFrame(x)\n",
    "# x.set_index('formatted_date', inplace=True)\n",
    "# \n",
    "# x\n",
    "yahooEarningsDF = getCompanEarningsFromYahoo.getPastEarnings(ticker)\n",
    "# yahooEarningsDF\n",
    "# f = lambda x: dateUtils.getDateStringDashSeprtors(pd.to_datetime(x).to_pydatetime())\n",
    "# \n",
    "# z= dateUtils.getDateStringDashSeprtors(pd.to_datetime(yahooEarningsDF['Earnings_Date'][1]).to_pydatetime())\n",
    "# print(z)\n",
    "# print(yahooEarningsDF['Earnings_Date'][1])#.map(1)\n",
    "\n",
    "# ticker\n",
    "stockPrices = strat.getHistoricIVnPrice(ticker, yahooEarningsDF)\n",
    "# # earningsPastStock, earningsPastImpVol = strat.getHistoricIVnPrice(ticker, yahooEarningsDF)\n",
    "# # \n",
    "# stockPrices  = historical_stock_prices[ticker]['prices']\n",
    "print('-------------------------')\n",
    "# stockPrices = pd.DataFrame(stockPrices)\n",
    "stockPrices"
   ]
  },
  {
   "cell_type": "code",
   "execution_count": 0,
   "outputs": [],
   "source": [],
   "metadata": {
    "collapsed": false,
    "pycharm": {
     "name": "#%%\n",
     "is_executing": false
    }
   }
  },
  {
   "cell_type": "code",
   "execution_count": null,
   "outputs": [],
   "source": [
    "\n"
   ],
   "metadata": {
    "collapsed": false,
    "pycharm": {
     "name": "#%%\n"
    }
   }
  }
 ],
 "metadata": {
  "kernelspec": {
   "display_name": "Python 3",
   "language": "python",
   "name": "python3"
  },
  "language_info": {
   "codemirror_mode": {
    "name": "ipython",
    "version": 2
   },
   "file_extension": ".py",
   "mimetype": "text/x-python",
   "name": "python",
   "nbconvert_exporter": "python",
   "pygments_lexer": "ipython2",
   "version": "2.7.6"
  },
  "pycharm": {
   "stem_cell": {
    "cell_type": "raw",
    "source": [],
    "metadata": {
     "collapsed": false
    }
   }
  }
 },
 "nbformat": 4,
 "nbformat_minor": 0
}