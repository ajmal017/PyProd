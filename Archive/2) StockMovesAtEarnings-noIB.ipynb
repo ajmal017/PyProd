{
 "cells": [
  {
   "cell_type": "code",
   "execution_count": 1,
   "metadata": {
    "pycharm": {
     "is_executing": false
    }
   },
   "outputs": [
    {
     "name": "stderr",
     "text": [
      "Expected: %s to exist.\n",
      "NoneType: None\n"
     ],
     "output_type": "stream"
    }
   ],
   "source": [
    "import sys\n",
    "sys.path.append(\"/home/michael/pycharm/pycharm-2019.2.3/debug-eggs/pydevd-pycharm.egg\")\n",
    "\n",
    "import pydevd_pycharm\n",
    "pydevd_pycharm.settrace('192.168.1.200', port=2222, stdoutToServer=True, stderrToServer=True)\n",
    "\n",
    "sys.path.append('/home/michael/jupyter/local-packages')\n",
    "\n",
    "# Get my Utilities (localUtilities)\n",
    "from localUtilities.webScrape import getCompanEarningsFromYahoo\n",
    "from localUtilities.ibUtils import getStrategyPrice as strat\n",
    "\n",
    "\n",
    "import pandas as pd\n",
    "import datetime\n",
    "\n"
   ]
  },
  {
   "cell_type": "code",
   "execution_count": 2,
   "metadata": {
    "pycharm": {
     "is_executing": false
    }
   },
   "outputs": [
    {
     "data": {
      "text/plain": "'/home/michael/jupyter/earningDateData/Companies/2019-12-16/'"
     },
     "metadata": {},
     "output_type": "execute_result",
     "execution_count": 2
    }
   ],
   "source": [
    "startday = '2019-12-16'\n",
    "\n",
    "theDirectory = '/home/michael/jupyter/earningDateData/' + 'Companies/' + startday + '/' \n",
    "csvSuffix = '.csv'\n",
    "inFile = theDirectory + 'EarningOfInterestforweekOf-' + startday + csvSuffix\n",
    "\n",
    "theDirectory"
   ]
  },
  {
   "cell_type": "code",
   "execution_count": 3,
   "metadata": {
    "pycharm": {
     "is_executing": false
    }
   },
   "outputs": [
    {
     "data": {
      "text/plain": "'2019-12-21 14:53'"
     },
     "metadata": {},
     "output_type": "execute_result",
     "execution_count": 3
    }
   ],
   "source": [
    "datetime.datetime.now().strftime(\"%Y-%m-%d %H:%M\")"
   ]
  },
  {
   "cell_type": "code",
   "execution_count": null,
   "metadata": {
    "pycharm": {
     "is_executing": true
    }
   },
   "outputs": [
    {
     "name": "stdout",
     "text": [
      "0  -  AVXL\n"
     ],
     "output_type": "stream"
    }
   ],
   "source": [
    "theDaysCountPastEarnings = 2\n",
    "earningsDFfromFile = pd.read_csv(inFile)\n",
    "\n",
    "count = 0\n",
    "\n",
    "for row in earningsDFfromFile.itertuples():\n",
    "    print(count, ' - ', row.Symbol)\n",
    "    count = count + 1\n",
    "    theStock = row.Symbol\n",
    "    yahooEarningsDF = getCompanEarningsFromYahoo.getPastEarnings(theStock)\n",
    "\n",
    "    yahooEarningsDF = strat.getHistoricStockPrices(row.Symbol, yahooEarningsDF)\n",
    "    aStockOutFile = theDirectory + theStock  + csvSuffix\n",
    "    yahooEarningsDF.to_csv(aStockOutFile)\n",
    "yahooEarningsDF\n",
    "    "
   ]
  },
  {
   "cell_type": "code",
   "execution_count": null,
   "metadata": {
    "pycharm": {
     "is_executing": true
    }
   },
   "outputs": [],
   "source": [
    "datetime.datetime.now().strftime(\"%Y-%m-%d %H:%M\")"
   ]
  },
  {
   "cell_type": "code",
   "execution_count": null,
   "metadata": {
    "pycharm": {
     "is_executing": true
    }
   },
   "outputs": [],
   "source": [
    "earningsDFfromFile"
   ]
  },
  {
   "cell_type": "code",
   "execution_count": null,
   "metadata": {
    "pycharm": {
     "is_executing": true
    }
   },
   "outputs": [],
   "source": []
  }
 ],
 "metadata": {
  "kernelspec": {
   "name": "pycharm-cf45a016",
   "language": "python",
   "display_name": "PyCharm (getEarningsFromYahoo)"
  },
  "language_info": {
   "codemirror_mode": {
    "name": "ipython",
    "version": 3
   },
   "file_extension": ".py",
   "mimetype": "text/x-python",
   "name": "python",
   "nbconvert_exporter": "python",
   "pygments_lexer": "ipython3",
   "version": "3.7.4"
  },
  "pycharm": {
   "stem_cell": {
    "cell_type": "raw",
    "source": [],
    "metadata": {
     "collapsed": false
    }
   }
  }
 },
 "nbformat": 4,
 "nbformat_minor": 4
}