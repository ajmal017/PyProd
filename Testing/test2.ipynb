{
 "cells": [
  {
   "cell_type": "code",
   "execution_count": 2,
   "metadata": {
    "collapsed": true
   },
   "outputs": [
    {
     "name": "stdout",
     "output_type": "stream",
     "text": [
      "df ====================\n",
      "         type  degree  score\n",
      "Quack    cat    0.65     88\n",
      "Woof     Dog    0.09      3\n",
      "Huff   panda    0.20      5\n",
      "Meow   Goose    0.01      5 \n",
      "\n",
      "dfCopyDeep ============= \n",
      "         type  degree  score\n",
      "Quack    cat    0.65     88\n",
      "Woof     Dog    0.09      3\n",
      "Huff   panda    0.20      5\n",
      "Meow   Goose    0.01      5 \n",
      "\n",
      "dfCopyDShallow ========= \n",
      "         type  degree  score\n",
      "Quack    cat    0.65     88\n",
      "Woof     Dog    0.09      3\n",
      "Huff   panda    0.20      5\n",
      "Meow   Goose    0.01      5\n"
     ]
    }
   ],
   "source": [
    "\n",
    "\n",
    "import pandas as pd\n",
    "import dateUtils\n",
    "# dictionary of lists\n",
    "dict = {'type':[\"cat\", \"Dog\", \"panda\", \"Goose\"],\n",
    "        'degree': [.65, .09, .2, .01],\n",
    "        'score':[88, 3, 5, 5,]}\n",
    "\n",
    "df = pd.DataFrame(dict,\n",
    "                  index ={'Meow', 'Woof', 'Huff', 'Quack'})\n",
    "\n",
    "dfCopyDeep = df.copy(deep=True)\n",
    "dfCopyShallow = df.copy(deep=False)\n",
    "print('df ====================\\n', df,\n",
    "      '\\n\\ndfCopyDeep ============= \\n', dfCopyDeep,\n",
    "      '\\n\\ndfCopyDShallow ========= \\n', dfCopyShallow)"
   ]
  },
  {
   "cell_type": "code",
   "execution_count": 122,
   "outputs": [
    {
     "name": "stdout",
     "output_type": "stream",
     "text": [
      "==================================\n",
      "df.loc[row_indexer,column_indexer]\n",
      "==================================\n",
      "Woof    panda\n",
      "Meow    Goose\n",
      "Name: type, dtype: object\n",
      "88\n",
      "\n",
      "==================\n",
      "df[\"score\"]\n",
      "==================\n",
      "\n",
      "==================\n",
      "df.iloc[:]\n",
      "==================\n",
      "\n",
      "==================\n",
      "df.at[:]\n",
      "==================\n"
     ]
    },
    {
     "data": {
      "text/plain": "      type  degree  score\nQuack  cat    0.65     88\nHuff   Dog    0.09      3",
      "text/html": "<div>\n<style scoped>\n    .dataframe tbody tr th:only-of-type {\n        vertical-align: middle;\n    }\n\n    .dataframe tbody tr th {\n        vertical-align: top;\n    }\n\n    .dataframe thead th {\n        text-align: right;\n    }\n</style>\n<table border=\"1\" class=\"dataframe\">\n  <thead>\n    <tr style=\"text-align: right;\">\n      <th></th>\n      <th>type</th>\n      <th>degree</th>\n      <th>score</th>\n    </tr>\n  </thead>\n  <tbody>\n    <tr>\n      <th>Quack</th>\n      <td>cat</td>\n      <td>0.65</td>\n      <td>88</td>\n    </tr>\n    <tr>\n      <th>Huff</th>\n      <td>Dog</td>\n      <td>0.09</td>\n      <td>3</td>\n    </tr>\n  </tbody>\n</table>\n</div>"
     },
     "metadata": {},
     "output_type": "display_data"
    },
    {
     "data": {
      "text/plain": "0.65"
     },
     "metadata": {},
     "output_type": "display_data"
    },
    {
     "data": {
      "text/plain": "      type  degree  score\nQuack  cat    0.65     88\nHuff   Dog    0.09      3",
      "text/html": "<div>\n<style scoped>\n    .dataframe tbody tr th:only-of-type {\n        vertical-align: middle;\n    }\n\n    .dataframe tbody tr th {\n        vertical-align: top;\n    }\n\n    .dataframe thead th {\n        text-align: right;\n    }\n</style>\n<table border=\"1\" class=\"dataframe\">\n  <thead>\n    <tr style=\"text-align: right;\">\n      <th></th>\n      <th>type</th>\n      <th>degree</th>\n      <th>score</th>\n    </tr>\n  </thead>\n  <tbody>\n    <tr>\n      <th>Quack</th>\n      <td>cat</td>\n      <td>0.65</td>\n      <td>88</td>\n    </tr>\n    <tr>\n      <th>Huff</th>\n      <td>Dog</td>\n      <td>0.09</td>\n      <td>3</td>\n    </tr>\n  </tbody>\n</table>\n</div>"
     },
     "metadata": {},
     "output_type": "display_data"
    },
    {
     "data": {
      "text/plain": "0.65"
     },
     "metadata": {},
     "output_type": "display_data"
    }
   ],
   "source": [
    "print('==================================\\ndf.loc[row_indexer,column_indexer]\\n==================================')\n",
    "print(df.loc['Woof':'Meow','type'])\n",
    "print(df.loc['Quack','score'])\n",
    "\n",
    "print('\\n==================\\ndf[\"score\"]\\n==================')\n",
    "# display(df[0])\n",
    "\n",
    "print('\\n==================\\ndf.iloc[:]\\n==================')\n",
    "display(df.iloc[0:2])\n",
    "display(df.iloc[0,1])\n",
    "\n",
    "print('\\n==================\\ndf.at[:]\\n==================')\n",
    "display(df.iloc[0:2])\n",
    "display(df.iloc[0,1])\n"
   ],
   "metadata": {
    "collapsed": false,
    "pycharm": {
     "name": "#%%\n"
    }
   }
  },
  {
   "cell_type": "code",
   "execution_count": 123,
   "outputs": [
    {
     "data": {
      "text/plain": "        type  degree  score\nQuack    cat    0.65     88\nHuff     Dog    0.09      3\nWoof   panda    0.20    100\nMeow   Goose    0.01      5",
      "text/html": "<div>\n<style scoped>\n    .dataframe tbody tr th:only-of-type {\n        vertical-align: middle;\n    }\n\n    .dataframe tbody tr th {\n        vertical-align: top;\n    }\n\n    .dataframe thead th {\n        text-align: right;\n    }\n</style>\n<table border=\"1\" class=\"dataframe\">\n  <thead>\n    <tr style=\"text-align: right;\">\n      <th></th>\n      <th>type</th>\n      <th>degree</th>\n      <th>score</th>\n    </tr>\n  </thead>\n  <tbody>\n    <tr>\n      <th>Quack</th>\n      <td>cat</td>\n      <td>0.65</td>\n      <td>88</td>\n    </tr>\n    <tr>\n      <th>Huff</th>\n      <td>Dog</td>\n      <td>0.09</td>\n      <td>3</td>\n    </tr>\n    <tr>\n      <th>Woof</th>\n      <td>panda</td>\n      <td>0.20</td>\n      <td>100</td>\n    </tr>\n    <tr>\n      <th>Meow</th>\n      <td>Goose</td>\n      <td>0.01</td>\n      <td>5</td>\n    </tr>\n  </tbody>\n</table>\n</div>"
     },
     "execution_count": 123,
     "metadata": {},
     "output_type": "execute_result"
    }
   ],
   "source": [
    "df.at[\"Woof\", 'score'] = 100\n",
    "dfCopyDeep.at[\"Woof\", 'score'] = 200\n",
    "dfCopyShallow\n"
   ],
   "metadata": {
    "collapsed": false,
    "pycharm": {
     "name": "#%%\n"
    }
   }
  },
  {
   "cell_type": "code",
   "execution_count": 124,
   "outputs": [
    {
     "name": "stdout",
     "output_type": "stream",
     "text": [
      "df ====================\n",
      "         type  degree  score\n",
      "Quack    cat    0.65     88\n",
      "Huff     Dog    0.09      3\n",
      "Woof   panda    0.20    100\n",
      "Meow   Goose    0.01      5 \n",
      "\n",
      "dfCopyDeep ============= \n",
      "         type  degree  score\n",
      "Quack    cat    0.65     88\n",
      "Huff     Dog    0.09      3\n",
      "Woof   panda    0.20    200\n",
      "Meow   Goose    0.01      5 \n",
      "\n",
      "dfCopyDShallow ========= \n",
      "         type  degree  score\n",
      "Quack    cat    0.65     88\n",
      "Huff     Dog    0.09      3\n",
      "Woof   panda    0.20    100\n",
      "Meow   Goose    0.01      5\n"
     ]
    }
   ],
   "source": [
    "print('df ====================\\n', df,\n",
    "      '\\n\\ndfCopyDeep ============= \\n', dfCopyDeep,\n",
    "      '\\n\\ndfCopyDShallow ========= \\n', dfCopyShallow)"
   ],
   "metadata": {
    "collapsed": false,
    "pycharm": {
     "name": "#%%\n"
    }
   }
  },
  {
   "cell_type": "code",
   "execution_count": 3,
   "outputs": [
    {
     "data": {
      "text/plain": "'Wed, Jul 18'"
     },
     "execution_count": 3,
     "metadata": {},
     "output_type": "execute_result"
    }
   ],
   "source": [
    "dateUtils.getDayFormat(dateUtils.getDate('20180718'))\n",
    "\n",
    "\n"
   ],
   "metadata": {
    "collapsed": false,
    "pycharm": {
     "name": "#%%\n"
    }
   }
  },
  {
   "cell_type": "code",
   "execution_count": null,
   "outputs": [],
   "source": [
    "\n"
   ],
   "metadata": {
    "collapsed": false,
    "pycharm": {
     "name": "#%%\n"
    }
   }
  }
 ],
 "metadata": {
  "kernelspec": {
   "name": "pycharm-cf45a016",
   "language": "python",
   "display_name": "PyCharm (getEarningsFromYahoo)"
  },
  "language_info": {
   "codemirror_mode": {
    "name": "ipython",
    "version": 2
   },
   "file_extension": ".py",
   "mimetype": "text/x-python",
   "name": "python",
   "nbconvert_exporter": "python",
   "pygments_lexer": "ipython2",
   "version": "2.7.6"
  }
 },
 "nbformat": 4,
 "nbformat_minor": 0
}