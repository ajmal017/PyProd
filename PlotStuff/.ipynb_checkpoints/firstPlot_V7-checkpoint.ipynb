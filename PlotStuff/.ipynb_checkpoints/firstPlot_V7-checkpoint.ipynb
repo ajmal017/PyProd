{
 "cells": [
  {
   "cell_type": "code",
   "execution_count": 2,
   "metadata": {
    "pycharm": {
     "is_executing": false,
     "name": "#%%\n"
    }
   },
   "outputs": [
    {
     "name": "stderr",
     "output_type": "stream",
     "text": [
      "No handles with labels found to put in legend.\n",
      "No handles with labels found to put in legend.\n"
     ]
    },
    {
     "name": "stdout",
     "output_type": "stream",
     "text": [
      "Using matplotlib backend: Qt5Agg\n",
      "in getWeeklyExcelSummary\n"
     ]
    }
   ],
   "source": [
    "# import sys\n",
    "# sys.path.append(\"/home/michael/pycharm/pycharm-2019.2.3/debug-eggs/pydevd-pycharm.egg\")\n",
    "# \n",
    "# import pydevd_pycharm\n",
    "# pydevd_pycharm.settrace('192.168.1.200', port=2222, stdoutToServer=True, stderrToServer=True)\n",
    "%matplotlib\n",
    "\n",
    "import sys\n",
    "sys.path.append('/home/michael/jupyter/local-packages')\n",
    "\n",
    "from localUtilities.plotEarnings import getEarningsData\n",
    "# from plotEarnings import getEarningsD|ata \n",
    "\n",
    "# Starting Monday of earnings week\n",
    "startday = '2020-01-13'\n",
    "theStock = 'OZK'\n",
    "#Get weekly earnings\n",
    "theEarningsDataList =  getEarningsData.getWeeklyExcelSummary(startday, theStock)\n",
    "\n",
    "earnings1DayMove_np = theEarningsDataList[0]\n",
    "earnings4DayMove_np = theEarningsDataList[1]\n",
    "earningsMdate_np = theEarningsDataList[2]\n",
    "earnings1DayCandlestick  = theEarningsDataList[3]\n",
    "\n",
    "getEarningsData.plotEarnings(earningsMdate_np, earnings1DayMove_np, earnings4DayMove_np, theStock)\n",
    "\n"
   ]
  },
  {
   "cell_type": "code",
   "execution_count": null,
   "metadata": {
    "collapsed": false,
    "jupyter": {
     "outputs_hidden": false
    },
    "pycharm": {
     "name": "#%%\n"
    }
   },
   "outputs": [],
   "source": [
    "\n"
   ]
  },
  {
   "cell_type": "code",
   "execution_count": null,
   "metadata": {},
   "outputs": [],
   "source": []
  }
 ],
 "metadata": {
  "kernelspec": {
   "display_name": "PyCharm (getEarningsFromYahoo)",
   "language": "python",
   "name": "pycharm-cf45a016"
  },
  "language_info": {
   "codemirror_mode": {
    "name": "ipython",
    "version": 3
   },
   "file_extension": ".py",
   "mimetype": "text/x-python",
   "name": "python",
   "nbconvert_exporter": "python",
   "pygments_lexer": "ipython3",
   "version": "3.7.6"
  },
  "pycharm": {
   "stem_cell": {
    "cell_type": "raw",
    "metadata": {
     "collapsed": false
    },
    "source": []
   }
  }
 },
 "nbformat": 4,
 "nbformat_minor": 4
}
