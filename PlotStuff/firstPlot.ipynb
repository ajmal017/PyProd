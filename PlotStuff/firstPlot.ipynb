{
 "cells": [
  {
   "cell_type": "code",
   "execution_count": 1,
   "metadata": {
    "collapsed": true,
    "pycharm": {
     "is_executing": false
    }
   },
   "outputs": [
    {
     "data": {
      "text/plain": "<bound method DataFrame.reindex of nan Symbol        Earnings_Date         Company EPS_Estimate Reported_EPS  \\\n0     PSMT  2019-10-29 20:00:00  PriceSmart Inc         0.49         0.67   \n1     PSMT  2019-07-10 20:00:00  PriceSmart Inc         0.46         0.46   \n2     PSMT  2019-04-09 20:00:00  PriceSmart Inc         0.67         0.79   \n3     PSMT  2019-01-09 21:00:00  PriceSmart Inc         0.67         0.48   \n4     PSMT  2018-10-25 22:00:00  PriceSmart Inc         0.67         0.62   \n5     PSMT  2018-07-03 20:00:00  PriceSmart Inc         0.63         0.61   \n6     PSMT  2018-04-06 00:00:00  PriceSmart Inc         0.74         0.47   \n7     PSMT  2018-01-04 21:00:00  PriceSmart Inc         0.85         0.74   \n8     PSMT  2017-10-26 20:00:00  PriceSmart Inc         0.73         0.64   \n9     PSMT  2017-07-05 20:00:00  PriceSmart Inc         0.67         0.62   \n10    PSMT  2017-04-06 20:00:00  PriceSmart Inc         0.92          0.9   \n\nnan Surprise(%)   High   Open  Volume    Low ...   NaN  NaN  NaN  NaN  NaN  \\\n0         36.73  72.26  71.45  233000  70.54 ...   NaN  NaN  NaN  NaN  NaN   \n1           NaN  55.66  54.01  407800  53.49 ...   NaN  NaN  NaN  NaN  NaN   \n2         17.91  60.58  60.19  196200  59.27 ...   NaN  NaN  NaN  NaN  NaN   \n3        -28.36  64.84  62.77  259500  62.26 ...   NaN  NaN  NaN  NaN  NaN   \n4         -7.46  82.44  81.02  300600  80.34 ...   NaN  NaN  NaN  NaN  NaN   \n5         -3.17  91.75   90.2  133900  88.86 ...   NaN  NaN  NaN  NaN  NaN   \n6        -36.49  93.55  87.75  711600   85.6 ...   NaN  NaN  NaN  NaN  NaN   \n7        -12.94  88.95  86.85  230900  85.75 ...   NaN  NaN  NaN  NaN  NaN   \n8        -12.33  90.75   90.7  111800     89 ...   NaN  NaN  NaN  NaN  NaN   \n9         -7.46  88.55   87.3  232000  86.45 ...   NaN  NaN  NaN  NaN  NaN   \n10        -2.17     94   92.2  169500   92.2 ...   NaN  NaN  NaN  NaN  NaN   \n\nnan  NaN  NaN  NaN  NaN  NaN  \n0    NaN  NaN  NaN  NaN  NaN  \n1    NaN  NaN  NaN  NaN  NaN  \n2    NaN  NaN  NaN  NaN  NaN  \n3    NaN  NaN  NaN  NaN  NaN  \n4    NaN  NaN  NaN  NaN  NaN  \n5    NaN  NaN  NaN  NaN  NaN  \n6    NaN  NaN  NaN  NaN  NaN  \n7    NaN  NaN  NaN  NaN  NaN  \n8    NaN  NaN  NaN  NaN  NaN  \n9    NaN  NaN  NaN  NaN  NaN  \n10   NaN  NaN  NaN  NaN  NaN  \n\n[11 rows x 38 columns]>"
     },
     "metadata": {},
     "output_type": "execute_result",
     "execution_count": 1
    }
   ],
   "source": [
    "import sys\n",
    "sys.path.append('/home/michael/jupyter/local-packages')\n",
    "\n",
    "from localUtilities import dateUtils\n",
    "\n",
    "import pandas as pd\n",
    "\n",
    "import datetime\n",
    "\n",
    "# Save the data\n",
    "from pathlib import Path\n",
    "\n",
    "theBaseCompaniesDirectory = '/home/michael/jupyter/earningDateData/Companies/'\n",
    "csvSuffix = '.csv'\n",
    "excelSuffix = '.xlxs'\n",
    "\n",
    "startday = '2020-01-06' \n",
    "\n",
    "# Get saved data\n",
    "companyEarningsWeek = startday + '/'\n",
    "companyListFile = 'SummaryWeekOf-' + startday + excelSuffix\n",
    "x = theBaseCompaniesDirectory + companyEarningsWeek\n",
    "earningWeekDir = Path(x)\n",
    "\n",
    "excelEarningsDateDF =  pd.read_excel('/home/michael/jupyter/earningDateData/Companies/2020-01-06/SummaryWeekOf-2020-01-06.xlsx', 'PSMT')\n",
    "\n",
    "excelCurrentEarningsDateDF = excelEarningsDateDF.iloc[0:1,]\n",
    "excelPastEarningsDateDF = excelEarningsDateDF.iloc[2:,]\n",
    "\n",
    "headers = excelPastEarningsDateDF.iloc[0]\n",
    "excelPastEarningsDateDF  = pd.DataFrame(excelPastEarningsDateDF.values[1:], columns=headers)\n",
    "\n",
    "excelPastEarningsDateDF.reindex\n"
   ]
  },
  {
   "cell_type": "code",
   "execution_count": 4,
   "outputs": [
    {
     "data": {
      "text/plain": "<Figure size 1080x432 with 2 Axes>",
      "image/png": "[encoded data removed]"
     },
     "metadata": {
      "needs_background": "light"
     },
     "output_type": "display_data"
    }
   ],
   "source": [
    "import itertools\n",
    "from IPython.display import display, HTML\n",
    "\n",
    "# matplotlib imports\n",
    "import matplotlib.pyplot as plt\n",
    "import matplotlib.dates as mdates\n",
    "from matplotlib.dates import DateFormatter\n",
    "from matplotlib.ticker import (MultipleLocator, FormatStrFormatter,\n",
    "                               AutoMinorLocator)\n",
    "from matplotlib.dates import AutoDateFormatter, AutoDateLocator\n",
    "\n",
    "colorStock = 'tab:blue'\n",
    "colorImpVol = 'tab:red'\n",
    "xLabel = 'Days Around Earnings'\n",
    "yLabel1DayStockMove = 'Stock % Delta @ 1 Day Close Price';\n",
    "yLabel4DayStockMove = 'Stock % Delta @ 4 Day Close Price';\n",
    "ax1LegendLabel = \"1-Day % Move\"\n",
    "ax2LegendLabel = \"4-Day % Move\"\n",
    "\n",
    "# mdates.AutoDateLocator(minticks=0, maxticks=5)\n",
    "# formatter = mdates.ConciseDateFormatter(locator)\n",
    "#locator = AutoDateLocator()\n",
    "# formatter = AutoDateFormatter(locator)\n",
    "locator = mdates.AutoDateLocator(minticks=1, maxticks=5)\n",
    "# locator.intervald[3] = [1] \n",
    "formatter = mdates.ConciseDateFormatter(locator)\n",
    "myFmt = DateFormatter(\"%b-%d-%Y\")\n",
    "\n",
    "# single Plot\n",
    "theStock = excelPastEarningsDateDF.iloc[0,0]\n",
    "fig, ax1 = plt.subplots(figsize=(15,6)); \n",
    "\n",
    "#     display(listOfEarningDeltas[earn]) #to show Deltas\n",
    "for earn in range(10, len(excelPastEarningsDateDF)): # for all the dates in earningsCalendar\n",
    "\n",
    "    earningDateString = excelPastEarningsDateDF['Earnings_Date'][earn]\n",
    "    earningDateString = earningDateString[:10]\n",
    "    \n",
    "    theTitle = theStock + \" Stock \"+ \" / Earnings Date: \" + earningDateString\n",
    "    impVolDataHeaderStockString = '<hr> <strong><span style=\"color: #ff0000; font-family: arial, helvetica, sans-serif; font-size: large;\"> ' + theStock \n",
    "\n",
    "    dataHeaderEarningDateString = '<br></span></strong><span style=\"font-size: small; color: #008000;\"><strong><span style=\"font-family: arial, helvetica, sans-serif;\">Earning Date &#9884 ' \\\n",
    "    + earningDateString + '<hr> '\n",
    "    \n",
    "    impVolDataHeader = impVolDataHeaderStockString  + ' &#9830; ImpVol ' + dataHeaderEarningDateString\n",
    "    \n",
    "    priceHeaderDataHeaderStockString = '<hr> <strong><span style=\"color: blue; font-family: arial, helvetica, sans-serif; font-size: large;\"> ' + theStock \n",
    "\n",
    "    priceHeader = priceHeaderDataHeaderStockString  + ' &#9830; Price ' + dataHeaderEarningDateString\n",
    "\n",
    "#    display(HTML(priceHeader))\n",
    "\n",
    "#     display(onEarningDatePastdf)\n",
    "    ax1.set_title(theTitle);\n",
    "\n",
    "    #display(excelPastEarningsDateDF.EDFwd1DayClosePercentDelta[earn], excelPastEarningsDateDF['Earnings_Date'][earn])\n",
    "   \n",
    "    ax1.set_xlabel(xLabel);\n",
    "    ax1.set_ylabel(yLabel1DayStockMove, color=colorStock);\n",
    "    ax1.plot(earningDateString, excelPastEarningsDateDF.EDFwd1DayClosePercentDelta[earn], color=colorStock, label=ax1LegendLabel);\n",
    "    ax1.tick_params(axis='y', labelcolor=colorStock);\n",
    "    ax1.grid(True);       \n",
    "    \n",
    "# instantiate a second axes that shares the same x-axis\n",
    "    ax2 = ax1.twinx();\n",
    "    ax2.set_ylabel(yLabel4DayStockMove, color=colorImpVol)  # we already handled the x-label with ax1\n",
    "\n",
    "    ax2.plot(earningDateString, excelPastEarningsDateDF.EDFwd4DayClosePercentDelta[earn], color=colorImpVol, label=ax2LegendLabel)\n",
    "    ax2.tick_params(axis='y', labelcolor=colorImpVol)\n",
    "\n",
    "    #build Legend for 2 Xaxis\n",
    "    lines1, labels1 = ax1.get_legend_handles_labels()\n",
    "    lines2, labels2 = ax2.get_legend_handles_labels()\n",
    "    ax2.legend(lines1 + lines2, labels1 + labels2, bbox_to_anchor=(1.0, 1.1))\n",
    " \n",
    "         #set up Major/Minor xAxis \n",
    "    # ax1.xaxis.set_major_locator(locator)\n",
    "    # ax1.xaxis.set_major_formatter(formatter)\n",
    "        # Format xAxis Date\n",
    "    # ax1.xaxis.set_major_formatter(myFmt)\n",
    "    ax1.tick_params(which='major', length=10)\n",
    "    ax1.tick_params(which='minor', length=4, color='b')\n",
    "    # # ax1.xaxis.set_minor_locator(AutoMinorLocator())\n",
    "    \n",
    "    ax1.axvspan(mdates.date2num(dateUtils.getDateFromISO8601(excelPastEarningsDateDF.Earnings_Date[earn])),\n",
    "                mdates.date2num(dateUtils.getDateFromISO8601(excelPastEarningsDateDF.Earnings_Date[earn])+datetime.timedelta(days=1)),\n",
    "                facecolor='g', alpha=0.5)\n",
    "    ax1.axvspan(mdates.date2num(dateUtils.getDateFromISO8601(excelPastEarningsDateDF.Earnings_Date[earn])+datetime.timedelta(days=3)),\n",
    "                mdates.date2num(dateUtils.getDateFromISO8601(excelPastEarningsDateDF.Earnings_Date[earn])+datetime.timedelta(days=10)),\n",
    "                facecolor='aqua', alpha=0.5)\n",
    "    \n",
    "    fig.autofmt_xdate()\n",
    "    plt.show()\n",
    "#     display(listOfEarningDeltas[earn]) #to show Deltas"
   ],
   "metadata": {
    "collapsed": false,
    "pycharm": {
     "name": "#%%\n",
     "is_executing": false
    }
   }
  },
  {
   "cell_type": "code",
   "execution_count": null,
   "outputs": [],
   "source": [
    "\n"
   ],
   "metadata": {
    "collapsed": false,
    "pycharm": {
     "name": "#%%\n"
    }
   }
  }
 ],
 "metadata": {
  "kernelspec": {
   "name": "pycharm-cf45a016",
   "language": "python",
   "display_name": "PyCharm (getEarningsFromYahoo)"
  },
  "language_info": {
   "codemirror_mode": {
    "name": "ipython",
    "version": 2
   },
   "file_extension": ".py",
   "mimetype": "text/x-python",
   "name": "python",
   "nbconvert_exporter": "python",
   "pygments_lexer": "ipython2",
   "version": "2.7.6"
  },
  "pycharm": {
   "stem_cell": {
    "cell_type": "raw",
    "source": [],
    "metadata": {
     "collapsed": false
    }
   }
  }
 },
 "nbformat": 4,
 "nbformat_minor": 0
}