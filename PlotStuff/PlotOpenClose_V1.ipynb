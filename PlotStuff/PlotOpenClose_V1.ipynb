{
 "cells": [
  {
   "cell_type": "code",
   "execution_count": 1,
   "metadata": {
    "pycharm": {
     "name": "#%%\n"
    }
   },
   "outputs": [
    {
     "name": "stdout",
     "output_type": "stream",
     "text": [
      "in getWeeklyExcelSummary\n"
     ]
    }
   ],
   "source": [
    "%matplotlib qt\n",
    "\n",
    "# import sys\n",
    "# sys.path.append(\"/home/michael/pycharm/pycharm-2019.2.3/debug-eggs/pydevd-pycharm.egg\")\n",
    "#\n",
    "# import pydevd_pycharm\n",
    "# pydevd_pycharm.settrace('192.168.1.200', port=2222, stdoutToServer=True, stderrToServer=True)\n",
    "\n",
    "import sys\n",
    "sys.path.append('/home/michael/jupyter/local-packages')\n",
    "\n",
    "import matplotlib.pyplot as plt\n",
    "import matplotlib.dates as mdates\n",
    "\n",
    "theStock = 'ORCL'\n",
    "\n",
    "# Matplotlib Financial Plotting \n",
    "import mplfinance as mpf\n",
    "\n",
    "from plotEarnings import getEarningsOpenCloseData as dailyData\n",
    "\n",
    "# Starting Monday of earnings week\n",
    "startday = '2020-06-15'\n",
    "\n",
    "#Get weekly earnings\n",
    "theEarningsDataList =  dailyData.getWeeklyExcelSummary(startday, theStock)\n",
    "\n",
    "earningsMdate_np = theEarningsDataList[0]\n",
    "earningsDayOpen_np = theEarningsDataList[1]\n",
    "earningsEDFwd1DayOpen_np = theEarningsDataList[2]\n",
    "\n"
   ]
  },
  {
   "cell_type": "code",
   "execution_count": 2,
   "outputs": [
    {
     "data": {
      "text/plain": "[array([737496., 737405., 737313., 737229., 737132., 737045., 736954.,\n        736864., 736772., 736772., 736677., 736677., 736586., 736586.,\n        736501., 736501., 736403., 736403., 736313., 736222., 736131.,\n        736038., 735948., 735857., 735766., 735674., 735584., 735494.,\n        735403., 735310., 735220., 735129., 735039., 734947., 734855.,\n        734766., 734672., 734582., 734491., 734400., 734311., 734220.,\n        734122., 734031., 733947., 733856., 733758., 733666., 733581.,\n        733484., 733394., 733303., 733218., 733127., 733029., 732939.,\n        732853., 732755., 732663., 732573., 732484., 732390., 732295.,\n        732211., 732126., 732027., 731928., 731838., 731747., 731651.,\n        731564., 731470., 731378., 731292., 731202., 731110., 731019.,\n        730923., 730832., 730741., 730654., 730559., 730468., 730377.,\n        730291., 730193., 730102., 730011., 729920., 729824., 729733.,\n        729642., 729557., 729460., 729366., 729283.]),\n array([41.12, 56.3, 55.27, 52.75, 52.98, 46.42, 49.31, 45.84, 52.43,\n        52.43, 50.14, 50.14, 52.76, 52.76, 46.15, 46.15, 42.9, 42.9, 40.95,\n        40.18, 38.36, 38.35, 38.67, 38.26, 44.86, 43.11, 41.06, 41.35,\n        42.93, 38.37, 33.87, 33.21, nan, nan, nan, nan, nan, nan, nan, nan,\n        nan, nan, nan, nan, nan, nan, nan, nan, nan, nan, nan, nan, nan,\n        nan, nan, nan, nan, nan, nan, nan, nan, nan, nan, nan, nan, nan,\n        nan, nan, nan, nan, nan, nan, nan, nan, nan, nan, nan, nan, nan,\n        nan, nan, nan, nan, nan, nan, nan, nan, nan, nan, nan, nan, nan,\n        nan, nan, nan, nan], dtype=object),\n array([44.45, 55, 54.34, 55.98, 51.4, 48.1, 47.51, 43.51, 46.8, 46.8,\n        48.48, 48.48, 50.65, 50.65, 46.33, 46.33, 46.39, 46.39, 40.22,\n        39.61, 39.49, 39.55, 38.09, 38.27, 41.91, 44.3, 43.83, 40.58,\n        40.26, 37.8, 35.52, 33.64, nan, nan, nan, nan, nan, nan, nan, nan,\n        nan, nan, nan, nan, nan, nan, nan, nan, nan, nan, nan, nan, nan,\n        nan, nan, nan, nan, nan, nan, nan, nan, nan, nan, nan, nan, nan,\n        nan, nan, nan, nan, nan, nan, nan, nan, nan, nan, nan, nan, nan,\n        nan, nan, nan, nan, nan, nan, nan, nan, nan, nan, nan, nan, nan,\n        nan, nan, nan, nan], dtype=object)]"
     },
     "execution_count": 2,
     "metadata": {},
     "output_type": "execute_result"
    }
   ],
   "source": [
    "theEarningsDataList\n"
   ],
   "metadata": {
    "collapsed": false,
    "pycharm": {
     "name": "#%%\n"
    }
   }
  },
  {
   "cell_type": "code",
   "execution_count": 3,
   "metadata": {
    "collapsed": false,
    "jupyter": {
     "outputs_hidden": false
    },
    "pycharm": {
     "name": "#%%\n"
    }
   },
   "outputs": [
    {
     "ename": "AttributeError",
     "evalue": "'str' object has no attribute 'pop'",
     "output_type": "error",
     "traceback": [
      "\u001B[0;31m---------------------------------------------------------------------------\u001B[0m",
      "\u001B[0;31mAttributeError\u001B[0m                            Traceback (most recent call last)",
      "\u001B[0;32m<ipython-input-3-7e4da0151076>\u001B[0m in \u001B[0;36m<module>\u001B[0;34m\u001B[0m\n\u001B[1;32m     32\u001B[0m \u001B[0;34m\u001B[0m\u001B[0m\n\u001B[1;32m     33\u001B[0m \u001B[0;31m# Title\u001B[0m\u001B[0;34m\u001B[0m\u001B[0;34m\u001B[0m\u001B[0;34m\u001B[0m\u001B[0m\n\u001B[0;32m---> 34\u001B[0;31m \u001B[0max1\u001B[0m\u001B[0;34m.\u001B[0m\u001B[0mset_title\u001B[0m\u001B[0;34m(\u001B[0m\u001B[0mtheStock\u001B[0m\u001B[0;34m,\u001B[0m \u001B[0;34m' Open - Close'\u001B[0m\u001B[0;34m)\u001B[0m\u001B[0;34m\u001B[0m\u001B[0;34m\u001B[0m\u001B[0m\n\u001B[0m\u001B[1;32m     35\u001B[0m \u001B[0;34m\u001B[0m\u001B[0m\n\u001B[1;32m     36\u001B[0m \u001B[0;31m# Set up X and Y1 Labels and Ticks\u001B[0m\u001B[0;34m\u001B[0m\u001B[0;34m\u001B[0m\u001B[0;34m\u001B[0m\u001B[0m\n",
      "\u001B[0;32m/usr/local/lib/python3.7/dist-packages/matplotlib/axes/_axes.py\u001B[0m in \u001B[0;36mset_title\u001B[0;34m(self, label, fontdict, loc, pad, **kwargs)\u001B[0m\n\u001B[1;32m    210\u001B[0m         \u001B[0mtitle\u001B[0m\u001B[0;34m.\u001B[0m\u001B[0mupdate\u001B[0m\u001B[0;34m(\u001B[0m\u001B[0mdefault\u001B[0m\u001B[0;34m)\u001B[0m\u001B[0;34m\u001B[0m\u001B[0;34m\u001B[0m\u001B[0m\n\u001B[1;32m    211\u001B[0m         \u001B[0;32mif\u001B[0m \u001B[0mfontdict\u001B[0m \u001B[0;32mis\u001B[0m \u001B[0;32mnot\u001B[0m \u001B[0;32mNone\u001B[0m\u001B[0;34m:\u001B[0m\u001B[0;34m\u001B[0m\u001B[0;34m\u001B[0m\u001B[0m\n\u001B[0;32m--> 212\u001B[0;31m             \u001B[0mtitle\u001B[0m\u001B[0;34m.\u001B[0m\u001B[0mupdate\u001B[0m\u001B[0;34m(\u001B[0m\u001B[0mfontdict\u001B[0m\u001B[0;34m)\u001B[0m\u001B[0;34m\u001B[0m\u001B[0;34m\u001B[0m\u001B[0m\n\u001B[0m\u001B[1;32m    213\u001B[0m         \u001B[0mtitle\u001B[0m\u001B[0;34m.\u001B[0m\u001B[0mupdate\u001B[0m\u001B[0;34m(\u001B[0m\u001B[0mkwargs\u001B[0m\u001B[0;34m)\u001B[0m\u001B[0;34m\u001B[0m\u001B[0;34m\u001B[0m\u001B[0m\n\u001B[1;32m    214\u001B[0m         \u001B[0;32mreturn\u001B[0m \u001B[0mtitle\u001B[0m\u001B[0;34m\u001B[0m\u001B[0;34m\u001B[0m\u001B[0m\n",
      "\u001B[0;32m/usr/local/lib/python3.7/dist-packages/matplotlib/text.py\u001B[0m in \u001B[0;36mupdate\u001B[0;34m(self, kwargs)\u001B[0m\n\u001B[1;32m    174\u001B[0m         \u001B[0;31m# Update bbox last, as it depends on font properties.\u001B[0m\u001B[0;34m\u001B[0m\u001B[0;34m\u001B[0m\u001B[0;34m\u001B[0m\u001B[0m\n\u001B[1;32m    175\u001B[0m         \u001B[0msentinel\u001B[0m \u001B[0;34m=\u001B[0m \u001B[0mobject\u001B[0m\u001B[0;34m(\u001B[0m\u001B[0;34m)\u001B[0m  \u001B[0;31m# bbox can be None, so use another sentinel.\u001B[0m\u001B[0;34m\u001B[0m\u001B[0;34m\u001B[0m\u001B[0m\n\u001B[0;32m--> 176\u001B[0;31m         \u001B[0mbbox\u001B[0m \u001B[0;34m=\u001B[0m \u001B[0mkwargs\u001B[0m\u001B[0;34m.\u001B[0m\u001B[0mpop\u001B[0m\u001B[0;34m(\u001B[0m\u001B[0;34m\"bbox\"\u001B[0m\u001B[0;34m,\u001B[0m \u001B[0msentinel\u001B[0m\u001B[0;34m)\u001B[0m\u001B[0;34m\u001B[0m\u001B[0;34m\u001B[0m\u001B[0m\n\u001B[0m\u001B[1;32m    177\u001B[0m         \u001B[0msuper\u001B[0m\u001B[0;34m(\u001B[0m\u001B[0;34m)\u001B[0m\u001B[0;34m.\u001B[0m\u001B[0mupdate\u001B[0m\u001B[0;34m(\u001B[0m\u001B[0mkwargs\u001B[0m\u001B[0;34m)\u001B[0m\u001B[0;34m\u001B[0m\u001B[0;34m\u001B[0m\u001B[0m\n\u001B[1;32m    178\u001B[0m         \u001B[0;32mif\u001B[0m \u001B[0mbbox\u001B[0m \u001B[0;32mis\u001B[0m \u001B[0;32mnot\u001B[0m \u001B[0msentinel\u001B[0m\u001B[0;34m:\u001B[0m\u001B[0;34m\u001B[0m\u001B[0;34m\u001B[0m\u001B[0m\n",
      "\u001B[0;31mAttributeError\u001B[0m: 'str' object has no attribute 'pop'"
     ]
    }
   ],
   "source": [
    "#=============================================================================================\n",
    "locator = mdates.AutoDateLocator()\n",
    "formatter = mdates.ConciseDateFormatter(locator)\n",
    "formatter.formats = [\"%b-%d-%Y\"]\n",
    "\n",
    "# X Axes setup\n",
    "xLabelColor = 'maroon'\n",
    "xLabel = 'Timeline'\n",
    "\n",
    "# Y1 Setup\n",
    "y1_LegendLabelAfter = \"Open After Earnings\"\n",
    "y1_LegendLabelBefore = \"Open Before Earnings\"\n",
    "y1_LabelColor =  'darkgreen'\n",
    "y1_Label = 'Stock Open Price'\n",
    "y1_color1DayStockMove = 'tab:blue'\n",
    "y1_color4DayStockMove = 'darkorange'\n",
    "\n",
    "# Zero Line \n",
    "zeroPointLabel = '@ 0.0'\n",
    "\n",
    "# Y2 Setup\n",
    "y2_LegendLabel = \"1-Day $ Move\"\n",
    "y2_LabelColor =  'g'\n",
    "y2_Label = '1-Day $ Move'\n",
    "#  Y2 Setup\n",
    "y2Label =  'Stock $ Move on 1-Day'\n",
    "\n",
    "fig, ax1 = plt.subplots(figsize=(15,6))\n",
    "\n",
    "# single Plot\n",
    "# theStock = excelPastEarningsDateDF.iloc[0,0]\n",
    "\n",
    "# Title    \n",
    "ax1.set_title(theStock, ' Open - Close')\n",
    "\n",
    "# Set up X and Y1 Labels and Ticks\n",
    "ax1.set_xlabel(xLabel, color=xLabelColor)\n",
    "ax1.set_ylabel(y1_Label, color=y1_LabelColor)\n",
    "ax1.tick_params(axis='y', labelcolor=y1_LabelColor)\n",
    "ax1.tick_params(axis='x', labelcolor=xLabelColor)\n",
    "\n",
    "# Y1 Date format setup\n",
    "ax1.xaxis.set_major_formatter(mdates.DateFormatter(\"%b-%d-%Y\"))\n",
    "\n",
    "# Plot Y1 - 's' indicates scatter - no line\n",
    "ax1.plot(earningsMdate_np, earningsEDFwd1DayOpen_np, 's', color=y1_color1DayStockMove,\n",
    "         label=y1_LegendLabelAfter,   marker='_' )\n",
    "# ax1.plot(earningsMdate_np, earningsDayOpen_np, 'color=y1_color4DayStockMove,\n",
    "#          label=y1_LegendLabelBefore,  linestyle='-', marker='>' )\n",
    "# plt.axhline(y=0,color='gold',linestyle=':', label=zeroPointLabel)\n",
    "\n",
    "# Y2 setup\n",
    "# instantiate a second axes that shares the same x-axis\n",
    "ax2 = ax1.twinx()\n",
    "ax2.set_ylabel(y2Label, color=y2_LabelColor)  # we already handled the x-label with ax1\n",
    "\n",
    "# ax2.plot(earningDateString, excelPastEarningsDateDF.EDFwd4DayClosePercentDelta[earn], color=color4DayStockMove, label=ax2LegendLabel)\n",
    "# ax2.tick_params(axis='y', labelcolor=color4DayStockMove)\n",
    "\n",
    "#build Legend for 2 Xaxis\n",
    "lines1, labels1 = ax1.get_legend_handles_labels()\n",
    "# lines2, labels2 = ax2.get_legend_handles_labels()\n",
    "ax1.legend(bbox_to_anchor=(1.1, 1.1))\n",
    "\n",
    "fig.autofmt_xdate()\n",
    "plt.show()"
   ]
  },
  {
   "cell_type": "code",
   "execution_count": null,
   "metadata": {
    "collapsed": false,
    "jupyter": {
     "outputs_hidden": false
    },
    "pycharm": {
     "name": "#%%\n"
    }
   },
   "outputs": [],
   "source": [
    "\n",
    "    #build Legend for 2 Xaxis\n",
    "    lines1, labels1 = ax1.get_legend_handles_labels()\n",
    "    lines2, labels2 = ax2.get_legend_handles_labels()\n",
    "    ax2.legend(lines1 + lines2, labels1 + labels2, bbox_to_anchor=(1.0, 1.1))"
   ]
  },
  {
   "cell_type": "code",
   "execution_count": null,
   "outputs": [],
   "source": [
    "\n"
   ],
   "metadata": {
    "collapsed": false,
    "pycharm": {
     "name": "#%%\n"
    }
   }
  }
 ],
 "metadata": {
  "kernelspec": {
   "display_name": "PyCharm (getEarningsFromYahoo)",
   "language": "python",
   "name": "pycharm-cf45a016"
  },
  "language_info": {
   "codemirror_mode": {
    "name": "ipython",
    "version": 3
   },
   "file_extension": ".py",
   "mimetype": "text/x-python",
   "name": "python",
   "nbconvert_exporter": "python",
   "pygments_lexer": "ipython3",
   "version": "3.7.6"
  }
 },
 "nbformat": 4,
 "nbformat_minor": 4
}